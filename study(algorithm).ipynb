{
  "nbformat": 4,
  "nbformat_minor": 0,
  "metadata": {
    "colab": {
      "name": "study(algorithm).ipynb",
      "provenance": [],
      "authorship_tag": "ABX9TyMXK8eEaK0usYzP5eC7ZhFZ"
    },
    "kernelspec": {
      "name": "python3",
      "display_name": "Python 3"
    },
    "language_info": {
      "name": "python"
    }
  },
  "cells": [
    {
      "cell_type": "code",
      "metadata": {
        "colab": {
          "base_uri": "https://localhost:8080/"
        },
        "id": "ek37wESFbHjp",
        "outputId": "85cbe99e-6fe2-4a48-fe96-8127f7cd790d"
      },
      "source": [
        "# 백준 1920\n",
        "# 5\n",
        "# 4 1 5 2 3\n",
        "# 5 \n",
        "# 1 3 7 9 5\n",
        "\n",
        "n = int(input())\n",
        "n_list = list(map(int, input().split()))\n",
        "n_list.sort()\n",
        "\n",
        "m = int(input())\n",
        "targets = list(map(int, input().split()))\n",
        "\n",
        "\n",
        "def binary(target):\n",
        "    left = 0\n",
        "    right = n - 1\n",
        "\n",
        "    while left <= right:\n",
        "        mid = (left + right) // 2\n",
        "        if n_list[mid] == target:\n",
        "            return True\n",
        "\n",
        "        if target < n_list[mid]:\n",
        "            right = mid-1\n",
        "        elif target > n_list[mid]:\n",
        "            left = mid + 1\n",
        "\n",
        "\n",
        "for i in range(m):\n",
        "    if binary(targets[i]):\n",
        "        print(1)\n",
        "    else:\n",
        "        print(0)"
      ],
      "execution_count": null,
      "outputs": [
        {
          "output_type": "stream",
          "text": [
            "5\n",
            "4 1  5 2 3\n",
            "5\n",
            "1 3 7 9 5\n",
            "1\n",
            "1\n",
            "0\n",
            "0\n",
            "1\n"
          ],
          "name": "stdout"
        }
      ]
    },
    {
      "cell_type": "code",
      "metadata": {
        "id": "M_VEFr5nS5EP",
        "colab": {
          "base_uri": "https://localhost:8080/"
        },
        "outputId": "d7aef32d-25cf-4957-fde8-a5d3f6f71498"
      },
      "source": [
        "n = int(input())\n",
        "n_list = list(map(int, input().split()))\n",
        "m = int(input())\n",
        "m_list = list(map(int, input().split()))\n",
        "n_list.sort()\n",
        "\n",
        "def bin_search(m, st, ed, n_list):\n",
        "    mid = (st+ed)//2\n",
        "    if st>ed: #범위 오류, 이 배열 안에 없다. 0출력\n",
        "        print(0)\n",
        "    elif m == n_list[mid]: #숫자 발견 1출력\n",
        "        print(1)\n",
        "    elif m > n_list[mid]: #중앙값보다 크다, 범위 조정 후 재개\n",
        "        bin_search(m, mid+1, ed, n_list)\n",
        "    elif m < n_list[mid]: #중앙값보다 작다, 범위 조정 후 재개 bin_search(m, st, mid-1, n_list)\n",
        "        bin_search(m, st, mid-1, n_list)\n",
        "\n",
        "for m in m_list:\n",
        "    bin_search(m, 0, len(n_list)-1, n_list)"
      ],
      "execution_count": null,
      "outputs": [
        {
          "output_type": "stream",
          "text": [
            "5\n",
            "4 1 5 2 3\n",
            "5\n",
            "1 3 7 9 5\n",
            "1\n",
            "1\n",
            "0\n",
            "0\n",
            "1\n"
          ],
          "name": "stdout"
        }
      ]
    },
    {
      "cell_type": "code",
      "metadata": {
        "colab": {
          "base_uri": "https://localhost:8080/"
        },
        "id": "iyTdD342l6ae",
        "outputId": "974def05-7c89-43bc-cb5f-48becbb3c441"
      },
      "source": [
        "\n",
        "# def find_by_b_search(target_num, num_list):\n",
        "def find_by_b_search(find_num, nums):\n",
        "  # 3(0,1,2) =>1, (0+2//2)\n",
        "  # 8(0,1,2,3,4,5,6,7) =>3, (0+7)//2\n",
        "    start_idx = 0\n",
        "    end_idx = len(n_list)-1\n",
        "    \n",
        "    while start_idx <= end_idx:\n",
        "        mid_idx = (start_idx + end_idx) // 2\n",
        "\n",
        "        if find_num < nums[mid_idx]:\n",
        "            end_idx = mid_idx-1    \n",
        "        elif find_num > nums[mid_idx]:\n",
        "            start_idx = mid_idx+1\n",
        "        else:\n",
        "            return mid_idx\n",
        "    \n",
        "    return -1\n",
        "    \n",
        "n = int(input())\n",
        "num_list = list(map(int, input().split()))\n",
        "num_list.sort()\n",
        "\n",
        "m = int(input())\n",
        "for target_num in map(int, input().split()):\n",
        "    if find_by_b_search(target_num, num_list) >= 0:\n",
        "        print(\"1\")\n",
        "    else:\n",
        "        print(\"0\")\n"
      ],
      "execution_count": null,
      "outputs": [
        {
          "output_type": "stream",
          "text": [
            "5\n",
            "4 1 5 2 3\n",
            "5\n",
            "1 3 7 9 5\n",
            "1\n",
            "1\n",
            "0\n",
            "0\n",
            "1\n"
          ],
          "name": "stdout"
        }
      ]
    },
    {
      "cell_type": "code",
      "metadata": {
        "colab": {
          "base_uri": "https://localhost:8080/"
        },
        "id": "fVjeP2XjJbz4",
        "outputId": "ee1846dc-5052-4eb8-c8b2-1e671b1678d6"
      },
      "source": [
        "# 백준 2751\n",
        "\n",
        "# 시간초과?? pypy3는 시간초과안됨..\n",
        "n=int(input())\n",
        "num=[]\n",
        "\n",
        "for _ in range(n):\n",
        "    x = int(input())\n",
        "    num.append(x)\n",
        "\n",
        "for i in sorted(num):\n",
        "    print(i)"
      ],
      "execution_count": null,
      "outputs": [
        {
          "output_type": "stream",
          "name": "stdout",
          "text": [
            "5\n",
            "5\n",
            "4\n",
            "3\n",
            "2\n",
            "1\n",
            "1\n",
            "2\n",
            "3\n",
            "4\n",
            "5\n"
          ]
        }
      ]
    },
    {
      "cell_type": "code",
      "metadata": {
        "colab": {
          "base_uri": "https://localhost:8080/"
        },
        "id": "u2d4ofHFiOWU",
        "outputId": "4374566e-f06c-4de0-8058-8851afe76c34"
      },
      "source": [
        "# 알고리즘 병합정렬\n",
        "def merge_sort(start_idx, end_idx, num_list):\n",
        "  if start_idx == end_idx:\n",
        "    return num_list[start_idx:end_idx+1]\n",
        "  # exit\n",
        "  mid_idx = (start_idx+end_idx)//2\n",
        "  # \n",
        "  sorted_f_list = merge_sort(start_idx,mid_idx, num_list) # front\n",
        "  sorted_b_list = merge_sort(mid_idx+1, end_idx, num_list) # back\n",
        "\n",
        "  f_idx = 0\n",
        "  b_idx = 0\n",
        "  combined_list = []\n",
        "\n",
        "\n",
        "  while f_idx < len(sorted_f_list) and b_idx < len(sorted_b_list):\n",
        "    if sorted_f_list[f_idx] < sorted_b_list[b_idx]:\n",
        "      combined_list.append(sorted_f_list[f_idx])\n",
        "      f_idx += 1\n",
        "    else:\n",
        "      combined_list.append(sorted_b_list[b_idx])\n",
        "      b_idx += 1\n",
        "  \n",
        "  combined_list += sorted_f_list[f_idx:]\n",
        "  combined_list += sorted_b_list[b_idx:] \n",
        "  return combined_list\n",
        "\n",
        "\n",
        "n = int(input())\n",
        "num_list = []\n",
        "\n",
        "for _ in range(n):\n",
        "    num_list.append(input())\n",
        "\n",
        "sorted_list = merge_sort(0, n-1, num_list)\n",
        "\n",
        "for num in sorted_list:\n",
        "    print(num)"
      ],
      "execution_count": null,
      "outputs": [
        {
          "output_type": "stream",
          "name": "stdout",
          "text": [
            "5\n",
            "5\n",
            "4\n",
            "3\n",
            "2\n",
            "1\n",
            "1\n",
            "2\n",
            "3\n",
            "4\n",
            "5\n"
          ]
        }
      ]
    },
    {
      "cell_type": "code",
      "metadata": {
        "colab": {
          "base_uri": "https://localhost:8080/"
        },
        "id": "81VwMgQDlQOj",
        "outputId": "c1df2ba8-9901-44ef-f5ec-cc195772d1a6"
      },
      "source": [
        "# 알고리즘 병합정렬 2\n",
        "def combine(sorted_f_list, sorted_b_list):\n",
        "  f_idx = 0\n",
        "  b_idx = 0\n",
        "  combined_list = []\n",
        "\n",
        "\n",
        "  while f_idx < len(sorted_f_list) and b_idx < len(sorted_b_list):\n",
        "    if sorted_f_list[f_idx] < sorted_b_list[b_idx]:\n",
        "      combined_list.append(sorted_f_list[f_idx])\n",
        "      f_idx += 1\n",
        "    else:\n",
        "      combined_list.append(sorted_b_list[b_idx])\n",
        "      b_idx += 1\n",
        "  \n",
        "  combined_list += sorted_f_list[f_idx:]\n",
        "  combined_list += sorted_b_list[b_idx:] \n",
        "\n",
        "\n",
        "  return combined_list\n",
        "\n",
        "\n",
        "def merge_sort(start_idx, end_idx, num_list):\n",
        "  if start_idx == end_idx:\n",
        "    return num_list[start_idx:end_idx+1]\n",
        "  # exit\n",
        "  mid_idx = (start_idx+end_idx)//2\n",
        "  # \n",
        "  sorted_f_list = merge_sort(start_idx,mid_idx, num_list) # front\n",
        "  sorted_b_list = merge_sort(mid_idx+1, end_idx, num_list) # back\n",
        "\n",
        "  return combine(sorted_f_list, sorted_b_list)\n",
        "\n",
        "  \n",
        "\n",
        "n = int(input())\n",
        "num_list = []\n",
        "\n",
        "for _ in range(n):\n",
        "    num_list.append(input())\n",
        "\n",
        "sorted_list = merge_sort(0, n-1, num_list)\n",
        "\n",
        "for num in sorted_list:\n",
        "    print(num)"
      ],
      "execution_count": null,
      "outputs": [
        {
          "output_type": "stream",
          "name": "stdout",
          "text": [
            "5\n",
            "5\n",
            "4\n",
            "3\n",
            "2\n",
            "1\n",
            "1\n",
            "2\n",
            "3\n",
            "4\n",
            "5\n"
          ]
        }
      ]
    },
    {
      "cell_type": "code",
      "metadata": {
        "id": "IjwrCiEmQ72b"
      },
      "source": [
        "# 4 3 7 2 5 0 6 1\n",
        "# 34 27 05 16\n",
        "# 2347 0156\n",
        "# 01234567\n",
        "\n",
        "def combine(f_list, b_list):\n",
        "    f_i = 0\n",
        "    b_i = 0\n",
        "    combined_list = []\n",
        "\n",
        "    while f_i < len(f_list) and b_i < len(b_list):\n",
        "        if f_list[f_i] < b_list[b_i]:\n",
        "            combined_list.append(f_list[f_i])\n",
        "            f_i += 1\n",
        "        else:\n",
        "            combined_list.append(b_list[b_i])\n",
        "            b_i += 1\n",
        "\n",
        "    combined_list += f_list[f_i:]\n",
        "    combined_list += b_list[b_i:]\n",
        "\n",
        "    return combined_list\n",
        "\n",
        "def merge_sort(start_idx, end_idx, num_list):\n",
        "    if start_idx == end_idx:\n",
        "        return num_list[start_idx:end_idx+1]\n",
        "\n",
        "    mid_idx = (start_idx+end_idx)//2\n",
        "\n",
        "    sorted_f_list = merge_sort(start_idx, mid_idx, num_list) # front\n",
        "    sorted_b_list = merge_sort(mid_idx+1, end_idx, num_list) # back\n",
        "\n",
        "    return combine(sorted_f_list, sorted_b_list)\n",
        "\n",
        "n = int(input())\n",
        "num_list = []\n",
        "\n",
        "for _ in range(n):\n",
        "    num_list.append(int(input()))\n",
        "\n",
        "sorted_list = merge_sort(0, n-1, num_list)\n",
        "\n",
        "for num in sorted_list:\n",
        "    print(num)"
      ],
      "execution_count": null,
      "outputs": []
    },
    {
      "cell_type": "code",
      "metadata": {
        "id": "KHVYv7R_S_Q2"
      },
      "source": [
        "# bottom up 방식\n"
      ],
      "execution_count": null,
      "outputs": []
    },
    {
      "cell_type": "code",
      "metadata": {
        "id": "bA_qtcYrfEQe",
        "colab": {
          "base_uri": "https://localhost:8080/"
        },
        "outputId": "8b709792-ce7c-4e20-8e6c-c98455bd566c"
      },
      "source": [
        "# 색종이 만들기 분할정복 추가문제\n",
        "# 백준 2630\n",
        "def quad_tree(x, y, n):\n",
        "    global matrix, blue, white #주어진 배열과 색 카운트 끌어오기\n",
        "    color = matrix[y][x] #첫 색깔과 나머지 색이 같아야함\n",
        "    double_break = False #for문 탈출용 double_break\n",
        "    \n",
        "    for i in range(x, x+n):\n",
        "        if double_break:\n",
        "            break\n",
        "            \n",
        "        for j in range(y, y+n):\n",
        "            if matrix[j][i] != color: #하나라도 틀릴시에 재귀문 생성\n",
        "                quad_tree(x, y, n//2) #2사분면\n",
        "                quad_tree(x + n//2, y, n//2) #1사분면\n",
        "                quad_tree(x, y + n//2, n//2) #3사분면\n",
        "                quad_tree(x + n//2, y + n//2, n//2) #4사분면\n",
        "                double_break = True #탈출!\n",
        "                break\n",
        "    \n",
        "    if not double_break:\n",
        "        if matrix[y][x] == 1: #파란색이라면\n",
        "            blue += 1\n",
        "        else:\n",
        "            white += 1 #흰색이라면\n",
        "\n",
        "\n",
        "\n",
        "N = int(input())\n",
        "matrix = []\n",
        "blue = 0\n",
        "white = 0\n",
        "\n",
        "#matrix 받기\n",
        "for _ in range(N):\n",
        "    matrix.append(list(map(int, input().split())))\n",
        "\n",
        "quad_tree(0,0,N)\n",
        "print(white)\n",
        "print(blue)"
      ],
      "execution_count": null,
      "outputs": [
        {
          "output_type": "stream",
          "name": "stdout",
          "text": [
            "8\n",
            "1 1 0 0 0 0 1 1\n",
            "1 1 0 0 0 0 1 1\n",
            "0 0 0 0 1 1 0 0\n",
            "0 0 0 0 1 1 0 0\n",
            "1 0 0 0 1 1 1 1\n",
            "0 1 0 0 1 1 1 1\n",
            "0 0 1 1 1 1 1 1\n",
            "0 0 1 1 1 1 1 1\n",
            "9\n",
            "7\n"
          ]
        }
      ]
    },
    {
      "cell_type": "code",
      "metadata": {
        "colab": {
          "base_uri": "https://localhost:8080/"
        },
        "id": "hYi9ICRNYzLG",
        "outputId": "287855ae-61ad-46ce-aa30-60b0cd4d3a6f"
      },
      "source": [
        "#\n",
        "def divide(paper): \n",
        "    s_1 = []\n",
        "    s_2 = []\n",
        "    s_3 = []\n",
        "    s_4 = []\n",
        "    n = len(paper)\n",
        "    for i in range(0, n // 2):\n",
        "        s_1.append(paper[i][:n // 2])\n",
        "        s_2.append(paper[i][n // 2:])\n",
        "    for i in range(n // 2, n):\n",
        "        s_3.append(paper[i][:n // 2])\n",
        "        s_4.append(paper[i][n // 2:])\n",
        "    return s_1, s_2, s_3, s_4\n",
        "\n",
        "\n",
        "def check_all_1(paper): #현재 종이가 전부다 1인지 확인하는 함수\n",
        "    for line in paper:\n",
        "        for i in line:\n",
        "            if i==0:\n",
        "                return False\n",
        "    global blue\n",
        "    blue += 1\n",
        "    return True\n",
        "\n",
        "\n",
        "def check_all_0(paper): #현재 종이가 전부다 0인지 확인하는 함수\n",
        "    for line in paper:\n",
        "        for i in line:\n",
        "            if i==1:\n",
        "                return False\n",
        "    global white\n",
        "    white += 1\n",
        "    return True\n",
        "\n",
        "def count(paper, n):\n",
        "    global white, blue\n",
        "\n",
        "    if check_all_0(paper) or check_all_1(paper):  # 현재종이가 하나의 색이 아니므로 잘라야함\n",
        "        return\n",
        "    else:\n",
        "        if n>=2:\n",
        "            for i in divide(paper):\n",
        "                count(i, len(i))\n",
        "\n",
        "\n",
        "n = int(input())\n",
        "blue = 0\n",
        "white = 0\n",
        "paper = []\n",
        "\n",
        "for _ in range(n):\n",
        "    paper.append(list(map(int, input().split())))\n",
        "\n",
        "\n",
        "count(paper,n)\n",
        "print(white)\n",
        "print(blue)"
      ],
      "execution_count": null,
      "outputs": [
        {
          "output_type": "stream",
          "name": "stdout",
          "text": [
            "8\n",
            "1 1 0 0 0 0 1 1\n",
            "1 1 0 0 0 0 1 1\n",
            "0 0 0 0 1 1 0 0\n",
            "0 0 0 0 1 1 0 0\n",
            "1 0 0 0 1 1 1 1\n",
            "0 1 0 0 1 1 1 1\n",
            "0 0 1 1 1 1 1 1\n",
            "0 0 1 1 1 1 1 1\n",
            "9\n",
            "7\n"
          ]
        }
      ]
    },
    {
      "cell_type": "code",
      "metadata": {
        "id": "4sBMKDI5Eiho"
      },
      "source": [
        "# 8\n",
        "# 1 1 0 0 0 0 1 1\n",
        "# 1 1 0 0 0 0 1 1\n",
        "# 0 0 0 0 1 1 0 0\n",
        "# 0 0 0 0 1 1 0 0\n",
        "# 1 0 0 0 1 1 1 1\n",
        "# 0 1 0 0 1 1 1 1\n",
        "# 0 0 1 1 1 1 1 1\n",
        "# 0 0 1 1 1 1 1 1\n",
        "\n",
        "def check_same_color(start_y, start_x, length, paper_map):\n",
        "    for y in range(start_y, start_y+length):\n",
        "        for x in range(start_x, start_x+length):\n",
        "            if paper_map[y][x] != paper_map[start_y][start_x]:\n",
        "                return False\n",
        "\n",
        "    return True\n",
        "\n",
        "def split_paper(start_y, start_x, length, paper_map):\n",
        "    if check_same_color(start_y, start_x, length, paper_map):\n",
        "        result = [0, 0]\n",
        "        result[paper_map[start_y][start_x]] += 1\n",
        "\n",
        "        return result\n",
        "\n",
        "    splited_length = int(length/2)\n",
        "    splited_cnt = [0, 0]\n",
        "\n",
        "    splited_loc = [\n",
        "        [start_y, start_x],\n",
        "        [start_y, start_x+splited_length],\n",
        "        [start_y+splited_length, start_x],\n",
        "        [start_y+splited_length, start_x+splited_length]\n",
        "    ]\n",
        "\n",
        "    for y, x in splited_loc:\n",
        "        white_cnt, blue_cnt = split_paper(y, x, splited_length, paper_map)\n",
        "        splited_cnt[0] += white_cnt\n",
        "        splited_cnt[1] += blue_cnt\n",
        "        \n",
        "        # for i in range(len(inside_cnt)):\n",
        "        #     splited_cnt[i] += inside_cnt[i]\n",
        "    \n",
        "\n",
        "    # split_paper(start_y, start_x, splited_length, paper_map)\n",
        "    # split_paper(start_y, start_x+splited_length, splited_length, paper_map)\n",
        "    # split_paper(start_y+splited_length, start_x, splited_length, paper_map)\n",
        "    # split_paper(start_y+splited_length, start_x+splited_length, splited_length, paper_map)\n",
        "    \n",
        "    # print(start_y, start_x, length)\n",
        "    # print(splited_cnt)\n",
        "\n",
        "    return splited_cnt\n",
        "\n",
        "n = int(input())\n",
        "\n",
        "paper_map = []\n",
        "\n",
        "for _ in range(n):\n",
        "    paper_map.append(list(map(int, input().split())))\n",
        "\n",
        "for num in split_paper(0, 0, n, paper_map):\n",
        "    print(num)\n"
      ],
      "execution_count": null,
      "outputs": []
    },
    {
      "cell_type": "code",
      "metadata": {
        "id": "Gg5Gj1r0PN5x"
      },
      "source": [
        "# 수정해야합니다 실행 불가\n",
        "def check_same_color(start_x, start_y,length, paper_map):\n",
        "  for y in range(start_y, start_y+length):\n",
        "    for x in range(start_x, start_x+length):\n",
        "      if paper_map[y][x] != paper_map[start_y][start_x]:\n",
        "        return False\n",
        "  return True\n",
        "\n",
        "\n",
        "def split_paper(start_x, start_y,length, paper_map):\n",
        "  if check_same_color(start_x, start_y,length, paper_map):\n",
        "      result = [0, 0]\n",
        "      result[papaer_map[start_y][start_x]] += 1\n",
        "\n",
        "      return result\n",
        "\n",
        "\n",
        "  splited_length = int(length/2)\n",
        "  splited_cnt= [0,0]\n",
        "\n",
        "  splited_loc = [\n",
        "    [start_y, start_x],\n",
        "    [start_y, start_x+splited_length],\n",
        "    [start_y+splited_length, start_y],\n",
        "    [start_y+splited_length, start_x+splited_length],                 \n",
        "  ]\n",
        "\n",
        "for y, x, splited_loc:\n",
        "  white_cnt,blue_cnt = split_papaer(y,x, splited_length, paper_map)\n",
        "  spited_cnt[0] += white_cnt\n",
        "  spited_cnt[1] += blue_cnt\n",
        "  \n",
        "\n",
        "n = int(input())\n",
        "paper_map = []\n",
        "for _ in range(n):\n",
        "    paper_map.append(list(map(int, input().split())))\n",
        "\n",
        "split_paper(0, 0, n, paper_map)"
      ],
      "execution_count": null,
      "outputs": []
    },
    {
      "cell_type": "code",
      "metadata": {
        "id": "FFx_jlAkEhSx"
      },
      "source": [
        ""
      ],
      "execution_count": null,
      "outputs": []
    },
    {
      "cell_type": "code",
      "metadata": {
        "id": "iVxlofk4POIg"
      },
      "source": [
        "# Quicksort\n",
        "# 백준 2751\n",
        "\n",
        "# 5 5 4 3 2 1\n",
        "# 1 2 3 4 5"
      ],
      "execution_count": null,
      "outputs": []
    }
  ]
}