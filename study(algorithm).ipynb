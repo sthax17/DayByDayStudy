{
  "nbformat": 4,
  "nbformat_minor": 0,
  "metadata": {
    "colab": {
      "name": "study(algorithm).ipynb",
      "provenance": [],
      "authorship_tag": "ABX9TyOzhAlfAMubszfCWWG0XqZw"
    },
    "kernelspec": {
      "name": "python3",
      "display_name": "Python 3"
    },
    "language_info": {
      "name": "python"
    }
  },
  "cells": [
    {
      "cell_type": "code",
      "metadata": {
        "colab": {
          "base_uri": "https://localhost:8080/"
        },
        "id": "ek37wESFbHjp",
        "outputId": "85cbe99e-6fe2-4a48-fe96-8127f7cd790d"
      },
      "source": [
        "# 백준 1920\n",
        "# 5\n",
        "# 4 1 5 2 3\n",
        "# 5 \n",
        "# 1 3 7 9 5\n",
        "\n",
        "n = int(input())\n",
        "n_list = list(map(int, input().split()))\n",
        "n_list.sort()\n",
        "\n",
        "m = int(input())\n",
        "targets = list(map(int, input().split()))\n",
        "\n",
        "\n",
        "def binary(target):\n",
        "    left = 0\n",
        "    right = n - 1\n",
        "\n",
        "    while left <= right:\n",
        "        mid = (left + right) // 2\n",
        "        if n_list[mid] == target:\n",
        "            return True\n",
        "\n",
        "        if target < n_list[mid]:\n",
        "            right = mid-1\n",
        "        elif target > n_list[mid]:\n",
        "            left = mid + 1\n",
        "\n",
        "\n",
        "for i in range(m):\n",
        "    if binary(targets[i]):\n",
        "        print(1)\n",
        "    else:\n",
        "        print(0)"
      ],
      "execution_count": null,
      "outputs": [
        {
          "output_type": "stream",
          "text": [
            "5\n",
            "4 1  5 2 3\n",
            "5\n",
            "1 3 7 9 5\n",
            "1\n",
            "1\n",
            "0\n",
            "0\n",
            "1\n"
          ],
          "name": "stdout"
        }
      ]
    },
    {
      "cell_type": "code",
      "metadata": {
        "colab": {
          "base_uri": "https://localhost:8080/"
        },
        "id": "M_VEFr5nS5EP",
        "outputId": "d7aef32d-25cf-4957-fde8-a5d3f6f71498"
      },
      "source": [
        "n = int(input())\n",
        "n_list = list(map(int, input().split()))\n",
        "m = int(input())\n",
        "m_list = list(map(int, input().split()))\n",
        "n_list.sort()\n",
        "\n",
        "def bin_search(m, st, ed, n_list):\n",
        "    mid = (st+ed)//2\n",
        "    if st>ed: #범위 오류, 이 배열 안에 없다. 0출력\n",
        "        print(0)\n",
        "    elif m == n_list[mid]: #숫자 발견 1출력\n",
        "        print(1)\n",
        "    elif m > n_list[mid]: #중앙값보다 크다, 범위 조정 후 재개\n",
        "        bin_search(m, mid+1, ed, n_list)\n",
        "    elif m < n_list[mid]: #중앙값보다 작다, 범위 조정 후 재개 bin_search(m, st, mid-1, n_list)\n",
        "        bin_search(m, st, mid-1, n_list)\n",
        "\n",
        "for m in m_list:\n",
        "    bin_search(m, 0, len(n_list)-1, n_list)"
      ],
      "execution_count": 1,
      "outputs": [
        {
          "output_type": "stream",
          "text": [
            "5\n",
            "4 1 5 2 3\n",
            "5\n",
            "1 3 7 9 5\n",
            "1\n",
            "1\n",
            "0\n",
            "0\n",
            "1\n"
          ],
          "name": "stdout"
        }
      ]
    },
    {
      "cell_type": "code",
      "metadata": {
        "colab": {
          "base_uri": "https://localhost:8080/"
        },
        "id": "iyTdD342l6ae",
        "outputId": "974def05-7c89-43bc-cb5f-48becbb3c441"
      },
      "source": [
        "\n",
        "# def find_by_b_search(target_num, num_list):\n",
        "def find_by_b_search(find_num, nums):\n",
        "  # 3(0,1,2) =>1, (0+2//2)\n",
        "  # 8(0,1,2,3,4,5,6,7) =>3, (0+7)//2\n",
        "    start_idx = 0\n",
        "    end_idx = len(n_list)-1\n",
        "    \n",
        "    while start_idx <= end_idx:\n",
        "        mid_idx = (start_idx + end_idx) // 2\n",
        "\n",
        "        if find_num < nums[mid_idx]:\n",
        "            end_idx = mid_idx-1    \n",
        "        elif find_num > nums[mid_idx]:\n",
        "            start_idx = mid_idx+1\n",
        "        else:\n",
        "            return mid_idx\n",
        "    \n",
        "    return -1\n",
        "    \n",
        "n = int(input())\n",
        "num_list = list(map(int, input().split()))\n",
        "num_list.sort()\n",
        "\n",
        "m = int(input())\n",
        "for target_num in map(int, input().split()):\n",
        "    if find_by_b_search(target_num, num_list) >= 0:\n",
        "        print(\"1\")\n",
        "    else:\n",
        "        print(\"0\")\n"
      ],
      "execution_count": null,
      "outputs": [
        {
          "output_type": "stream",
          "text": [
            "5\n",
            "4 1 5 2 3\n",
            "5\n",
            "1 3 7 9 5\n",
            "1\n",
            "1\n",
            "0\n",
            "0\n",
            "1\n"
          ],
          "name": "stdout"
        }
      ]
    }
  ]
}