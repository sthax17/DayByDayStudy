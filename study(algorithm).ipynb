{
  "nbformat": 4,
  "nbformat_minor": 0,
  "metadata": {
    "colab": {
      "name": "study(algorithm).ipynb",
      "provenance": [],
      "authorship_tag": "ABX9TyO76z6Jf2V69RtV9P897DXm"
    },
    "kernelspec": {
      "name": "python3",
      "display_name": "Python 3"
    },
    "language_info": {
      "name": "python"
    }
  },
  "cells": [
    {
      "cell_type": "code",
      "metadata": {
        "colab": {
          "base_uri": "https://localhost:8080/"
        },
        "id": "ek37wESFbHjp",
        "outputId": "85cbe99e-6fe2-4a48-fe96-8127f7cd790d"
      },
      "source": [
        "# 백준 1920\n",
        "# 5\n",
        "# 4 1 5 2 3\n",
        "# 5 \n",
        "# 1 3 7 9 5\n",
        "\n",
        "n = int(input())\n",
        "n_list = list(map(int, input().split()))\n",
        "n_list.sort()\n",
        "\n",
        "m = int(input())\n",
        "targets = list(map(int, input().split()))\n",
        "\n",
        "\n",
        "def binary(target):\n",
        "    left = 0\n",
        "    right = n - 1\n",
        "\n",
        "    while left <= right:\n",
        "        mid = (left + right) // 2\n",
        "        if n_list[mid] == target:\n",
        "            return True\n",
        "\n",
        "        if target < n_list[mid]:\n",
        "            right = mid-1\n",
        "        elif target > n_list[mid]:\n",
        "            left = mid + 1\n",
        "\n",
        "\n",
        "for i in range(m):\n",
        "    if binary(targets[i]):\n",
        "        print(1)\n",
        "    else:\n",
        "        print(0)"
      ],
      "execution_count": null,
      "outputs": [
        {
          "output_type": "stream",
          "text": [
            "5\n",
            "4 1  5 2 3\n",
            "5\n",
            "1 3 7 9 5\n",
            "1\n",
            "1\n",
            "0\n",
            "0\n",
            "1\n"
          ],
          "name": "stdout"
        }
      ]
    },
    {
      "cell_type": "code",
      "metadata": {
        "id": "M_VEFr5nS5EP",
        "colab": {
          "base_uri": "https://localhost:8080/"
        },
        "outputId": "d7aef32d-25cf-4957-fde8-a5d3f6f71498"
      },
      "source": [
        "n = int(input())\n",
        "n_list = list(map(int, input().split()))\n",
        "m = int(input())\n",
        "m_list = list(map(int, input().split()))\n",
        "n_list.sort()\n",
        "\n",
        "def bin_search(m, st, ed, n_list):\n",
        "    mid = (st+ed)//2\n",
        "    if st>ed: #범위 오류, 이 배열 안에 없다. 0출력\n",
        "        print(0)\n",
        "    elif m == n_list[mid]: #숫자 발견 1출력\n",
        "        print(1)\n",
        "    elif m > n_list[mid]: #중앙값보다 크다, 범위 조정 후 재개\n",
        "        bin_search(m, mid+1, ed, n_list)\n",
        "    elif m < n_list[mid]: #중앙값보다 작다, 범위 조정 후 재개 bin_search(m, st, mid-1, n_list)\n",
        "        bin_search(m, st, mid-1, n_list)\n",
        "\n",
        "for m in m_list:\n",
        "    bin_search(m, 0, len(n_list)-1, n_list)"
      ],
      "execution_count": null,
      "outputs": [
        {
          "output_type": "stream",
          "text": [
            "5\n",
            "4 1 5 2 3\n",
            "5\n",
            "1 3 7 9 5\n",
            "1\n",
            "1\n",
            "0\n",
            "0\n",
            "1\n"
          ],
          "name": "stdout"
        }
      ]
    },
    {
      "cell_type": "code",
      "metadata": {
        "colab": {
          "base_uri": "https://localhost:8080/"
        },
        "id": "iyTdD342l6ae",
        "outputId": "974def05-7c89-43bc-cb5f-48becbb3c441"
      },
      "source": [
        "\n",
        "# def find_by_b_search(target_num, num_list):\n",
        "def find_by_b_search(find_num, nums):\n",
        "  # 3(0,1,2) =>1, (0+2//2)\n",
        "  # 8(0,1,2,3,4,5,6,7) =>3, (0+7)//2\n",
        "    start_idx = 0\n",
        "    end_idx = len(n_list)-1\n",
        "    \n",
        "    while start_idx <= end_idx:\n",
        "        mid_idx = (start_idx + end_idx) // 2\n",
        "\n",
        "        if find_num < nums[mid_idx]:\n",
        "            end_idx = mid_idx-1    \n",
        "        elif find_num > nums[mid_idx]:\n",
        "            start_idx = mid_idx+1\n",
        "        else:\n",
        "            return mid_idx\n",
        "    \n",
        "    return -1\n",
        "    \n",
        "n = int(input())\n",
        "num_list = list(map(int, input().split()))\n",
        "num_list.sort()\n",
        "\n",
        "m = int(input())\n",
        "for target_num in map(int, input().split()):\n",
        "    if find_by_b_search(target_num, num_list) >= 0:\n",
        "        print(\"1\")\n",
        "    else:\n",
        "        print(\"0\")\n"
      ],
      "execution_count": null,
      "outputs": [
        {
          "output_type": "stream",
          "text": [
            "5\n",
            "4 1 5 2 3\n",
            "5\n",
            "1 3 7 9 5\n",
            "1\n",
            "1\n",
            "0\n",
            "0\n",
            "1\n"
          ],
          "name": "stdout"
        }
      ]
    },
    {
      "cell_type": "code",
      "metadata": {
        "colab": {
          "base_uri": "https://localhost:8080/"
        },
        "id": "fVjeP2XjJbz4",
        "outputId": "ee1846dc-5052-4eb8-c8b2-1e671b1678d6"
      },
      "source": [
        "# 백준 2751\n",
        "\n",
        "# 시간초과?? pypy3는 시간초과안됨..\n",
        "n=int(input())\n",
        "num=[]\n",
        "\n",
        "for _ in range(n):\n",
        "    x = int(input())\n",
        "    num.append(x)\n",
        "\n",
        "for i in sorted(num):\n",
        "    print(i)"
      ],
      "execution_count": null,
      "outputs": [
        {
          "output_type": "stream",
          "name": "stdout",
          "text": [
            "5\n",
            "5\n",
            "4\n",
            "3\n",
            "2\n",
            "1\n",
            "1\n",
            "2\n",
            "3\n",
            "4\n",
            "5\n"
          ]
        }
      ]
    },
    {
      "cell_type": "code",
      "metadata": {
        "colab": {
          "base_uri": "https://localhost:8080/"
        },
        "id": "u2d4ofHFiOWU",
        "outputId": "4374566e-f06c-4de0-8058-8851afe76c34"
      },
      "source": [
        "# 알고리즘 병합정렬\n",
        "def merge_sort(start_idx, end_idx, num_list):\n",
        "  if start_idx == end_idx:\n",
        "    return num_list[start_idx:end_idx+1]\n",
        "  # exit\n",
        "  mid_idx = (start_idx+end_idx)//2\n",
        "  # \n",
        "  sorted_f_list = merge_sort(start_idx,mid_idx, num_list) # front\n",
        "  sorted_b_list = merge_sort(mid_idx+1, end_idx, num_list) # back\n",
        "\n",
        "  f_idx = 0\n",
        "  b_idx = 0\n",
        "  combined_list = []\n",
        "\n",
        "\n",
        "  while f_idx < len(sorted_f_list) and b_idx < len(sorted_b_list):\n",
        "    if sorted_f_list[f_idx] < sorted_b_list[b_idx]:\n",
        "      combined_list.append(sorted_f_list[f_idx])\n",
        "      f_idx += 1\n",
        "    else:\n",
        "      combined_list.append(sorted_b_list[b_idx])\n",
        "      b_idx += 1\n",
        "  \n",
        "  combined_list += sorted_f_list[f_idx:]\n",
        "  combined_list += sorted_b_list[b_idx:] \n",
        "  return combined_list\n",
        "\n",
        "\n",
        "n = int(input())\n",
        "num_list = []\n",
        "\n",
        "for _ in range(n):\n",
        "    num_list.append(input())\n",
        "\n",
        "sorted_list = merge_sort(0, n-1, num_list)\n",
        "\n",
        "for num in sorted_list:\n",
        "    print(num)"
      ],
      "execution_count": null,
      "outputs": [
        {
          "output_type": "stream",
          "name": "stdout",
          "text": [
            "5\n",
            "5\n",
            "4\n",
            "3\n",
            "2\n",
            "1\n",
            "1\n",
            "2\n",
            "3\n",
            "4\n",
            "5\n"
          ]
        }
      ]
    },
    {
      "cell_type": "code",
      "metadata": {
        "colab": {
          "base_uri": "https://localhost:8080/"
        },
        "id": "81VwMgQDlQOj",
        "outputId": "c1df2ba8-9901-44ef-f5ec-cc195772d1a6"
      },
      "source": [
        "# 알고리즘 병합정렬 2\n",
        "def combine(sorted_f_list, sorted_b_list):\n",
        "  f_idx = 0\n",
        "  b_idx = 0\n",
        "  combined_list = []\n",
        "\n",
        "\n",
        "  while f_idx < len(sorted_f_list) and b_idx < len(sorted_b_list):\n",
        "    if sorted_f_list[f_idx] < sorted_b_list[b_idx]:\n",
        "      combined_list.append(sorted_f_list[f_idx])\n",
        "      f_idx += 1\n",
        "    else:\n",
        "      combined_list.append(sorted_b_list[b_idx])\n",
        "      b_idx += 1\n",
        "  \n",
        "  combined_list += sorted_f_list[f_idx:]\n",
        "  combined_list += sorted_b_list[b_idx:] \n",
        "\n",
        "\n",
        "  return combined_list\n",
        "\n",
        "\n",
        "def merge_sort(start_idx, end_idx, num_list):\n",
        "  if start_idx == end_idx:\n",
        "    return num_list[start_idx:end_idx+1]\n",
        "  # exit\n",
        "  mid_idx = (start_idx+end_idx)//2\n",
        "  # \n",
        "  sorted_f_list = merge_sort(start_idx,mid_idx, num_list) # front\n",
        "  sorted_b_list = merge_sort(mid_idx+1, end_idx, num_list) # back\n",
        "\n",
        "  return combine(sorted_f_list, sorted_b_list)\n",
        "\n",
        "  \n",
        "\n",
        "n = int(input())\n",
        "num_list = []\n",
        "\n",
        "for _ in range(n):\n",
        "    num_list.append(input())\n",
        "\n",
        "sorted_list = merge_sort(0, n-1, num_list)\n",
        "\n",
        "for num in sorted_list:\n",
        "    print(num)"
      ],
      "execution_count": null,
      "outputs": [
        {
          "output_type": "stream",
          "name": "stdout",
          "text": [
            "5\n",
            "5\n",
            "4\n",
            "3\n",
            "2\n",
            "1\n",
            "1\n",
            "2\n",
            "3\n",
            "4\n",
            "5\n"
          ]
        }
      ]
    },
    {
      "cell_type": "code",
      "metadata": {
        "id": "IjwrCiEmQ72b"
      },
      "source": [
        "# 4 3 7 2 5 0 6 1\n",
        "# 34 27 05 16\n",
        "# 2347 0156\n",
        "# 01234567\n",
        "\n",
        "def combine(f_list, b_list):\n",
        "    f_i = 0\n",
        "    b_i = 0\n",
        "    combined_list = []\n",
        "\n",
        "    while f_i < len(f_list) and b_i < len(b_list):\n",
        "        if f_list[f_i] < b_list[b_i]:\n",
        "            combined_list.append(f_list[f_i])\n",
        "            f_i += 1\n",
        "        else:\n",
        "            combined_list.append(b_list[b_i])\n",
        "            b_i += 1\n",
        "\n",
        "    combined_list += f_list[f_i:]\n",
        "    combined_list += b_list[b_i:]\n",
        "\n",
        "    return combined_list\n",
        "\n",
        "def merge_sort(start_idx, end_idx, num_list):\n",
        "    if start_idx == end_idx:\n",
        "        return num_list[start_idx:end_idx+1]\n",
        "\n",
        "    mid_idx = (start_idx+end_idx)//2\n",
        "\n",
        "    sorted_f_list = merge_sort(start_idx, mid_idx, num_list) # front\n",
        "    sorted_b_list = merge_sort(mid_idx+1, end_idx, num_list) # back\n",
        "\n",
        "    return combine(sorted_f_list, sorted_b_list)\n",
        "\n",
        "n = int(input())\n",
        "num_list = []\n",
        "\n",
        "for _ in range(n):\n",
        "    num_list.append(int(input()))\n",
        "\n",
        "sorted_list = merge_sort(0, n-1, num_list)\n",
        "\n",
        "for num in sorted_list:\n",
        "    print(num)"
      ],
      "execution_count": null,
      "outputs": []
    },
    {
      "cell_type": "code",
      "metadata": {
        "id": "KHVYv7R_S_Q2"
      },
      "source": [
        "# bottom up 방식\n"
      ],
      "execution_count": null,
      "outputs": []
    },
    {
      "cell_type": "code",
      "metadata": {
        "id": "bA_qtcYrfEQe",
        "colab": {
          "base_uri": "https://localhost:8080/"
        },
        "outputId": "8b709792-ce7c-4e20-8e6c-c98455bd566c"
      },
      "source": [
        "# 색종이 만들기 분할정복 추가문제\n",
        "# 백준 2630\n",
        "def quad_tree(x, y, n):\n",
        "    global matrix, blue, white #주어진 배열과 색 카운트 끌어오기\n",
        "    color = matrix[y][x] #첫 색깔과 나머지 색이 같아야함\n",
        "    double_break = False #for문 탈출용 double_break\n",
        "    \n",
        "    for i in range(x, x+n):\n",
        "        if double_break:\n",
        "            break\n",
        "            \n",
        "        for j in range(y, y+n):\n",
        "            if matrix[j][i] != color: #하나라도 틀릴시에 재귀문 생성\n",
        "                quad_tree(x, y, n//2) #2사분면\n",
        "                quad_tree(x + n//2, y, n//2) #1사분면\n",
        "                quad_tree(x, y + n//2, n//2) #3사분면\n",
        "                quad_tree(x + n//2, y + n//2, n//2) #4사분면\n",
        "                double_break = True #탈출!\n",
        "                break\n",
        "    \n",
        "    if not double_break:\n",
        "        if matrix[y][x] == 1: #파란색이라면\n",
        "            blue += 1\n",
        "        else:\n",
        "            white += 1 #흰색이라면\n",
        "\n",
        "\n",
        "\n",
        "N = int(input())\n",
        "matrix = []\n",
        "blue = 0\n",
        "white = 0\n",
        "\n",
        "#matrix 받기\n",
        "for _ in range(N):\n",
        "    matrix.append(list(map(int, input().split())))\n",
        "\n",
        "quad_tree(0,0,N)\n",
        "print(white)\n",
        "print(blue)"
      ],
      "execution_count": null,
      "outputs": [
        {
          "output_type": "stream",
          "name": "stdout",
          "text": [
            "8\n",
            "1 1 0 0 0 0 1 1\n",
            "1 1 0 0 0 0 1 1\n",
            "0 0 0 0 1 1 0 0\n",
            "0 0 0 0 1 1 0 0\n",
            "1 0 0 0 1 1 1 1\n",
            "0 1 0 0 1 1 1 1\n",
            "0 0 1 1 1 1 1 1\n",
            "0 0 1 1 1 1 1 1\n",
            "9\n",
            "7\n"
          ]
        }
      ]
    },
    {
      "cell_type": "code",
      "metadata": {
        "colab": {
          "base_uri": "https://localhost:8080/"
        },
        "id": "hYi9ICRNYzLG",
        "outputId": "287855ae-61ad-46ce-aa30-60b0cd4d3a6f"
      },
      "source": [
        "#\n",
        "def divide(paper): \n",
        "    s_1 = []\n",
        "    s_2 = []\n",
        "    s_3 = []\n",
        "    s_4 = []\n",
        "    n = len(paper)\n",
        "    for i in range(0, n // 2):\n",
        "        s_1.append(paper[i][:n // 2])\n",
        "        s_2.append(paper[i][n // 2:])\n",
        "    for i in range(n // 2, n):\n",
        "        s_3.append(paper[i][:n // 2])\n",
        "        s_4.append(paper[i][n // 2:])\n",
        "    return s_1, s_2, s_3, s_4\n",
        "\n",
        "\n",
        "def check_all_1(paper): #현재 종이가 전부다 1인지 확인하는 함수\n",
        "    for line in paper:\n",
        "        for i in line:\n",
        "            if i==0:\n",
        "                return False\n",
        "    global blue\n",
        "    blue += 1\n",
        "    return True\n",
        "\n",
        "\n",
        "def check_all_0(paper): #현재 종이가 전부다 0인지 확인하는 함수\n",
        "    for line in paper:\n",
        "        for i in line:\n",
        "            if i==1:\n",
        "                return False\n",
        "    global white\n",
        "    white += 1\n",
        "    return True\n",
        "\n",
        "def count(paper, n):\n",
        "    global white, blue\n",
        "\n",
        "    if check_all_0(paper) or check_all_1(paper):  # 현재종이가 하나의 색이 아니므로 잘라야함\n",
        "        return\n",
        "    else:\n",
        "        if n>=2:\n",
        "            for i in divide(paper):\n",
        "                count(i, len(i))\n",
        "\n",
        "\n",
        "n = int(input())\n",
        "blue = 0\n",
        "white = 0\n",
        "paper = []\n",
        "\n",
        "for _ in range(n):\n",
        "    paper.append(list(map(int, input().split())))\n",
        "\n",
        "\n",
        "count(paper,n)\n",
        "print(white)\n",
        "print(blue)"
      ],
      "execution_count": null,
      "outputs": [
        {
          "output_type": "stream",
          "name": "stdout",
          "text": [
            "8\n",
            "1 1 0 0 0 0 1 1\n",
            "1 1 0 0 0 0 1 1\n",
            "0 0 0 0 1 1 0 0\n",
            "0 0 0 0 1 1 0 0\n",
            "1 0 0 0 1 1 1 1\n",
            "0 1 0 0 1 1 1 1\n",
            "0 0 1 1 1 1 1 1\n",
            "0 0 1 1 1 1 1 1\n",
            "9\n",
            "7\n"
          ]
        }
      ]
    },
    {
      "cell_type": "code",
      "metadata": {
        "colab": {
          "base_uri": "https://localhost:8080/"
        },
        "id": "09t2fuVSoyZo",
        "outputId": "2938779a-582d-4139-8314-07cb66e970bf"
      },
      "source": [
        "# 답안 수정해야합니다 실행 불가\n",
        "def check_same_color(start_y, start_x, length, paper_map):\n",
        "    for y in range(start_y, start_y+length):\n",
        "        for x in range(start_x, start_x+length):\n",
        "            if paper_map[y][x] != paper_map[start_y][start_x]:\n",
        "                return False\n",
        "    return True\n",
        "\n",
        "\n",
        "def split_paper(start_y, start_x, length, paper_map):\n",
        "    if check_same_color(start_y, start_x, length, paper_map):\n",
        "        result = [0, 0]\n",
        "        result[paper_map[start_y][start_x]] += 1\n",
        "\n",
        "        return result\n",
        "\n",
        "    splited_length = int(length/2)\n",
        "    splited_cnt = [0, 0]\n",
        "\n",
        "    splited_loc = [\n",
        "        [start_y, start_x],\n",
        "        [start_y, start_x+splited_length],\n",
        "        [start_y+splited_length, start_x],\n",
        "        [start_y+splited_length, start_x+splited_length]\n",
        "    ]\n",
        "\n",
        "\n",
        "\n",
        "    for y, x in splited_loc:\n",
        "        white_cnt, blue_cnt = split_paper(y, x, splited_length, paper_map)\n",
        "        splited_cnt[0] += white_cnt\n",
        "        splited_cnt[1] += blue_cnt\n",
        "    return splited_cnt\n",
        "\n",
        "n = int(input())\n",
        "\n",
        "paper_map = []\n",
        "\n",
        "for _ in range(n):\n",
        "    paper_map.append(list(map(int, input().split())))\n",
        "\n",
        "for num in split_paper(0, 0, n, paper_map):\n",
        "    print(num)"
      ],
      "execution_count": null,
      "outputs": [
        {
          "output_type": "stream",
          "name": "stdout",
          "text": [
            "8\n",
            "1 1 0 0 0 0 1 1\n",
            "1 1 0 0 0 0 1 1\n",
            "0 0 0 0 1 1 0 0\n",
            "0 0 0 0 1 1 0 0\n",
            "1 0 0 0 1 1 1 1\n",
            "0 1 0 0 1 1 1 1\n",
            "0 0 1 1 1 1 1 1\n",
            "0 0 1 1 1 1 1 1\n",
            "9\n",
            "7\n"
          ]
        }
      ]
    },
    {
      "cell_type": "code",
      "metadata": {
        "id": "4sBMKDI5Eiho"
      },
      "source": [
        "# 8\n",
        "# 1 1 0 0 0 0 1 1\n",
        "# 1 1 0 0 0 0 1 1\n",
        "# 0 0 0 0 1 1 0 0\n",
        "# 0 0 0 0 1 1 0 0\n",
        "# 1 0 0 0 1 1 1 1\n",
        "# 0 1 0 0 1 1 1 1\n",
        "# 0 0 1 1 1 1 1 1\n",
        "# 0 0 1 1 1 1 1 1\n",
        "\n",
        "def check_same_color(start_y, start_x, length, paper_map):\n",
        "    for y in range(start_y, start_y+length):\n",
        "        for x in range(start_x, start_x+length):\n",
        "            if paper_map[y][x] != paper_map[start_y][start_x]:\n",
        "                return False\n",
        "\n",
        "    return True\n",
        "\n",
        "def split_paper(start_y, start_x, length, paper_map):\n",
        "    if check_same_color(start_y, start_x, length, paper_map):\n",
        "        result = [0, 0]\n",
        "        result[paper_map[start_y][start_x]] += 1\n",
        "\n",
        "        return result\n",
        "\n",
        "    splited_length = int(length/2)\n",
        "    splited_cnt = [0, 0]\n",
        "\n",
        "    splited_loc = [\n",
        "        [start_y, start_x],\n",
        "        [start_y, start_x+splited_length],\n",
        "        [start_y+splited_length, start_x],\n",
        "        [start_y+splited_length, start_x+splited_length]\n",
        "    ]\n",
        "\n",
        "    for y, x in splited_loc:\n",
        "        white_cnt, blue_cnt = split_paper(y, x, splited_length, paper_map)\n",
        "        splited_cnt[0] += white_cnt\n",
        "        splited_cnt[1] += blue_cnt\n",
        "        \n",
        "        # for i in range(len(inside_cnt)):\n",
        "        #     splited_cnt[i] += inside_cnt[i]\n",
        "    \n",
        "\n",
        "    # split_paper(start_y, start_x, splited_length, paper_map)\n",
        "    # split_paper(start_y, start_x+splited_length, splited_length, paper_map)\n",
        "    # split_paper(start_y+splited_length, start_x, splited_length, paper_map)\n",
        "    # split_paper(start_y+splited_length, start_x+splited_length, splited_length, paper_map)\n",
        "    \n",
        "    # print(start_y, start_x, length)\n",
        "    # print(splited_cnt)\n",
        "\n",
        "    return splited_cnt\n",
        "\n",
        "n = int(input())\n",
        "\n",
        "paper_map = []\n",
        "\n",
        "for _ in range(n):\n",
        "    paper_map.append(list(map(int, input().split())))\n",
        "\n",
        "for num in split_paper(0, 0, n, paper_map):\n",
        "    print(num)\n"
      ],
      "execution_count": null,
      "outputs": []
    },
    {
      "cell_type": "code",
      "metadata": {
        "id": "iVxlofk4POIg"
      },
      "source": [
        "# Quicksort\n",
        "# 백준 2751\n",
        "\n",
        "# 5 \n",
        "# 5 \n",
        "# 4 \n",
        "# 3 \n",
        "# 2 \n",
        "# 1\n",
        "# 1 2 3 4 5\n",
        "\n",
        "def quick_sort(num_list):\n",
        "  p_idx = 0\n",
        "  l_list = []\n",
        "  m_list = []\n",
        "\n",
        "  for num in num_list:\n",
        "    if num <= num_list[p_idx]:\n",
        "      l_list.append(num)\n",
        "    else:\n",
        "      m_list.append(num)\n",
        "  return quick_sort(l_list) + [num_list[p_idx]] + quick_sort(m_list)\n",
        "\n",
        "\n",
        "n = int(input())\n",
        "num_list = []\n",
        "\n",
        "for _ in range(n):\n",
        "  num_list.append(int(input()))\n",
        "\n",
        "for num in quick_sort(num_list):\n",
        "  print(num)\n"
      ],
      "execution_count": null,
      "outputs": []
    },
    {
      "cell_type": "code",
      "metadata": {
        "colab": {
          "base_uri": "https://localhost:8080/"
        },
        "id": "eDGOFdZI4xoy",
        "outputId": "56941895-6846-440b-8215-9ba9aaf6421e"
      },
      "source": [
        "# Quicksort\n",
        "# 백준 2751\n",
        "\n",
        "# 5\n",
        "# 5\n",
        "# 4\n",
        "# 3\n",
        "# 2\n",
        "# 1\n",
        "\n",
        "# 9\n",
        "# 5\n",
        "# 3\n",
        "# 8\n",
        "# 4\n",
        "# 9\n",
        "# 1\n",
        "# 6\n",
        "# 2\n",
        "# 7\n",
        "\n",
        "def quick_sort(num_list):\n",
        "    if len(num_list) <= 1:\n",
        "        return num_list\n",
        "\n",
        "    pivot_idx = 0\n",
        "    \n",
        "    less_list = []\n",
        "    more_list = []\n",
        "\n",
        "    for num in num_list[pivot_idx+1:]:\n",
        "        if num <= num_list[pivot_idx]:\n",
        "            less_list.append(num)\n",
        "        else:\n",
        "            more_list.append(num)\n",
        "\n",
        "        # 2\n",
        "        # if num < num_list[pivot_idx]:\n",
        "        #     less_list.append(num)\n",
        "        # elif num > num_list[pivot_idx]:\n",
        "        #     more_list.append(num)\n",
        "    \n",
        "    print(f\"{less_list}, [{num_list[pivot_idx]}], {more_list}\")\n",
        "\n",
        "    return quick_sort(less_list) + [num_list[pivot_idx]] + quick_sort(more_list)\n",
        "\n",
        "n = int(input())\n",
        "num_list = []\n",
        "\n",
        "for _ in range(n):\n",
        "    num_list.append(int(input()))\n",
        "\n",
        "for num in quick_sort(num_list):\n",
        "    print(num)\n"
      ],
      "execution_count": null,
      "outputs": [
        {
          "output_type": "stream",
          "name": "stdout",
          "text": [
            "5\n",
            "5\n",
            "4\n",
            "3\n",
            "2\n",
            "1\n",
            "[4, 3, 2, 1], [5], []\n",
            "[3, 2, 1], [4], []\n",
            "[2, 1], [3], []\n",
            "[1], [2], []\n",
            "1\n",
            "2\n",
            "3\n",
            "4\n",
            "5\n"
          ]
        }
      ]
    },
    {
      "cell_type": "code",
      "metadata": {
        "colab": {
          "base_uri": "https://localhost:8080/"
        },
        "id": "F8gCAl0g4x_5",
        "outputId": "83b792c4-f932-4335-eb9e-6866fa9844f6"
      },
      "source": [
        "# Quick sort in place\n",
        "# 5\n",
        "# 5\n",
        "# 4\n",
        "# 3\n",
        "# 2\n",
        "# 1\n",
        "\n",
        "# 9\n",
        "# 5\n",
        "# 3\n",
        "# 8\n",
        "# 4\n",
        "# 9\n",
        "# 1\n",
        "# 6\n",
        "# 2\n",
        "# 7\n",
        "\n",
        "def quick_sort_in(start_idx, end_idx, num_list):\n",
        "    if end_idx - start_idx + 1 <= 1:\n",
        "        return\n",
        "\n",
        "    pivot_idxes = [\n",
        "        start_idx,\n",
        "        end_idx,\n",
        "        (start_idx+end_idx)//2\n",
        "    ]\n",
        "\n",
        "    pivot_vals = []\n",
        "\n",
        "    for idx in pivot_idxes:\n",
        "        pivot_vals.append(num_list[idx])\n",
        "\n",
        "    mid_val = sum(pivot_vals) - max(pivot_vals) - min(pivot_vals)\n",
        "    mid_idx = pivot_idxes[pivot_vals.index(mid_val)]\n",
        "\n",
        "    num_list[start_idx], num_list[mid_idx] = num_list[mid_idx], num_list[start_idx]\n",
        "\n",
        "    pivot_idx = start_idx\n",
        "    f = pivot_idx+1\n",
        "    r = end_idx\n",
        "\n",
        "    while f <= r:\n",
        "        while num_list[r] > num_list[pivot_idx]:\n",
        "            r -= 1\n",
        "        \n",
        "        while f <= r and num_list[f] < num_list[pivot_idx]:\n",
        "            f += 1\n",
        "\n",
        "        if f <= r:\n",
        "            num_list[f], num_list[r] = num_list[r], num_list[f]\n",
        "\n",
        "    num_list[r], num_list[pivot_idx] = num_list[pivot_idx], num_list[r]\n",
        "    \n",
        "    print(num_list)\n",
        "\n",
        "    quick_sort_in(start_idx, r-1, num_list)\n",
        "    quick_sort_in(r+1, end_idx, num_list)\n",
        "\n",
        "n = int(input())\n",
        "num_list = []\n",
        "\n",
        "for _ in range(n):\n",
        "    num_list.append(int(input()))\n",
        "\n",
        "quick_sort_in(0, n-1, num_list)\n",
        "\n",
        "for num in num_list:\n",
        "    print(num)"
      ],
      "execution_count": null,
      "outputs": [
        {
          "output_type": "stream",
          "name": "stdout",
          "text": [
            "5\n",
            "5\n",
            "4\n",
            "3\n",
            "2\n",
            "1\n",
            "[2, 1, 3, 5, 4]\n",
            "[1, 2, 3, 5, 4]\n",
            "[1, 2, 3, 4, 5]\n",
            "1\n",
            "2\n",
            "3\n",
            "4\n",
            "5\n"
          ]
        }
      ]
    },
    {
      "cell_type": "code",
      "metadata": {
        "colab": {
          "base_uri": "https://localhost:8080/"
        },
        "id": "Npr5vQ3K10l4",
        "outputId": "6ace7adb-897f-4acf-e8ac-cda09470e9a2"
      },
      "source": [
        "# 완전탐색\n",
        "# 백준 15649\n",
        "# 입력 3 1\n",
        "# 입력 4 2\n",
        "\n",
        "n, m = map(int, input().split())\n",
        "solve = []\n",
        "\n",
        "def BackT(depth):\n",
        "    if depth == m:\n",
        "        for i in solve:\n",
        "            print(i, end=' ')\n",
        "        print()\n",
        "        return\n",
        "    for i in range(1, n + 1):\n",
        "        if i not in solve:\n",
        "            solve.append(i)\n",
        "            BackT(depth + 1)\n",
        "            solve.pop()\n",
        "\n",
        "BackT(0)"
      ],
      "execution_count": null,
      "outputs": [
        {
          "output_type": "stream",
          "name": "stdout",
          "text": [
            "3 1\n",
            "1 \n",
            "2 \n",
            "3 \n"
          ]
        }
      ]
    },
    {
      "cell_type": "code",
      "metadata": {
        "colab": {
          "base_uri": "https://localhost:8080/"
        },
        "id": "hfGlkTaJ161b",
        "outputId": "4398aad5-f219-4d9e-fb8e-e4c02b853656"
      },
      "source": [
        "# 백준 1182\n",
        "# 5 0\n",
        "# -7 -3 -2 5 8\n",
        "# 1\n",
        "\n",
        "from itertools import combinations\n",
        "\n",
        "N, S = map(int, input().split())\n",
        "numbers = list(map(int, input().split()))\n",
        "answer = 0\n",
        "\n",
        "for i in range(1, N + 1):\n",
        "\n",
        "    for combi in combinations(numbers, i):\n",
        "        # print(combi)\n",
        "        if sum(combi) == S:\n",
        "            answer += 1\n",
        "\n",
        "print(answer)"
      ],
      "execution_count": null,
      "outputs": [
        {
          "output_type": "stream",
          "name": "stdout",
          "text": [
            "5 0\n",
            "-7 -3 -2 5 8\n",
            "1\n"
          ]
        }
      ]
    },
    {
      "cell_type": "code",
      "metadata": {
        "id": "sI3TfjpcpPmw",
        "colab": {
          "base_uri": "https://localhost:8080/"
        },
        "outputId": "04771a55-2fd1-4bb9-abab-1cbe8317e6af"
      },
      "source": [
        "# 답안\n",
        "# 완전탐색\n",
        "# 백준 15649\n",
        "# 입력 3 1\n",
        "# 1\n",
        "# 2\n",
        "# 3\n",
        "# 입력 4 2\n",
        "# 1 2\n",
        "# 1 3\n",
        "# 1 4\n",
        "# 2 1\n",
        "# 2 3\n",
        "# 2 4\n",
        "# 3 1\n",
        "# 3 2\n",
        "# 3 4\n",
        "# 4 1\n",
        "# 4 2\n",
        "# 4 3\n",
        "\n",
        "def select_nums_combination(now_idx, selected_list, used_list, n, m):\n",
        "    if now_idx == m:\n",
        "        print(\" \".join(map(str, selected_list)))\n",
        "\n",
        "        return\n",
        "    \n",
        "    for i in range(1, n+1):\n",
        "        if not used_list[i]:\n",
        "            used_list[i] = True\n",
        "            select_nums_combination(now_idx+1, selected_list+[i], used_list, n, m)\n",
        "            used_list[i] = False\n",
        "\n",
        "\n",
        "n, m = map(int, input().split())\n",
        "used_list = [False] * (n+1)\n",
        "\n",
        "select_nums_combination(0, [], used_list, n, m)\n",
        "\n",
        "\n",
        "# for i in range(1, n+1):\n",
        "#     for j in range(1, n+1):\n",
        "#         if i != j:\n",
        "#             print(i, j)"
      ],
      "execution_count": null,
      "outputs": [
        {
          "output_type": "stream",
          "name": "stdout",
          "text": [
            "4 2\n",
            "1 2\n",
            "1 3\n",
            "1 4\n",
            "2 1\n",
            "2 3\n",
            "2 4\n",
            "3 1\n",
            "3 2\n",
            "3 4\n",
            "4 1\n",
            "4 2\n",
            "4 3\n"
          ]
        }
      ]
    },
    {
      "cell_type": "code",
      "metadata": {
        "id": "N1W3YvzppWz6",
        "colab": {
          "base_uri": "https://localhost:8080/"
        },
        "outputId": "49741387-dd79-4767-91cc-aff1ba266ef6"
      },
      "source": [
        "# 답안\n",
        "# 백준 1182\n",
        "# 5 0\n",
        "# -7 -3 -2 5 8\n",
        "# 1\n",
        "\n",
        "def make_subseq(now_idx, selected_sum, num_list, s):#, selected_list):\n",
        "    if now_idx == len(num_list):\n",
        "        if s == selected_sum:#sum(selected_list):\n",
        "            return 1\n",
        "        \n",
        "        return 0\n",
        "\n",
        "    now_val = num_list[now_idx]\n",
        "\n",
        "    now_val_unused_cnt = make_subseq(now_idx+1, selected_sum, num_list, s)#, selected_list)\n",
        "    now_val_used_cnt = make_subseq(now_idx+1, selected_sum + now_val, num_list, s)#, selected_list+[now_val])\n",
        "\n",
        "    return now_val_unused_cnt + now_val_used_cnt\n",
        "\n",
        "\n",
        "n, s = map(int, input().split())\n",
        "num_list = list(map(int, input().split()))\n",
        "\n",
        "result_val = make_subseq(0, 0, num_list, s)#, [])\n",
        "\n",
        "if s == 0:\n",
        "    result_val -= 1\n",
        "\n",
        "print(result_val)\n"
      ],
      "execution_count": null,
      "outputs": [
        {
          "output_type": "stream",
          "name": "stdout",
          "text": [
            "5 0\n",
            "-7 -3 -2 5 8\n",
            "1\n"
          ]
        }
      ]
    },
    {
      "cell_type": "code",
      "metadata": {
        "id": "GvsWeg0UErsr",
        "colab": {
          "base_uri": "https://localhost:8080/"
        },
        "outputId": "ba0a4121-4cd7-4730-cbb7-e1d1f96036c9"
      },
      "source": [
        "# 1158번: 요세푸스 문제 \n",
        "# 7 3\n",
        "# <3, 6, 2, 7, 5, 1, 4>\n",
        "\n",
        "n, k = map(int, input().split())\n",
        "\n",
        "# 1. array\n",
        "# n_list = list(range(1, n+1)) # [i for i in range(1, n+1)]\n",
        "\n",
        "# i = k-1\n",
        "\n",
        "# print(\"<\", end=\"\")\n",
        "\n",
        "# while len(n_list) > 1:\n",
        "#     print(n_list.pop(i), end=\", \")\n",
        "#     i = (i + (k-1)) % len(n_list)\n",
        "\n",
        "# print(f\"{n_list[-1]}>\")\n",
        "\n",
        "# 2. deque\n",
        "\n",
        "# from collections import deque\n",
        "\n",
        "# n_list = deque(range(1, n+1))\n",
        "\n",
        "# result_str = \"<\"\n",
        "\n",
        "# while len(n_list) > 0:\n",
        "#     n_list.rotate(-(k-1))\n",
        "#     result_str += f\"{n_list.popleft()}, \"\n",
        "\n",
        "# print(f\"{result_str.rstrip(', ')}>\")\n",
        "\n",
        "# 3. linked_list\n",
        "\n",
        "class LinkedList:\n",
        "    class Node:\n",
        "        def __init__(self, value, ref=None):\n",
        "            self.value = value\n",
        "            self.next_node = ref\n",
        "\n",
        "    def __init__(self):\n",
        "        self.start_node = None\n",
        "        self.end_node = None\n",
        "        self.size = 0\n",
        "\n",
        "    def empty(self):\n",
        "        return self.size == 0\n",
        "\n",
        "    def append(self, value):\n",
        "        new_node = self.Node(value)\n",
        "        \n",
        "        if self.empty():\n",
        "            new_node.next_node = new_node\n",
        "            self.start_node = new_node\n",
        "        else:\n",
        "            new_node.next_node = self.end_node.next_node\n",
        "            self.end_node.next_node = new_node\n",
        "\n",
        "        self.end_node = new_node\n",
        "        self.size += 1\n",
        "\n",
        "    # 1 -> 2 -> 3\n",
        "    # 1 -> 3\n",
        "\n",
        "    def pop(self, before_target_node):\n",
        "        if not self.empty():\n",
        "            target_node = before_target_node.next_node\n",
        "            before_target_node.next_node = target_node.next_node\n",
        "\n",
        "            self.size -= 1\n",
        "\n",
        "            # TODO\n",
        "            \n",
        "l_list = LinkedList()\n",
        "\n",
        "for i in range(1, n+1):\n",
        "    l_list.append(i)\n",
        "\n"
      ],
      "execution_count": 1,
      "outputs": [
        {
          "name": "stdout",
          "output_type": "stream",
          "text": [
            "7 3\n"
          ]
        }
      ]
    },
    {
      "cell_type": "code",
      "metadata": {
        "id": "nA9FcDyhEr0t"
      },
      "source": [
        ""
      ],
      "execution_count": null,
      "outputs": []
    }
  ]
}