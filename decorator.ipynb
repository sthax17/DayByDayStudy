{
  "nbformat": 4,
  "nbformat_minor": 0,
  "metadata": {
    "colab": {
      "name": "decorator.ipynb",
      "provenance": [],
      "authorship_tag": "ABX9TyO6ucxLvE32E+XkzrpTsSSp"
    },
    "kernelspec": {
      "name": "python3",
      "display_name": "Python 3"
    },
    "language_info": {
      "name": "python"
    }
  },
  "cells": [
    {
      "cell_type": "markdown",
      "metadata": {
        "id": "kMi9phdJlqnv"
      },
      "source": [
        "데코레이터.. 웹어플리케이션 실습"
      ]
    },
    {
      "cell_type": "code",
      "metadata": {
        "colab": {
          "base_uri": "https://localhost:8080/"
        },
        "id": "MYmoya7fx0F4",
        "outputId": "4ce12b9d-3b3b-4a58-d99f-336f768af2c5"
      },
      "source": [
        "def decorator(func):\n",
        "    def decorated():\n",
        "        print('함수 시작!')\n",
        "        func()\n",
        "        print('함수 끝!')\n",
        "    return decorated\n",
        "\n",
        "\n",
        "@decorator\n",
        "def hello_world():\n",
        "    print('Hello World!')\n",
        "\n",
        "hello_world()"
      ],
      "execution_count": null,
      "outputs": [
        {
          "output_type": "stream",
          "text": [
            "함수 시작!\n",
            "Hello World!\n",
            "함수 끝!\n"
          ],
          "name": "stdout"
        }
      ]
    },
    {
      "cell_type": "code",
      "metadata": {
        "id": "F0Zzv2XxhEL8",
        "colab": {
          "base_uri": "https://localhost:8080/"
        },
        "outputId": "dcab667a-2b0f-4971-d312-27a23f24eb78"
      },
      "source": [
        "#1\n",
        "def check_integer(func):\n",
        "    def decorated(width, height):\n",
        "        if width >= 0 and height >= 0:\n",
        "            return func(width, height)\n",
        "        else:\n",
        "            raise ValueError('Input must be positive value')\n",
        "    return decorated\n",
        "\n",
        "\n",
        "@check_integer\n",
        "def rect_area(width, height):\n",
        "    return width * height\n",
        "\n",
        "\n",
        "@check_integer\n",
        "def tri_area(width, height):\n",
        "    return width * height / 2\n",
        "\n",
        "\n",
        "r_area = rect_area(10, 10)\n",
        "\n",
        "print(r_area)\n",
        "\n",
        "t_area = tri_area(10, 10)\n",
        "\n",
        "print(t_area)"
      ],
      "execution_count": null,
      "outputs": [
        {
          "output_type": "stream",
          "text": [
            "100\n",
            "50.0\n"
          ],
          "name": "stdout"
        }
      ]
    },
    {
      "cell_type": "code",
      "metadata": {
        "id": "KEEvYe-pkMwM",
        "colab": {
          "base_uri": "https://localhost:8080/"
        },
        "outputId": "2a3ce686-b0da-4b52-b0f0-e87e2b979fd7"
      },
      "source": [
        "#2\n",
        "def check_integer(func):\n",
        "    def decorated(user, width, height):\n",
        "        if width >= 0 and height >= 0:\n",
        "            return func(user, width, height)\n",
        "        else:\n",
        "            raise ValueError('Input must be positive value')\n",
        "    return decorated\n",
        "\n",
        "\n",
        "def login_required(func):\n",
        "    def decorated(user, width, height):\n",
        "        if user.is_authenticated:\n",
        "            return func(user, width, height)\n",
        "        else:\n",
        "            raise PermissionError('Login required')\n",
        "    return decorated\n",
        "\n",
        "\n",
        "@login_required\n",
        "@check_integer\n",
        "def rect_area(user, width, height):\n",
        "    return width * height\n",
        "\n",
        "\n",
        "@login_required\n",
        "@check_integer\n",
        "def tri_area(user, width, height):\n",
        "    return width * height / 2\n",
        "\n",
        "\n",
        "class User:\n",
        "    def __init__(self, auth):\n",
        "        self.is_authenticated = auth\n",
        "\n",
        "\n",
        "user = User(auth=True)\n",
        "\n",
        "r_area = rect_area(user, 10, 10)\n",
        "print(r_area)\n",
        "\n",
        "t_area = tri_area(user, 10, 10)\n",
        "print(t_area)"
      ],
      "execution_count": null,
      "outputs": [
        {
          "output_type": "stream",
          "text": [
            "100\n",
            "50.0\n"
          ],
          "name": "stdout"
        }
      ]
    },
    {
      "cell_type": "code",
      "metadata": {
        "id": "5s3ym3pukpZm",
        "colab": {
          "base_uri": "https://localhost:8080/"
        },
        "outputId": "9140930b-960d-4752-fd36-b3a5ec3b4682"
      },
      "source": [
        "#3\n",
        "\n",
        "def check_integer(func):\n",
        "    def decorated(**kwargs):\n",
        "        if kwargs['width'] >= 0 and kwargs['height'] >= 0:\n",
        "            return func(**kwargs)\n",
        "        else:\n",
        "            raise ValueError('Input must be positive value')\n",
        "    return decorated\n",
        "\n",
        "\n",
        "def login_required(func):\n",
        "    def decorated(**kwargs):\n",
        "        if kwargs['user'].is_authenticated:\n",
        "            return func(**kwargs)\n",
        "        else:\n",
        "            raise PermissionError('Login required')\n",
        "    return decorated\n",
        "\n",
        "\n",
        "@login_required\n",
        "@check_integer\n",
        "def rect_area(**kwargs):\n",
        "    return kwargs['width'] * kwargs['height']\n",
        "\n",
        "\n",
        "@login_required\n",
        "@check_integer\n",
        "def tri_area(**kwargs):\n",
        "    return kwargs['width'] * kwargs['height'] / 2\n",
        "\n",
        "\n",
        "class User:\n",
        "    def __init__(self, auth):\n",
        "        self.is_authenticated = auth\n",
        "\n",
        "\n",
        "user = User(auth=True)\n",
        "\n",
        "r_area = rect_area(user=user, width=10, height=10)\n",
        "print(r_area)\n",
        "\n",
        "t_area = tri_area(user=user, width=10, height=10)\n",
        "print(t_area)\n"
      ],
      "execution_count": null,
      "outputs": [
        {
          "output_type": "stream",
          "text": [
            "100\n",
            "50.0\n"
          ],
          "name": "stdout"
        }
      ]
    },
    {
      "cell_type": "markdown",
      "metadata": {
        "id": "fltWFIymgIcH"
      },
      "source": [
        "혼파공 파이썬"
      ]
    },
    {
      "cell_type": "code",
      "metadata": {
        "id": "b6-uNQB7gJOf"
      },
      "source": [
        "def 데코레이터(함수):\n",
        "  print('미리 어떤 처리를 진행합니다')\n",
        "  return 함수\n",
        "\n",
        "@데코레이터\n",
        "def 테스트():\n",
        "  print('안녕하세요')\n",
        "\n",
        "테스트()"
      ],
      "execution_count": null,
      "outputs": []
    },
    {
      "cell_type": "code",
      "metadata": {
        "id": "RapureXdgMv0"
      },
      "source": [
        "def 외부데코레이터(number):\n",
        "  def 데코레이터(함수):\n",
        "    print('미리 어떤 처리를 진행합니다', number)\n",
        "    return 함수\n",
        "  return 데코레이터\n",
        "  \n",
        "@외부데코레이터(number=100)\n",
        "def 테스트():\n",
        "  print('안녕하세요')\n",
        "\n",
        "테스트()"
      ],
      "execution_count": null,
      "outputs": []
    },
    {
      "cell_type": "code",
      "metadata": {
        "id": "WcW5OHqxgMyT"
      },
      "source": [
        "def test(function):\n",
        "  def wrapper():\n",
        "    print('인사가 시작되었습니다.')\n",
        "    function()\n",
        "    print('인사가 종료되었습니다')\n",
        "  return wrapper\n",
        "\n",
        "@test\n",
        "def hello():\n",
        "  print('hello')\n",
        "\n",
        "hello()   "
      ],
      "execution_count": null,
      "outputs": []
    },
    {
      "cell_type": "code",
      "metadata": {
        "id": "wOyXsR79gM0l"
      },
      "source": [
        "from functools import wraps\n",
        "\n",
        "def test(function):\n",
        "  @wraps(function) \n",
        "def wrapper(*arg, **kwargs): \n",
        "  print('인사가 시작되었습니다.')\n",
        "  function(*arg, **kwargs)\n",
        "  print('인사가 종료되었습니다')\n",
        "  return wrapper"
      ],
      "execution_count": null,
      "outputs": []
    },
    {
      "cell_type": "code",
      "metadata": {
        "colab": {
          "base_uri": "https://localhost:8080/"
        },
        "id": "dWqy7za4gM23",
        "outputId": "000865ce-65dc-459f-95d5-1409b88538fb"
      },
      "source": [
        "def trace(func):\n",
        "  def wrapper(a, b):\n",
        "    r = func(a, b)\n",
        "    print('{0}(a={1}, b={2}) -> {3}'. format(func.__name__, a, b, r))\n",
        "    return r\n",
        "  return wrapper\n",
        "\n",
        "@trace\n",
        "def add(a, b):\n",
        "  return a + b\n",
        "\n",
        "print(add(10, 20))"
      ],
      "execution_count": null,
      "outputs": [
        {
          "output_type": "stream",
          "text": [
            "add(a=10, b=20) -> 30\n",
            "30\n"
          ],
          "name": "stdout"
        }
      ]
    },
    {
      "cell_type": "code",
      "metadata": {
        "colab": {
          "base_uri": "https://localhost:8080/"
        },
        "id": "VCVSHLgimr7B",
        "outputId": "b3d5106a-8858-4fdc-8eb9-d52709b65aa5"
      },
      "source": [
        "# 모듈 가져오기\n",
        "import math\n",
        "\n",
        "# 클래스 선언\n",
        "class Circle:\n",
        "    def __init__(self,radius):\n",
        "        if radius <= 0:\n",
        "            raise TypeError(\"양수를 넣어주세요\")\n",
        "        self.__radius = radius\n",
        "    def get_circumference(self):\n",
        "        return 2 * math.pi * self.__radius\n",
        "    def get_area(self):\n",
        "        return math.pi*(self.__radius**2)\n",
        "    @property\n",
        "    def radius(self):\n",
        "        return self.__radius\n",
        "    @radius.setter\n",
        "    def radius(self,value):\n",
        "        if value<=0 :\n",
        "            raise TypeError(\"길이가 양의 숫자여야 한다.\")\n",
        "        self.__radius = value        \n",
        "\n",
        "circle = CirAcle(10)\n",
        "print(\"원의 둘레 :\",circle.get_circumference())\n",
        "print(\"원의 넓이 :\",circle.get_area())\n",
        "\n",
        "print(\"원래 반지름 :\",circle.radius)\n",
        "circle.radius = 15  # 데코 이전처럼 사용시 오류발생, 연산자사용\n",
        "print(\"변경된 반지름 :\",circle.radius)\n",
        "\n",
        "# 데코레이터 이전 접근 및 수정\n",
        "# print(circle.get_radius())\n",
        "# circle.set_radius(15)"
      ],
      "execution_count": null,
      "outputs": [
        {
          "output_type": "stream",
          "text": [
            "원의 둘레 : 62.83185307179586\n",
            "원의 넓이 : 314.1592653589793\n",
            "원래 반지름 : 10\n",
            "변경된 반지름 : 15\n"
          ],
          "name": "stdout"
        }
      ]
    },
    {
      "cell_type": "code",
      "metadata": {
        "id": "5I5G1fLBhngJ"
      },
      "source": [
        "\n",
        "\n"
      ],
      "execution_count": null,
      "outputs": []
    }
  ]
}