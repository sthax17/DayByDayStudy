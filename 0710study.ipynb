{
  "nbformat": 4,
  "nbformat_minor": 0,
  "metadata": {
    "colab": {
      "name": "0710study",
      "provenance": []
    },
    "kernelspec": {
      "name": "python3",
      "display_name": "Python 3"
    },
    "language_info": {
      "name": "python"
    }
  },
  "cells": [
    {
      "cell_type": "code",
      "metadata": {
        "id": "OvPgw-Jsm36D"
      },
      "source": [
        "n = int(input())\n",
        "for i in range(n):\n",
        "  ox = input()\n",
        "  cnt = 0\n",
        "  score = 0\n",
        "\n",
        "  for j in range(len(ox)):\n",
        "    if ox[j] == 'O':\n",
        "      cnt += 1\n",
        "      score += cnt\n",
        "    elif ox[j] == 'X':\n",
        "      cnt = 0\n",
        "      score += cnt\n",
        "\n",
        "  print(score)\n",
        "\n",
        "\n"
      ],
      "execution_count": null,
      "outputs": []
    },
    {
      "cell_type": "code",
      "metadata": {
        "id": "B_HjDTfG28b0"
      },
      "source": [
        "n = int(input())\n",
        "for i in range(n):\n",
        "  student = list(map(int, input().split()))\n",
        "  avg = sum(student[1:]) / student[0]  \n",
        "  cnt = 0\n",
        "  for score in student[1:]:\n",
        "    if score > avg:\n",
        "      cnt += 1\n",
        "  rate = (cnt/student[0]) * 100\n",
        "  print(f'{rate:.3f}%')\n"
      ],
      "execution_count": null,
      "outputs": []
    },
    {
      "cell_type": "code",
      "metadata": {
        "id": "P-vtkxpAavF7"
      },
      "source": [
        "def solve(a):\n",
        "  return sum(a)\n"
      ],
      "execution_count": 3,
      "outputs": []
    },
    {
      "cell_type": "code",
      "metadata": {
        "id": "N46cdjPJtpFD"
      },
      "source": [
        "def solve(a):\n",
        "  t = 0\n",
        "  for i in a:\n",
        "    t += i\n",
        "  return t"
      ],
      "execution_count": 10,
      "outputs": []
    },
    {
      "cell_type": "code",
      "metadata": {
        "id": "4I4A75r2u1b_"
      },
      "source": [
        "natural_number_set = set(range(1, 10001))\n",
        "generated_number_set= set()\n",
        "\n",
        "for i in range(1, 10001):\n",
        "    for j in str(i):\n",
        "        i += int(j)\n",
        "    generated_number_set.add(i)\n",
        "\n",
        "self_number_set = natural_number_set - generated_number_set\n",
        "\n",
        "for i in sorted(self_number_set):\n",
        "    print(i)"
      ],
      "execution_count": null,
      "outputs": []
    },
    {
      "cell_type": "code",
      "metadata": {
        "id": "Z6owlwmpu1ea"
      },
      "source": [
        ""
      ],
      "execution_count": null,
      "outputs": []
    },
    {
      "cell_type": "code",
      "metadata": {
        "id": "dzGO5l0Pvz2D"
      },
      "source": [
        ""
      ],
      "execution_count": null,
      "outputs": []
    }
  ]
}