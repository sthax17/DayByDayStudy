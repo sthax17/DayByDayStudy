{
  "nbformat": 4,
  "nbformat_minor": 0,
  "metadata": {
    "colab": {
      "name": "0818 study(algorithm).ipynb",
      "provenance": [],
      "authorship_tag": "ABX9TyOggZXSur+mxwZq8K2ob+/7"
    },
    "kernelspec": {
      "name": "python3",
      "display_name": "Python 3"
    },
    "language_info": {
      "name": "python"
    }
  },
  "cells": [
    {
      "cell_type": "code",
      "metadata": {
        "colab": {
          "base_uri": "https://localhost:8080/"
        },
        "id": "767aNBruIBqT",
        "outputId": "7a99981a-48ac-45a2-b45b-dcc430f444f5"
      },
      "source": [
        "# 재귀 문제 (1) - 진법 변환\n",
        "n,x = input().split()\n",
        "print(int(n,int(x)))"
      ],
      "execution_count": 1,
      "outputs": [
        {
          "output_type": "stream",
          "text": [
            "zzzzz 36\n",
            "60466175\n"
          ],
          "name": "stdout"
        }
      ]
    },
    {
      "cell_type": "code",
      "metadata": {
        "colab": {
          "base_uri": "https://localhost:8080/"
        },
        "id": "NCT3W3fYLEys",
        "outputId": "602f7bbe-680c-4e11-fb39-21587d43607e"
      },
      "source": [
        "# 재귀 문제 (2) - 진법 변환2\n",
        "system = \"0123456789ABCDEFGHIJKLMNOPQRSTUVWXYZ\"\n",
        "N, B = map(int, input().split())\n",
        "answer = ''\n",
        "\n",
        "while N != 0:\n",
        "    answer += str(system[N % B])\n",
        "    N //= B\n",
        "    \n",
        "print(answer[::-1])"
      ],
      "execution_count": 2,
      "outputs": [
        {
          "output_type": "stream",
          "text": [
            "60466175 36\n",
            "ZZZZZ\n"
          ],
          "name": "stdout"
        }
      ]
    },
    {
      "cell_type": "code",
      "metadata": {
        "colab": {
          "base_uri": "https://localhost:8080/"
        },
        "id": "UsGiuuSBMtBd",
        "outputId": "9e9e111d-0545-4381-b3e5-d2c273a2892a"
      },
      "source": [
        "# decimal_conversion_class5_iteration\n",
        "\n",
        "# ZZZZZ 36\n",
        "# 60466175\n",
        "\n",
        "# 0: 36^4\n",
        "# 1: 36^3\n",
        "# 2: 36^2\n",
        "# 3: 36^1\n",
        "# 4: 36^0\n",
        "\n",
        "num_str, b = input().split()\n",
        "\n",
        "# 1)\n",
        "# print(int(num_astr, int(b)))\n",
        "\n",
        "# 2)\n",
        "decimal_result = 0\n",
        "\n",
        "# 2-2)\n",
        "# char_dict = {'0': 0, '1': 1, ..., '9': 9, 'A': 10, 'B': 11, ..., 'Z': 35}\n",
        "char_map_str = \"0123456789ABCDEFGHIJKLMNOPQRSTUVWXYZ\"\n",
        "\n",
        "for i in range(0, len(num_str)):\n",
        "    s_num = len(num_str)-1-i\n",
        "\n",
        "    if num_str[i].isnumeric():\n",
        "        num_val = int(num_str[i])\n",
        "    else: # elif ord('A') <= ord(num_str[i]) <= ord('Z'):\n",
        "        num_val = ord(num_str[i]) - ord('A') + 10\n",
        "\n",
        "    # 2-2)\n",
        "    # num_val = char_dict[num_str[i]]\n",
        "    # num_val = char_map_str.index(num_str[i])\n",
        "\n",
        "    decimal_result += num_val * (int(b) ** s_num)\n",
        "    \n",
        "print(decimal_result)    "
      ],
      "execution_count": 7,
      "outputs": [
        {
          "output_type": "stream",
          "text": [
            "ZZZZZ 36\n",
            "60466175\n"
          ],
          "name": "stdout"
        }
      ]
    },
    {
      "cell_type": "code",
      "metadata": {
        "colab": {
          "base_uri": "https://localhost:8080/"
        },
        "id": "vdFbdRCKMuPh",
        "outputId": "4a7aab82-0e5b-4e2e-d19e-48d02d995b81"
      },
      "source": [
        "# decimal_conversion_class5_recursion\n",
        "\n",
        "\n",
        "# 1)\n",
        "\n",
        "def decimal_conv(i, num_str, b):\n",
        "    if i == len(num_str):\n",
        "        return 0\n",
        "\n",
        "    s_num = len(num_str)-1-i\n",
        "\n",
        "    if num_str[i].isnumeric():\n",
        "        num_val = int(num_str[i])\n",
        "    else:\n",
        "        num_val = ord(num_str[i]) - ord('A') + 10\n",
        "\n",
        "    return num_val * (b ** s_num) + decimal_conv(i+1, num_str, b)\n",
        "\n",
        "num_str, b = input().split()\n",
        "print(decimal_conv(0, num_str, int(b)))\n",
        "\n"
      ],
      "execution_count": 8,
      "outputs": [
        {
          "output_type": "stream",
          "text": [
            "ZZZZZ 36\n",
            "60466175\n"
          ],
          "name": "stdout"
        }
      ]
    },
    {
      "cell_type": "code",
      "metadata": {
        "colab": {
          "base_uri": "https://localhost:8080/"
        },
        "id": "8GOKn0yxOWPl",
        "outputId": "f077e02c-2ae5-41a1-f8c6-435838b3be92"
      },
      "source": [
        "# 2)\n",
        "\n",
        "def decimal_conv_dict(i, num_str, b, char_dict):\n",
        "    if i == len(num_str):\n",
        "        return 0\n",
        "\n",
        "    s_num = len(num_str)-1-i\n",
        "\n",
        "    return char_dict[num_str[i]] * (b ** s_num) + decimal_conv_dict(i+1, num_str, b, char_dict)\n",
        "\n",
        "char_dict = {}\n",
        "\n",
        "for i in range(36):\n",
        "    if i < 10:\n",
        "        char_dict[str(i)] = i\n",
        "    else:\n",
        "        char_dict[chr(i-10+ord('A'))] = i\n",
        "\n",
        "num_str, b = input().split()\n",
        "print(decimal_conv_dict(0, num_str, int(b), char_dict))"
      ],
      "execution_count": 10,
      "outputs": [
        {
          "output_type": "stream",
          "text": [
            "ZZZZZ 36\n",
            "60466175\n"
          ],
          "name": "stdout"
        }
      ]
    },
    {
      "cell_type": "code",
      "metadata": {
        "colab": {
          "base_uri": "https://localhost:8080/"
        },
        "id": "SfkFaJaQMxEA",
        "outputId": "9632a23d-62dd-4e74-84fc-a16859434679"
      },
      "source": [
        "# convert_from_decimal_class5_iteration\n",
        "\n",
        "n, b = map(int, input().split())\n",
        "result_list = []\n",
        "q = n\n",
        "\n",
        "char_map_str = \"0123456789ABCDEFGHIJKLMNOPQRSTUVWXYZ\"\n",
        "\n",
        "while q > 0:\n",
        "    q, r = divmod(q, b)\n",
        "    # 1)\n",
        "    if r < 10:\n",
        "        result_list.append(str(r))\n",
        "    else:\n",
        "        # r => 10 ~ 35\n",
        "        # r-10 => 0 ~ 25\n",
        "        # r-10+ord('A') => ord('A') ~ ord('Z')\n",
        "        # chr(r-10+ord('A')) => 'A' ~ 'Z'\n",
        "\n",
        "        result_list.append(chr(r-10+ord('A')))\n",
        "    \n",
        "    # 2)\n",
        "    # result_list.append(char_map_str[r])\n",
        "\n",
        "print(\"\".join(result_list[::-1]))\n",
        "# convert_from_decimal_class5_recursion\n"
      ],
      "execution_count": 6,
      "outputs": [
        {
          "output_type": "stream",
          "text": [
            "60466175 36\n",
            "ZZZZZ\n"
          ],
          "name": "stdout"
        }
      ]
    },
    {
      "cell_type": "code",
      "metadata": {
        "colab": {
          "base_uri": "https://localhost:8080/"
        },
        "id": "G2db8tB6M5ma",
        "outputId": "7ca4299c-e5fd-448a-fc7e-2e4353342dfa"
      },
      "source": [
        "def convert_from_dec(q, b):\n",
        "    if q == 0:\n",
        "        return \"\"\n",
        "\n",
        "    q, r = divmod(q, b)\n",
        "\n",
        "    if r < 10:\n",
        "        target_char = str(r)\n",
        "    else:\n",
        "        target_char = chr(r-10+ord('A'))\n",
        "\n",
        "    return convert_from_dec(q, b) + target_char\n",
        "\n",
        "n, b = map(int, input().split())\n",
        "\n",
        "print(convert_from_dec(n, b))"
      ],
      "execution_count": 5,
      "outputs": [
        {
          "output_type": "stream",
          "text": [
            "60466175 36\n",
            "ZZZZZ\n"
          ],
          "name": "stdout"
        }
      ]
    }
  ]
}