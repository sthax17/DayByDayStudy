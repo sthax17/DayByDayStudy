{
  "nbformat": 4,
  "nbformat_minor": 0,
  "metadata": {
    "colab": {
      "name": "study baekjoon(0814).ipynb",
      "provenance": [],
      "authorship_tag": "ABX9TyO+HzChIDh31IzXukC39atr"
    },
    "kernelspec": {
      "name": "python3",
      "display_name": "Python 3"
    },
    "language_info": {
      "name": "python"
    }
  },
  "cells": [
    {
      "cell_type": "code",
      "metadata": {
        "id": "2avQT0Z_4WOv"
      },
      "source": [
        "# No.15596 정수 N개의 합\n",
        "# a: 합을 구해야 하는 정수 n개가 저장되어 있는 리스트 (0 ≤ a[i] ≤ 1,000,000, 1 ≤ n ≤ 3,000,000)\n",
        "# 리턴값: a에 포함되어 있는 정수 n개의 합 (정수)\n",
        "def solve(a):\n",
        "  ans = 0\n",
        "  for i in a:\n",
        "    ans += i\n",
        "    return ans\n"
      ],
      "execution_count": 7,
      "outputs": []
    },
    {
      "cell_type": "code",
      "metadata": {
        "id": "qRckG-zjNICP"
      },
      "source": [
        "def solve(a):\n",
        "  return sum(a)"
      ],
      "execution_count": 3,
      "outputs": []
    },
    {
      "cell_type": "code",
      "metadata": {
        "id": "9Ysf5PGtaKMp"
      },
      "source": [
        "# No.4673 셀프넘버\n",
        "\n",
        "#함수 d 구현하기\n",
        "def d(n):\n",
        "  n=n+sum(map(int,str(n))) \n",
        "  return n\n",
        "\n",
        "#생성자가 있는지 확인할 리스트 초기화하기\n",
        "a=[0]*10001\n",
        "\n",
        "#생성자 찾기\n",
        "for i in range(1,10001):\n",
        "  a[i]=d(i)\n",
        "\n",
        "for i in range(1,10001):\n",
        "  #셀프넘버라면 출력하기\n",
        "  if i not in a:\n",
        "    print(i)"
      ],
      "execution_count": null,
      "outputs": []
    },
    {
      "cell_type": "code",
      "metadata": {
        "colab": {
          "base_uri": "https://localhost:8080/"
        },
        "id": "AAo1irtRm4JA",
        "outputId": "65153c46-2d4a-4b7f-9235-5137c2af8079"
      },
      "source": [
        "# No.1065 한수\n",
        "num = int(input())\n",
        "hansu = 0\n",
        "\n",
        "for n in range(1, num+1) :\n",
        "    if n <= 99 : # 1부터 99까지는 모두 한수\n",
        "        hansu += 1 \n",
        "    \n",
        "    else :     \n",
        "        nums = list(map(int, str(n))) # 숫자를 자릿수대로 분리 \n",
        "        if nums[0] - nums[1] == nums[1] - nums[2] : #등차수열 확인\n",
        "            hansu+=1\n",
        "print(hansu)"
      ],
      "execution_count": null,
      "outputs": [
        {
          "output_type": "stream",
          "text": [
            "110\n",
            "99\n"
          ],
          "name": "stdout"
        }
      ]
    },
    {
      "cell_type": "code",
      "metadata": {
        "id": "AUJYWUcINbHp"
      },
      "source": [
        "num = int(input())\n",
        "hansu = 0\n",
        "\n",
        "for n in range(1, num+1) :\n",
        "    if n <= 99 : \n",
        "        hansu += 1 \n",
        "    \n",
        "    else :     \n",
        "        nums = list(map(int, str(n))) \n",
        "        if nums[0] - nums[1] == nums[1] - nums[2] : \n",
        "            hansu+=1\n",
        "print(hansu)"
      ],
      "execution_count": null,
      "outputs": []
    },
    {
      "cell_type": "code",
      "metadata": {
        "colab": {
          "base_uri": "https://localhost:8080/"
        },
        "id": "TjcGLTJxgQsG",
        "outputId": "65c4ec60-122c-4143-c648-a06831a0fbd4"
      },
      "source": [
        "# No.11654 아스키코드\n",
        "\n",
        "print(ord(input()))"
      ],
      "execution_count": 10,
      "outputs": [
        {
          "output_type": "stream",
          "text": [
            "A\n",
            "65\n"
          ],
          "name": "stdout"
        }
      ]
    },
    {
      "cell_type": "code",
      "metadata": {
        "colab": {
          "base_uri": "https://localhost:8080/"
        },
        "id": "Ib5-X1-h2GFy",
        "outputId": "6ab4fcbf-bdb5-4007-cd0a-46bb967ec11b"
      },
      "source": [
        "# No.11720 숫자의 합\n",
        "n = input()\n",
        "\n",
        "print(sum(map(int,input())))"
      ],
      "execution_count": 11,
      "outputs": [
        {
          "output_type": "stream",
          "text": [
            "5\n",
            "54321\n",
            "15\n"
          ],
          "name": "stdout"
        }
      ]
    },
    {
      "cell_type": "code",
      "metadata": {
        "colab": {
          "base_uri": "https://localhost:8080/"
        },
        "id": "rcxBq8mJ4z3k",
        "outputId": "9049d85e-1397-4298-f818-346801b09f07"
      },
      "source": [
        "n = input()\n",
        "nums = input()\n",
        "total = 0\n",
        "for i in nums :\n",
        "    total += int(i)  # total= total+int(i)\n",
        "print(total)"
      ],
      "execution_count": 12,
      "outputs": [
        {
          "output_type": "stream",
          "text": [
            "5\n",
            "54321\n",
            "15\n"
          ],
          "name": "stdout"
        }
      ]
    },
    {
      "cell_type": "code",
      "metadata": {
        "id": "sYHPVa8V41Ab"
      },
      "source": [
        "n = input()\n",
        "nums = input()\n",
        "total = 0\n",
        "for i in range(n) :  # 0부터 n-1까지\n",
        "    total += int(nums[i])\n",
        "print(total)"
      ],
      "execution_count": null,
      "outputs": []
    }
  ]
}