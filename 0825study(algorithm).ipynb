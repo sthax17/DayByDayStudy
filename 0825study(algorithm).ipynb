{
  "nbformat": 4,
  "nbformat_minor": 0,
  "metadata": {
    "colab": {
      "name": "0825study(algorithm).ipynb",
      "provenance": [],
      "collapsed_sections": [],
      "authorship_tag": "ABX9TyPS4LcTaLhBT8eA3GetkQGo"
    },
    "kernelspec": {
      "name": "python3",
      "display_name": "Python 3"
    },
    "language_info": {
      "name": "python"
    }
  },
  "cells": [
    {
      "cell_type": "code",
      "metadata": {
        "colab": {
          "base_uri": "https://localhost:8080/"
        },
        "id": "VxZGCpfDVl--",
        "outputId": "c3caba13-2ed2-44a7-de1a-6bb8fae19f83"
      },
      "source": [
        "# 백준 5585 거스름돈\n",
        "a = 1000 - int(input())\n",
        "b = [500, 100, 50, 10, 5, 1]\n",
        "count = 0\n",
        "for i in b:\n",
        "    count += a // i\n",
        "    a %= i\n",
        "print(count)"
      ],
      "execution_count": 1,
      "outputs": [
        {
          "output_type": "stream",
          "text": [
            "1\n",
            "15\n"
          ],
          "name": "stdout"
        }
      ]
    },
    {
      "cell_type": "code",
      "metadata": {
        "colab": {
          "base_uri": "https://localhost:8080/"
        },
        "id": "e_hqpwZRWNz6",
        "outputId": "c9dc9841-4e77-4946-d181-b0f81ac2fb21"
      },
      "source": [
        "a = int(input())\n",
        "b = 0\n",
        "\n",
        "a = 1000 - a\n",
        "\n",
        "b += (a // 500)\n",
        "a %= 500\n",
        "\n",
        "b += (a // 100)\n",
        "a %= 100\n",
        "\n",
        "b += (a // 50)\n",
        "a %= 50\n",
        "\n",
        "b += (a // 10)\n",
        "a %= 10\n",
        "\n",
        "b += (a // 5)\n",
        "a %= 5\n",
        "\n",
        "b += (a // 1)\n",
        "a %= 1\n",
        "\n",
        "print(b)"
      ],
      "execution_count": 2,
      "outputs": [
        {
          "output_type": "stream",
          "text": [
            "1\n",
            "15\n"
          ],
          "name": "stdout"
        }
      ]
    },
    {
      "cell_type": "code",
      "metadata": {
        "colab": {
          "base_uri": "https://localhost:8080/"
        },
        "id": "SZMicfQwWUwZ",
        "outputId": "d22999c2-1100-4c5d-c3eb-9a7a56546bfe"
      },
      "source": [
        "n = 1000 - int(input())\n",
        "coin_list = [500,100,50,10,5,1]\n",
        "\n",
        "# 1) iteration\n",
        "# result_cnt = 0\n",
        "\n",
        "# for coin in coin_list:\n",
        "#     result_cnt += n // coin\n",
        "#     n %= coin\n",
        "\n",
        "# print(result_cnt)\n",
        "\n",
        "# 2) recursion\n",
        "\n",
        "def calc_coin(i, coin_list, remain):\n",
        "    if i == len(coin_list):\n",
        "        return 0\n",
        "\n",
        "    return remain // coin_list[i] + calc_coin(i+1, coin_list, remain % coin_list[i])\n",
        "\n",
        "print(calc_coin(0, coin_list, n))"
      ],
      "execution_count": 3,
      "outputs": [
        {
          "output_type": "stream",
          "text": [
            "1\n",
            "15\n"
          ],
          "name": "stdout"
        }
      ]
    },
    {
      "cell_type": "code",
      "metadata": {
        "colab": {
          "base_uri": "https://localhost:8080/"
        },
        "id": "67-FODW-Vx-W",
        "outputId": "702c8210-6960-46d2-835d-e26e14068d27"
      },
      "source": [
        "# 백준 11047 동전\n",
        "\n",
        "n,k=map(int,input().split())\n",
        "coin=[]\n",
        "\n",
        "for i in range(n):\n",
        "  coin.append(int(input()))\n",
        "\n",
        "result=0\n",
        "\n",
        "coin.sort(reverse=True)\n",
        "\n",
        "for i in coin:\n",
        "  if k==0: break\n",
        "  result+=k//i\n",
        "  k%=i\n",
        "  \n",
        "print(result)"
      ],
      "execution_count": 5,
      "outputs": [
        {
          "output_type": "stream",
          "text": [
            "10 4200\n",
            "1\n",
            "5\n",
            "10\n",
            "50\n",
            "100\n",
            "500\n",
            "1000\n",
            "5000\n",
            "10000\n",
            "50000\n",
            "6\n"
          ],
          "name": "stdout"
        }
      ]
    },
    {
      "cell_type": "code",
      "metadata": {
        "colab": {
          "base_uri": "https://localhost:8080/"
        },
        "id": "b-GUKzGOWv9v",
        "outputId": "54f2ed9c-e335-48f4-ce84-3bbd9ed87728"
      },
      "source": [
        "N, K = map(int, input().split()) \n",
        "coin_lst = [int(input()) for _ in range(N)]\n",
        "\n",
        "count = 0\n",
        "\n",
        "for i in range(1, N+1): #1\n",
        "    coin = coin_lst[-i] #2\n",
        "    if K >= coin: #3\n",
        "      mok = K // coin #4\n",
        "      K -= coin*mok #5\n",
        "      count += mok #6\n",
        "\n",
        "print(count)"
      ],
      "execution_count": 6,
      "outputs": [
        {
          "output_type": "stream",
          "text": [
            "10 4200\n",
            "1\n",
            "5\n",
            "10\n",
            "50\n",
            "100\n",
            "500\n",
            "1000\n",
            "5000\n",
            "10000\n",
            "50000\n",
            "6\n"
          ],
          "name": "stdout"
        }
      ]
    },
    {
      "cell_type": "code",
      "metadata": {
        "colab": {
          "base_uri": "https://localhost:8080/"
        },
        "id": "DqSNTYh0W_K6",
        "outputId": "fc1508ea-03af-4d50-b780-6ae9820503ab"
      },
      "source": [
        "m, n  = map(int,input().split())\n",
        "\n",
        "coin_list = []\n",
        "\n",
        "for i in range(m):\n",
        "  coin_list.append(int(input()))\n",
        "\n",
        "\n",
        "def calc_coin(i, coin_list, remain):\n",
        "    if i == len(coin_list):\n",
        "        return 0\n",
        "\n",
        "    return remain // coin_list[i] + calc_coin(i+1, coin_list, remain % coin_list[i])\n",
        "\n",
        "print(calc_coin(0, coin_list, n))"
      ],
      "execution_count": 11,
      "outputs": [
        {
          "output_type": "stream",
          "text": [
            "10 4200\n",
            "1\n",
            "5\n",
            "10\n",
            "50\n",
            "100\n",
            "500\n",
            "1000\n",
            "5000\n",
            "10000\n",
            "50000\n",
            "4200\n"
          ],
          "name": "stdout"
        }
      ]
    },
    {
      "cell_type": "code",
      "metadata": {
        "colab": {
          "base_uri": "https://localhost:8080/"
        },
        "id": "VfPsIDE2VyBV",
        "outputId": "447f82a2-7d0f-49fa-ea76-6359ea8af71b"
      },
      "source": [
        "# 백준 1931 회의실배정\n",
        "n = int(input())\n",
        "meet_list = []\n",
        "\n",
        "for _ in range(n):\n",
        "    start_time, end_time = map(int, input().split())\n",
        "    # meet_list.append((start_time, end_time))\n",
        "    meet_list.append([end_time, start_time])\n",
        "\n",
        "print(meet_list)\n",
        "meet_list.sort()\n",
        "# meet_list.sort(key=lambda row: (row[1], row[0]))\n",
        "print(meet_list) "
      ],
      "execution_count": 12,
      "outputs": [
        {
          "output_type": "stream",
          "text": [
            "11\n",
            "1 4\n",
            "3 5\n",
            "0 6\n",
            "5 7\n",
            "3 8\n",
            "5 9\n",
            "6 10\n",
            "8 11\n",
            "8 12\n",
            "2 13\n",
            "12 14\n",
            "[[4, 1], [5, 3], [6, 0], [7, 5], [8, 3], [9, 5], [10, 6], [11, 8], [12, 8], [13, 2], [14, 12]]\n",
            "[[4, 1], [5, 3], [6, 0], [7, 5], [8, 3], [9, 5], [10, 6], [11, 8], [12, 8], [13, 2], [14, 12]]\n"
          ],
          "name": "stdout"
        }
      ]
    },
    {
      "cell_type": "code",
      "metadata": {
        "colab": {
          "base_uri": "https://localhost:8080/"
        },
        "id": "tTtUPw8mVyDD",
        "outputId": "a4d645af-8bc3-4c3e-f50f-be86b460f6b9"
      },
      "source": [
        "# 끝나는 시간 기준으로 정렬하면 간단하게 정리가 된다\n",
        "# 11\n",
        "# 1 4\n",
        "# 3 5\n",
        "# 0 6\n",
        "# 5 7\n",
        "# 3 8\n",
        "# 5 9\n",
        "# 6 10\n",
        "# 8 12\n",
        "# 8 11\n",
        "# 2 13\n",
        "# 12 14\n",
        "\n",
        "n = int(input())\n",
        "meet_list = []\n",
        "\n",
        "for _ in range(n):\n",
        "    start_time, end_time = map(int, input().split())\n",
        "    # meet_list.append((start_time, end_time))\n",
        "    meet_list.append([end_time, start_time])\n",
        "\n",
        "# print(meet_list)\n",
        "# meet_list.sort(key=lambda x: (x[1], x[0]))\n",
        "meet_list.sort()\n",
        "# print(meet_list)\n",
        "\n",
        "result_meet_cnt = 1\n",
        "last_meet_end_time = meet_list[0][0]\n",
        "\n",
        "for meet in meet_list:\n",
        "    end_time, start_time = meet\n",
        "\n",
        "    if start_time >= last_meet_end_time:\n",
        "        result_meet_cnt += 1\n",
        "        last_meet_end_time = end_time\n",
        "        # print(meet)\n",
        "\n",
        "print(result_meet_cnt)"
      ],
      "execution_count": 13,
      "outputs": [
        {
          "output_type": "stream",
          "text": [
            "11\n",
            "1 4\n",
            "3 5\n",
            "0 6\n",
            "5 7\n",
            "3 8\n",
            "5 9\n",
            "6 10\n",
            "8 12\n",
            "8 11\n",
            "2 13\n",
            "12 14\n",
            "4\n"
          ],
          "name": "stdout"
        }
      ]
    }
  ]
}