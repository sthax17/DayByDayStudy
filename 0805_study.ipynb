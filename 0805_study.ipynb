{
  "nbformat": 4,
  "nbformat_minor": 0,
  "metadata": {
    "colab": {
      "name": "0805 study.ipynb",
      "provenance": [],
      "authorship_tag": "ABX9TyPgkxz4062+72NbrykQh/aj"
    },
    "kernelspec": {
      "name": "python3",
      "display_name": "Python 3"
    },
    "language_info": {
      "name": "python"
    }
  },
  "cells": [
    {
      "cell_type": "code",
      "metadata": {
        "colab": {
          "base_uri": "https://localhost:8080/"
        },
        "id": "Nsn5ziI4621u",
        "outputId": "bcb57471-d51a-4592-f92d-9a396d5815c3"
      },
      "source": [
        "# 큐 추가 문제(1)- 카드2\n",
        "n = int(input())\n",
        "\n",
        "a = [i for i in range(1, n + 1)]\n",
        "\n",
        "while len(a) > 1:\n",
        "    a.pop(0)\n",
        "    a.append(a.pop(0))\n",
        "\n",
        "print(a[0])"
      ],
      "execution_count": 1,
      "outputs": [
        {
          "output_type": "stream",
          "text": [
            "6\n",
            "4\n"
          ],
          "name": "stdout"
        }
      ]
    },
    {
      "cell_type": "code",
      "metadata": {
        "colab": {
          "base_uri": "https://localhost:8080/"
        },
        "id": "G6xG4Xtt7DuH",
        "outputId": "7f5a28a4-268d-49da-f129-4f389f38c973"
      },
      "source": [
        "# 답안..\n",
        "from collections import deque\n",
        "\n",
        "n = int(input())\n",
        "d_list = deque([i for i in range(1, n+1)])\n",
        "\n",
        "# rotate_flag = False\n",
        "\n",
        "while len(d_list) > 1:\n",
        "    d_list.popleft()\n",
        "    d_list.append(d_list.popleft())\n",
        "    # d_list.rotate(-1)\n",
        "\n",
        "    # if not rotate_flag:\n",
        "    #     d_list.popleft()\n",
        "    # else:\n",
        "    #     d_list.append(d_list.popleft())\n",
        "\n",
        "    # rotate_flag = not rotate_flag\n",
        "\n",
        "print(d_list.popleft())\n",
        "\n",
        "# test_list = deque([1,2,3,4,5])\n",
        "# test_list.rotate(-1)\n",
        "# print(test_list)\n",
        "\n",
        "# test_list.rotate(-2)\n",
        "# print(test_list)"
      ],
      "execution_count": 2,
      "outputs": [
        {
          "output_type": "stream",
          "text": [
            "6\n",
            "4\n"
          ],
          "name": "stdout"
        }
      ]
    },
    {
      "cell_type": "code",
      "metadata": {
        "id": "ltowHEcIA-yJ"
      },
      "source": [
        "# 큐 추가 문제(1)- 회전하는 큐\n",
        "n, m = map(int,input().split())  \n",
        "target = list(map(int,input().split()))\n",
        "a = [ i for i in range(1, n+1)]\n",
        "result = 0\n",
        "\n",
        "for i in range(m):\n",
        "    a_len = len(a) \n",
        "    index = a.index(target[i])\n",
        "\n",
        "\n",
        "    if index < a_len - index : \n",
        "        while True : \n",
        "            if a[0] == target[i] :\n",
        "                del a[0]\n",
        "                break\n",
        "            else :\n",
        "                a.append(a[0]) \n",
        "                del a[0]\n",
        "                result += 1\n",
        "    else : \n",
        "        while True : \n",
        "            if a[0] == target[i] :\n",
        "                del a[0]\n",
        "                break\n",
        "            else :\n",
        "                a.insert(0,a[-1]) \n",
        "                del a[-1]\n",
        "                result += 1 \n",
        "print(result)"
      ],
      "execution_count": null,
      "outputs": []
    }
  ]
}