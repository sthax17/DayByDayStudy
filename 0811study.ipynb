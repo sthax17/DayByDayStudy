{
  "nbformat": 4,
  "nbformat_minor": 0,
  "metadata": {
    "colab": {
      "name": "0811study.ipynb",
      "provenance": [],
      "authorship_tag": "ABX9TyOqc7p14/ilUHXOWV+ycypS"
    },
    "kernelspec": {
      "name": "python3",
      "display_name": "Python 3"
    },
    "language_info": {
      "name": "python"
    }
  },
  "cells": [
    {
      "cell_type": "code",
      "metadata": {
        "colab": {
          "base_uri": "https://localhost:8080/"
        },
        "id": "jMX0ud8ai0Nv",
        "outputId": "11b11214-3b1f-4242-b894-66c731310814"
      },
      "source": [
        "# 큐 추가 문제(1)- 카드2\n",
        "n = int(input())\n",
        "\n",
        "a = [i for i in range(1, n + 1)]\n",
        "\n",
        "while len(a) > 1:\n",
        "    a.pop(0)\n",
        "    a.append(a.pop(0))\n",
        "\n",
        "print(a[0])"
      ],
      "execution_count": 4,
      "outputs": [
        {
          "output_type": "stream",
          "text": [
            "6\n",
            "4\n"
          ],
          "name": "stdout"
        }
      ]
    },
    {
      "cell_type": "code",
      "metadata": {
        "colab": {
          "base_uri": "https://localhost:8080/"
        },
        "id": "Gk2ecbARjLv1",
        "outputId": "2237bc3a-24c3-44b7-b971-015cea9d0a75"
      },
      "source": [
        "# 큐 추가 문제(1)- 회전하는 큐. 정답안\n",
        "from collections import deque\n",
        "\n",
        "n = int(input())\n",
        "d_list = deque([i for i in range(1, n+1)])\n",
        "# rotate_flag = False\n",
        "\n",
        "while len(d_list) > 1:\n",
        "    d_list.popleft()\n",
        "    d_list.append(d_list.popleft())\n",
        "    # d_list.rotate(-1)\n",
        "\n",
        "    # if not rotate_flag:\n",
        "    #     d_list.popleft()\n",
        "    # else:\n",
        "    #     d_list.append(d_list.popleft())\n",
        "    # rotate_flag = not rotate_flag\n",
        "\n",
        "print(d_list.popleft())\n",
        "\n",
        "# test_list = deque([1,2,3,4,5])\n",
        "# test_list.rotate(-1)\n",
        "# print(test_list)\n",
        "\n",
        "# test_list.rotate(-2)\n",
        "# print(test_list)"
      ],
      "execution_count": 3,
      "outputs": [
        {
          "output_type": "stream",
          "text": [
            "6 \n",
            "4\n"
          ],
          "name": "stdout"
        }
      ]
    },
    {
      "cell_type": "code",
      "metadata": {
        "colab": {
          "base_uri": "https://localhost:8080/"
        },
        "id": "_2zPOqCjjY4j",
        "outputId": "1569072f-d5e4-43c6-f82b-92e2f900f36a"
      },
      "source": [
        "# 큐 추가 문제(1)- 회전하는 큐 \n",
        "n, m = map(int,input().split())  \n",
        "target = list(map(int,input().split()))\n",
        "a = [ i for i in range(1, n+1)]\n",
        "result = 0\n",
        "\n",
        "for i in range(m):\n",
        "    a_len = len(a) \n",
        "    index = a.index(target[i])\n",
        "\n",
        "\n",
        "    if index < a_len - index : \n",
        "        while True : \n",
        "            if a[0] == target[i] :\n",
        "                del a[0]\n",
        "                break\n",
        "            else :\n",
        "                a.append(a[0]) \n",
        "                del a[0]\n",
        "                result += 1\n",
        "    else : \n",
        "        while True : \n",
        "            if a[0] == target[i] :\n",
        "                del a[0]\n",
        "                break\n",
        "            else :\n",
        "                a.insert(0,a[-1]) \n",
        "                del a[-1]\n",
        "                result += 1 \n",
        "print(result)"
      ],
      "execution_count": 2,
      "outputs": [
        {
          "output_type": "stream",
          "text": [
            "10 3\n",
            "1 2 3\n",
            "0\n"
          ],
          "name": "stdout"
        }
      ]
    },
    {
      "cell_type": "code",
      "metadata": {
        "colab": {
          "base_uri": "https://localhost:8080/"
        },
        "id": "4Bnuk2OXjiUV",
        "outputId": "3ed74ac7-1e9d-42b2-de2b-36e49123bd9c"
      },
      "source": [
        "# 큐 추가 문제(2)- 회전하는 큐. 정답안\n",
        "from collections import deque\n",
        "\n",
        "n, m = map(int, input().split())\n",
        "target_list = map(int, input().split())\n",
        "\n",
        "min_move = 0\n",
        "num_list = deque([i for i in range(1, n+1)])\n",
        "\n",
        "for find_idx in target_list:\n",
        "    num_idx = num_list.index(find_idx)\n",
        "    move_cnt = num_idx\n",
        "\n",
        "    if move_cnt > (len(num_list) - move_cnt):\n",
        "        move_cnt -= len(num_list)\n",
        "    \n",
        "    # print(move_cnt)\n",
        "\n",
        "    min_move += abs(move_cnt)\n",
        "\n",
        "    # num_list.append(num_list.popleft())\n",
        "    # num_list.appendleft(num_list.pop())\n",
        "\n",
        "    num_list.rotate(-move_cnt)\n",
        "    num_list.popleft()\n",
        "\n",
        "    # print(num_list)\n",
        "\n",
        "print(min_move)"
      ],
      "execution_count": 1,
      "outputs": [
        {
          "output_type": "stream",
          "text": [
            "10 3\n",
            "1 2 3\n",
            "0\n"
          ],
          "name": "stdout"
        }
      ]
    },
    {
      "cell_type": "code",
      "metadata": {
        "id": "Og5MBZn7j0gL"
      },
      "source": [
        "# 팩토리얼 구하기\n",
        "num = 10\n",
        "result = 1\n",
        "for i in range(num, 0, -1):\n",
        "  result *= i\n",
        "\n",
        "print(result)"
      ],
      "execution_count": null,
      "outputs": []
    },
    {
      "cell_type": "code",
      "metadata": {
        "id": "kPvtgMwOj0mi"
      },
      "source": [
        "# 팩토리얼 구하기(재귀)\n",
        "target_num = 10\n",
        "\n",
        "def factorial(num):\n",
        "  if num == 1:\n",
        "    return 1\n",
        "  return num * factorial(num-1)\n",
        "print(factorial(target_num))"
      ],
      "execution_count": null,
      "outputs": []
    },
    {
      "cell_type": "code",
      "metadata": {
        "colab": {
          "base_uri": "https://localhost:8080/"
        },
        "id": "8Oc3yxd9j_7S",
        "outputId": "6146bb91-a310-417e-bb61-172291881386"
      },
      "source": [
        "# 재귀 제한\n",
        "import sys\n",
        "sys.getrecursionlimit()"
      ],
      "execution_count": 5,
      "outputs": [
        {
          "output_type": "execute_result",
          "data": {
            "text/plain": [
              "1000"
            ]
          },
          "metadata": {
            "tags": []
          },
          "execution_count": 5
        }
      ]
    },
    {
      "cell_type": "code",
      "metadata": {
        "colab": {
          "base_uri": "https://localhost:8080/"
        },
        "id": "JZCe6KLPkFsX",
        "outputId": "6dc7cc4f-d86a-4157-a013-72c6db6550a3"
      },
      "source": [
        "import sys\n",
        "print(sys.getrecursionlimit())\n",
        "sys.setrecursionlimit(10**8)\n",
        "\n",
        "def factorial(num):\n",
        "  if num == 1:\n",
        "    return 1\n",
        "  return num * factorial(num-1)\n",
        "print(factorial(1005))"
      ],
      "execution_count": 6,
      "outputs": [
        {
          "output_type": "stream",
          "text": [
            "1000\n",
            "408457362542792646196041177675579844706822273462072747963956549506660413041382374077917015706633406270459362590287032533372494143491094193069612974604408269079278838435954692239143722955717545999882172106976837006382326754472538839760172730837588374373142640222890370947532718652568910813260878495503306402881625948553385305236797588742709878529439913737395453067943960383011195143326442360318159664998124827086238645452199505665440611430700504774354836638975180596983963491529399217533660711708126182777236351926183015536451166037072221139436715607138865777729956033161949386120595891314710399261317271030845964274698180925220146016940330636008025912189256599873269759889332361605766529587352343190686716983743889385840824094385163071387935697239250276274086421457499910969899232159703894869548256824304035097333850182488550365637347092054095092889184666171108629492544955975283275427251847676255137795539837103304882468829380909028866238555560488071421388303650864779174433955876881072906113196381132622374988738640863569931701169799545699650749772450080069616700994865379247505676749945500356851208632114059075488963250374230624777503825268134425737950794342085408992394604293873844108819726377606938751016931367169243070815172652134649044805717671690375916247717978135659901857204091866873403680767627937198516862811755165768080785881429025893485839888082128593817995176301134824061429417102422627923458757160754335308157598097346557362089603316828204706589695110632650313420854092733920845129987759360531180697374530176239339196381612546544061438362820181158695103192478238259557921659678279881903379971951776288641504689137924561152802194657423959813853765537652929502619628252144734861709966872329856310646507881159596582063556673187310785028777241042676198832003978529162119280203597561110752417715128202488276666405742614501522306432262295705028747346254981374636103116354781788637137985370694377329736037700729341347853221402675204647510631521281040615423020337059696444912814350282177156170709277365555454686243367400170311274887023134006676613367602170211869881091331661309362323445338346147826850637002839842482912225671765234811689192153051576244440058198983059982885189101524184990564385625351059834179666738406813247524927630978635331042454633281868341338000008078531317551980881348925636326084326841724473658981744640000000000000000000000000000000000000000000000000000000000000000000000000000000000000000000000000000000000000000000000000000000000000000000000000000000000000000000000000000000000000000000000000000000000000000000000000000000000000000000000000000000000\n"
          ],
          "name": "stdout"
        }
      ]
    },
    {
      "cell_type": "code",
      "metadata": {
        "id": "6v_RkzMEkQTS"
      },
      "source": [
        "# 백준 17478\n",
        "\n",
        "n = int(input())\n",
        "\n",
        "def recursion_story(depth, max_depth):\n",
        "    indent_block = \"____\" * depth\n",
        "    \n",
        "    if depth == max_depth:\n",
        "        sentence_list = [\n",
        "            f\"{indent_block}\\\"재귀함수가 뭔가요?\\\"\",\n",
        "            f\"{indent_block}\\\"재귀함수는 자기 자신을 호출하는 함수라네\\\"\",\n",
        "            f\"{indent_block}라고 답변하였지.\"\n",
        "        ]\n",
        "    else:\n",
        "        sentence_list = [\n",
        "            f\"{indent_block}\\\"재귀함수가 뭔가요?\\\"\",\n",
        "            f\"{indent_block}\\\"잘 들어보게. 옛날옛날 한 산 꼭대기에 이세상 모든 지식을 통달한 선인이 있었어.\",\n",
        "            f\"{indent_block}마을 사람들은 모두 그 선인에게 수많은 질문을 했고, 모두 지혜롭게 대답해 주었지.\",\n",
        "            f\"{indent_block}그의 답은 대부분 옳았다고 하네. 그런데 어느 날, 그 선인에게 한 선비가 찾아와서 물었어.\\\"\",\n",
        "            f\"{recursion_story(depth+1, max_depth)}\",\n",
        "            f\"{indent_block}라고 답변하였지.\"\n",
        "        ]\n",
        "    \n",
        "    return \"\\n\".join(sentence_list)\n",
        "\n",
        "print(f\"어느 한 컴퓨터공학과 학생이 유명한 교수님을 찾아가 물었다.\\n{recursion_story(0, n)}\")\n"
      ],
      "execution_count": null,
      "outputs": []
    },
    {
      "cell_type": "code",
      "metadata": {
        "colab": {
          "base_uri": "https://localhost:8080/"
        },
        "id": "aQsypoHGkfFk",
        "outputId": "8d68d358-6429-47dc-ba02-8f03afc743fa"
      },
      "source": [
        "# 백준 2745\n",
        "n,x = input().split()\n",
        "print(int(n,int(x)))"
      ],
      "execution_count": 8,
      "outputs": [
        {
          "output_type": "stream",
          "text": [
            "zzzzz 36\n",
            "60466175\n"
          ],
          "name": "stdout"
        }
      ]
    },
    {
      "cell_type": "code",
      "metadata": {
        "colab": {
          "base_uri": "https://localhost:8080/"
        },
        "id": "Nx9_ws8ukfN3",
        "outputId": "b52eeb67-6a08-4013-b1c1-08f23f2520ff"
      },
      "source": [
        "# 백준 11005\n",
        "system = \"0123456789ABCDEFGHIJKLMNOPQRSTUVWXYZ\"\n",
        "N, B = map(int, input().split())\n",
        "answer = ''\n",
        "\n",
        "while N != 0:\n",
        "    answer += str(system[N % B])\n",
        "    N //= B\n",
        "    \n",
        "print(answer[::-1])"
      ],
      "execution_count": 7,
      "outputs": [
        {
          "output_type": "stream",
          "text": [
            "60466175 36\n",
            "ZZZZZ\n"
          ],
          "name": "stdout"
        }
      ]
    }
  ]
}