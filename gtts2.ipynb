{
  "nbformat": 4,
  "nbformat_minor": 0,
  "metadata": {
    "colab": {
      "name": "gtts2.ipynb",
      "provenance": [],
      "authorship_tag": "ABX9TyObNj4LCEcJqbvSsTy0asrE"
    },
    "kernelspec": {
      "name": "python3",
      "display_name": "Python 3"
    },
    "language_info": {
      "name": "python"
    }
  },
  "cells": [
    {
      "cell_type": "code",
      "metadata": {
        "colab": {
          "base_uri": "https://localhost:8080/"
        },
        "id": "6r-hzxpY3yPr",
        "outputId": "0c0804c3-5fca-4a8b-c2c5-c267f6b1f305"
      },
      "source": [
        "pip install  gTTS"
      ],
      "execution_count": null,
      "outputs": [
        {
          "output_type": "stream",
          "name": "stdout",
          "text": [
            "Collecting gTTS\n",
            "  Downloading gTTS-2.2.3-py3-none-any.whl (25 kB)\n",
            "Requirement already satisfied: click in /usr/local/lib/python3.7/dist-packages (from gTTS) (7.1.2)\n",
            "Requirement already satisfied: six in /usr/local/lib/python3.7/dist-packages (from gTTS) (1.15.0)\n",
            "Requirement already satisfied: requests in /usr/local/lib/python3.7/dist-packages (from gTTS) (2.23.0)\n",
            "Requirement already satisfied: chardet<4,>=3.0.2 in /usr/local/lib/python3.7/dist-packages (from requests->gTTS) (3.0.4)\n",
            "Requirement already satisfied: urllib3!=1.25.0,!=1.25.1,<1.26,>=1.21.1 in /usr/local/lib/python3.7/dist-packages (from requests->gTTS) (1.24.3)\n",
            "Requirement already satisfied: certifi>=2017.4.17 in /usr/local/lib/python3.7/dist-packages (from requests->gTTS) (2021.5.30)\n",
            "Requirement already satisfied: idna<3,>=2.5 in /usr/local/lib/python3.7/dist-packages (from requests->gTTS) (2.10)\n",
            "Installing collected packages: gTTS\n",
            "Successfully installed gTTS-2.2.3\n"
          ]
        }
      ]
    },
    {
      "cell_type": "code",
      "metadata": {
        "id": "QWJ880DO341X"
      },
      "source": [
        "from gtts import gTTS\n",
        "import os\n",
        "\n",
        "s = \"Hello everyone\" # 읽고 싶은 문장\n",
        "file = \"file.mp3\" # 파일명\n",
        "tts= gTTS(s,'en') # 읽고 싶은 문장과 언어를 넣는다.\n",
        "tts.save(file)\n",
        "\n"
      ],
      "execution_count": null,
      "outputs": []
    },
    {
      "cell_type": "code",
      "metadata": {
        "id": "e1eoERrZ343l"
      },
      "source": [
        "from gtts import gTTS\n",
        "import os\n",
        "\n",
        "s = \"여러분 안녕하세요!\" \n",
        "file = \"file_ko.mp3\" \n",
        "tts= gTTS(s,'ko') \n",
        "tts.save(file)"
      ],
      "execution_count": null,
      "outputs": []
    },
    {
      "cell_type": "code",
      "metadata": {
        "id": "fedB1CMk3450"
      },
      "source": [
        "from gtts import gTTS\n",
        "\n",
        "\n",
        "value = ['한놈','두식이','석삼','너구리','너무 아저씨 같은건 아닐까?']\n",
        "\n",
        "with open(\"hello.txt\",\"w\") as f:\n",
        "    f.write(\"문장을 적어서 저장한 뒤에 읽어볼겁니다.\\n\")\n",
        "    for i in value:\n",
        "        f.write(\"반갑다 {}. \\n\".format(i))\n",
        "\n",
        "s=None\n",
        "\n",
        "with open(\"hello.txt\",\"r\") as f:\n",
        "    s = f.read()\n",
        "\n",
        "file = \"read_my_file.mp3\"\n",
        "tts = gTTS(s,'ko')\n",
        "tts.save(file)\n"
      ],
      "execution_count": null,
      "outputs": []
    },
    {
      "cell_type": "code",
      "metadata": {
        "id": "fgPBmbey348P"
      },
      "source": [
        ""
      ],
      "execution_count": null,
      "outputs": []
    }
  ]
}