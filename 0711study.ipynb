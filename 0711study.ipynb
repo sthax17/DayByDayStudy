{
  "nbformat": 4,
  "nbformat_minor": 0,
  "metadata": {
    "colab": {
      "name": "0711study",
      "provenance": []
    },
    "kernelspec": {
      "name": "python3",
      "display_name": "Python 3"
    },
    "language_info": {
      "name": "python"
    }
  },
  "cells": [
    {
      "cell_type": "code",
      "metadata": {
        "id": "OvPgw-Jsm36D"
      },
      "source": [
        "n = int(input())\n",
        "for i in range(n):\n",
        "  ox = input()\n",
        "  cnt = 0\n",
        "  score = 0\n",
        "\n",
        "  for j in range(len(ox)):\n",
        "    if ox[j] == 'O':\n",
        "      cnt += 1\n",
        "      score += cnt\n",
        "    elif ox[j] == 'X':\n",
        "      cnt = 0\n",
        "      score += cnt\n",
        "\n",
        "  print(score)"
      ],
      "execution_count": null,
      "outputs": []
    },
    {
      "cell_type": "code",
      "metadata": {
        "id": "B_HjDTfG28b0"
      },
      "source": [
        "n = int(input())\n",
        "for i in range(n):\n",
        "  student = list(map(int, input().split()))\n",
        "  avg = sum(student[1:]) / student[0]  \n",
        "  cnt = 0\n",
        "  for score in student[1:]:\n",
        "    if score > avg:\n",
        "      cnt += 1\n",
        "  rate = (cnt/student[0]) * 100\n",
        "  print(f'{rate:.3f}%')"
      ],
      "execution_count": null,
      "outputs": []
    },
    {
      "cell_type": "code",
      "metadata": {
        "id": "P-vtkxpAavF7"
      },
      "source": [
        "def solve(a):\n",
        "  return sum(a)\n"
      ],
      "execution_count": null,
      "outputs": []
    },
    {
      "cell_type": "code",
      "metadata": {
        "id": "N46cdjPJtpFD"
      },
      "source": [
        "def solve(a):\n",
        "  t = 0\n",
        "  for i in a:\n",
        "    t += i\n",
        "  return t"
      ],
      "execution_count": null,
      "outputs": []
    },
    {
      "cell_type": "code",
      "metadata": {
        "id": "4I4A75r2u1b_"
      },
      "source": [
        "natural_number_set = set(range(1, 10001))\n",
        "generated_number_set= set()\n",
        "\n",
        "for i in range(1, 10001):\n",
        "    for j in str(i):\n",
        "        i += int(j)\n",
        "    generated_number_set.add(i)\n",
        "\n",
        "self_number_set = natural_number_set - generated_number_set\n",
        "\n",
        "for i in sorted(self_number_set):\n",
        "    print(i)"
      ],
      "execution_count": null,
      "outputs": []
    },
    {
      "cell_type": "code",
      "metadata": {
        "id": "Z6owlwmpu1ea",
        "colab": {
          "base_uri": "https://localhost:8080/"
        },
        "outputId": "2df324c7-9f2d-47aa-e4be-1dae0e233bb3"
      },
      "source": [
        "def print_3_times():\n",
        "  print('안녕하세요')\n",
        "  print('안녕하세요')\n",
        "  print('안녕하세요')\n",
        "print_3_times() "
      ],
      "execution_count": 1,
      "outputs": [
        {
          "output_type": "stream",
          "text": [
            "안녕하세요\n",
            "안녕하세요\n",
            "안녕하세요\n"
          ],
          "name": "stdout"
        }
      ]
    },
    {
      "cell_type": "code",
      "metadata": {
        "id": "dzGO5l0Pvz2D",
        "colab": {
          "base_uri": "https://localhost:8080/"
        },
        "outputId": "36c10fd7-10b2-4e9e-877f-888100b2cb06"
      },
      "source": [
        "def print_n_times(value, n):\n",
        "  for i in range(n):\n",
        "    print(value)\n",
        "print_n_times('안녕하세요', 5)    "
      ],
      "execution_count": 3,
      "outputs": [
        {
          "output_type": "stream",
          "text": [
            "안녕하세요\n",
            "안녕하세요\n",
            "안녕하세요\n",
            "안녕하세요\n",
            "안녕하세요\n"
          ],
          "name": "stdout"
        }
      ]
    },
    {
      "cell_type": "code",
      "metadata": {
        "colab": {
          "base_uri": "https://localhost:8080/"
        },
        "id": "MfH7yAXPcdPz",
        "outputId": "f8bf5bc0-51ee-4770-d844-855dc587c0e4"
      },
      "source": [
        "def print_n_times(n, *values):\n",
        "  for i in range(n):\n",
        "\n",
        "    for value in values:\n",
        "      print(value)\n",
        "\n",
        "    print()\n",
        "print_n_times(3, '안녕하세요', '즐거운', '파이썬 프로그래밍')    "
      ],
      "execution_count": 8,
      "outputs": [
        {
          "output_type": "stream",
          "text": [
            "안녕하세요\n",
            "즐거운\n",
            "파이썬 프로그래밍\n",
            "\n",
            "안녕하세요\n",
            "즐거운\n",
            "파이썬 프로그래밍\n",
            "\n",
            "안녕하세요\n",
            "즐거운\n",
            "파이썬 프로그래밍\n",
            "\n"
          ],
          "name": "stdout"
        }
      ]
    },
    {
      "cell_type": "code",
      "metadata": {
        "colab": {
          "base_uri": "https://localhost:8080/"
        },
        "id": "2qLCYuYmcdYN",
        "outputId": "193bcb8c-187b-4b19-d52f-d21fc730a799"
      },
      "source": [
        "def print_n_times(value, n=2):\n",
        "  for i in range(n):\n",
        "    print(value)\n",
        "\n",
        "print_n_times('안녕하세요')    \n"
      ],
      "execution_count": 9,
      "outputs": [
        {
          "output_type": "stream",
          "text": [
            "안녕하세요\n",
            "안녕하세요\n"
          ],
          "name": "stdout"
        }
      ]
    },
    {
      "cell_type": "code",
      "metadata": {
        "colab": {
          "base_uri": "https://localhost:8080/",
          "height": 327
        },
        "id": "ZdkccCZjcda0",
        "outputId": "b8c66714-06df-4c60-b443-e1989637c9c3"
      },
      "source": [
        "def print_n_times(n=2, *values):\n",
        "  for i in range(n):\n",
        "\n",
        "    for value in values:\n",
        "      print(value)\n",
        "\n",
        "    print()\n",
        "print_n_times('안녕하세요', '즐거운', '파이썬 프로그래밍')    "
      ],
      "execution_count": 15,
      "outputs": [
        {
          "output_type": "error",
          "ename": "TypeError",
          "evalue": "ignored",
          "traceback": [
            "\u001b[0;31m---------------------------------------------------------------------------\u001b[0m",
            "\u001b[0;31mTypeError\u001b[0m                                 Traceback (most recent call last)",
            "\u001b[0;32m<ipython-input-15-dd849211bfba>\u001b[0m in \u001b[0;36m<module>\u001b[0;34m()\u001b[0m\n\u001b[1;32m      6\u001b[0m \u001b[0;34m\u001b[0m\u001b[0m\n\u001b[1;32m      7\u001b[0m     \u001b[0mprint\u001b[0m\u001b[0;34m(\u001b[0m\u001b[0;34m)\u001b[0m\u001b[0;34m\u001b[0m\u001b[0;34m\u001b[0m\u001b[0m\n\u001b[0;32m----> 8\u001b[0;31m \u001b[0mprint_n_times\u001b[0m\u001b[0;34m(\u001b[0m\u001b[0;34m'안녕하세요'\u001b[0m\u001b[0;34m,\u001b[0m \u001b[0;34m'즐거운'\u001b[0m\u001b[0;34m,\u001b[0m \u001b[0;34m'파이썬 프로그래밍'\u001b[0m\u001b[0;34m)\u001b[0m\u001b[0;34m\u001b[0m\u001b[0;34m\u001b[0m\u001b[0m\n\u001b[0m",
            "\u001b[0;32m<ipython-input-15-dd849211bfba>\u001b[0m in \u001b[0;36mprint_n_times\u001b[0;34m(n, *values)\u001b[0m\n\u001b[1;32m      1\u001b[0m \u001b[0;32mdef\u001b[0m \u001b[0mprint_n_times\u001b[0m\u001b[0;34m(\u001b[0m\u001b[0mn\u001b[0m\u001b[0;34m=\u001b[0m\u001b[0;36m2\u001b[0m\u001b[0;34m,\u001b[0m \u001b[0;34m*\u001b[0m\u001b[0mvalues\u001b[0m\u001b[0;34m)\u001b[0m\u001b[0;34m:\u001b[0m\u001b[0;34m\u001b[0m\u001b[0;34m\u001b[0m\u001b[0m\n\u001b[0;32m----> 2\u001b[0;31m   \u001b[0;32mfor\u001b[0m \u001b[0mi\u001b[0m \u001b[0;32min\u001b[0m \u001b[0mrange\u001b[0m\u001b[0;34m(\u001b[0m\u001b[0mn\u001b[0m\u001b[0;34m)\u001b[0m\u001b[0;34m:\u001b[0m\u001b[0;34m\u001b[0m\u001b[0;34m\u001b[0m\u001b[0m\n\u001b[0m\u001b[1;32m      3\u001b[0m \u001b[0;34m\u001b[0m\u001b[0m\n\u001b[1;32m      4\u001b[0m     \u001b[0;32mfor\u001b[0m \u001b[0mvalue\u001b[0m \u001b[0;32min\u001b[0m \u001b[0mvalues\u001b[0m\u001b[0;34m:\u001b[0m\u001b[0;34m\u001b[0m\u001b[0;34m\u001b[0m\u001b[0m\n\u001b[1;32m      5\u001b[0m       \u001b[0mprint\u001b[0m\u001b[0;34m(\u001b[0m\u001b[0mvalue\u001b[0m\u001b[0;34m)\u001b[0m\u001b[0;34m\u001b[0m\u001b[0;34m\u001b[0m\u001b[0m\n",
            "\u001b[0;31mTypeError\u001b[0m: 'str' object cannot be interpreted as an integer"
          ]
        }
      ]
    },
    {
      "cell_type": "code",
      "metadata": {
        "colab": {
          "base_uri": "https://localhost:8080/"
        },
        "id": "Qz7mgBdH7s9b",
        "outputId": "5f46e23d-018c-4af0-d8e7-82e5e41c8a71"
      },
      "source": [
        "def print_n_times(*values,n=2):\n",
        "  for i in range(n):\n",
        "\n",
        "    for value in values:\n",
        "      print(value)\n",
        "\n",
        "    print()\n",
        "print_n_times('안녕하세요', '즐거운', '파이썬 프로그래밍', 3)    "
      ],
      "execution_count": 16,
      "outputs": [
        {
          "output_type": "stream",
          "text": [
            "안녕하세요\n",
            "즐거운\n",
            "파이썬 프로그래밍\n",
            "3\n",
            "\n",
            "안녕하세요\n",
            "즐거운\n",
            "파이썬 프로그래밍\n",
            "3\n",
            "\n"
          ],
          "name": "stdout"
        }
      ]
    }
  ]
}