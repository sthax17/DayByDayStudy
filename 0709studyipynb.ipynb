{
  "nbformat": 4,
  "nbformat_minor": 0,
  "metadata": {
    "colab": {
      "name": "0709studyipynb",
      "provenance": []
    },
    "kernelspec": {
      "name": "python3",
      "display_name": "Python 3"
    },
    "language_info": {
      "name": "python"
    }
  },
  "cells": [
    {
      "cell_type": "code",
      "metadata": {
        "id": "OvPgw-Jsm36D"
      },
      "source": [
        "n = int(input())\n",
        "for i in range(n):\n",
        "  ox = input()\n",
        "  cnt = 0\n",
        "  score = 0\n",
        "\n",
        "  for j in range(len(ox)):\n",
        "    if ox[j] == 'O':\n",
        "      cnt += 1\n",
        "      score += cnt\n",
        "    elif ox[j] == 'X':\n",
        "      cnt = 0\n",
        "      score += cnt\n",
        "\n",
        "  print(score)\n",
        "\n",
        "\n"
      ],
      "execution_count": null,
      "outputs": []
    },
    {
      "cell_type": "code",
      "metadata": {
        "id": "B_HjDTfG28b0"
      },
      "source": [
        "n = int(input())\n",
        "for i in range(n):\n",
        "  student = list(map(int, input().split()))\n",
        "  avg = sum(student[1:]) / student[0]  \n",
        "  cnt = 0\n",
        "  for score in student[1:]:\n",
        "    if score > avg:\n",
        "      cnt += 1\n",
        "  rate = (cnt/student[0]) * 100\n",
        "  print(f'{rate:.3f}%')\n"
      ],
      "execution_count": null,
      "outputs": []
    },
    {
      "cell_type": "code",
      "metadata": {
        "id": "P-vtkxpAavF7"
      },
      "source": [
        ""
      ],
      "execution_count": null,
      "outputs": []
    }
  ]
}