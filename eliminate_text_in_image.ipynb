{
  "nbformat": 4,
  "nbformat_minor": 0,
  "metadata": {
    "colab": {
      "name": "eliminate text in image.ipynb",
      "provenance": [],
      "authorship_tag": "ABX9TyNRqS0qaJs8c/UOrCsuwJrX"
    },
    "kernelspec": {
      "name": "python3",
      "display_name": "Python 3"
    },
    "language_info": {
      "name": "python"
    }
  },
  "cells": [
    {
      "cell_type": "code",
      "metadata": {
        "id": "eRh6lBj0uSaM"
      },
      "source": [
        "# import numpy as np\n",
        "# import cv2\n",
        "# import matplotlib.pyplot as plt\n",
        "# source_image = cv2.imread(\"6LfDs.png\") #Image of cat with text watermark\n",
        "# text = cv2.imread(\"gJAAx.png\", cv2.IMREAD_UNCHANGED) #Image of text\n",
        "\n",
        "# correcting_matrix = ((255 -text[:,:,3]) /255) #Matrix of \"how much this pixel was darkened by applying text overlay\"\n",
        "# original_image = (source_image / correcting_matrix[:,:,np.newaxis]).astype(np.uint8) \n",
        "\n",
        "# cv2.imwrite(\"original_image.png\", original_image)"
      ],
      "execution_count": null,
      "outputs": []
    },
    {
      "cell_type": "code",
      "metadata": {
        "colab": {
          "base_uri": "https://localhost:8080/"
        },
        "id": "6wlQK2bCq-JZ",
        "outputId": "df4fdead-b445-4d35-9bcf-74b9f8a665b1"
      },
      "source": [
        "import numpy as np\n",
        "import cv2\n",
        "import matplotlib.pyplot as plt\n",
        "source_image = cv2.imread(\"cattext.png\") #Image of cat with text watermark\n",
        "text = cv2.imread(\"text watermark.png\", cv2.IMREAD_UNCHANGED) #Image of text\n",
        "\n",
        "correcting_matrix = ((255 -text[:,:,3]) /255) #Matrix of \"how much this pixel was darkened by applying text overlay\"\n",
        "original_image = (source_image / correcting_matrix[:,:,np.newaxis]).astype(np.uint8) \n",
        "\n",
        "cv2.imwrite(\"0.png\", original_image)"
      ],
      "execution_count": 21,
      "outputs": [
        {
          "output_type": "execute_result",
          "data": {
            "text/plain": [
              "True"
            ]
          },
          "metadata": {},
          "execution_count": 21
        }
      ]
    },
    {
      "cell_type": "code",
      "metadata": {
        "id": "vUvs8cSUm3mn"
      },
      "source": [
        "#!/opt/local/bin/python3.6\n",
        "\n",
        "import numpy as np\n",
        "import skimage.io\n",
        "import skimage.restoration\n",
        "import skimage.exposure\n",
        "\n",
        "img = skimage.io.imread('/content/cattext.png')\n",
        "msk = skimage.io.imread('/content/text watermark.png')\n",
        "msk = skimage.exposure.rescale_intensity(msk, in_range='image', out_range=(0,1))\n",
        "newimg = skimage.restoration.inpaint_biharmonic(img, msk, multichannel=True)\n",
        "skimage.io.imsave('/content/kitty_inpaint_biharmonic.png', newimg)"
      ],
      "execution_count": null,
      "outputs": []
    },
    {
      "cell_type": "code",
      "metadata": {
        "id": "8XSR953rqSM0"
      },
      "source": [
        "import numpy as np\n",
        "import cv2 as cv\n",
        "img = cv.imread('messi_2.jpg')\n",
        "mask = cv.imread('mask2.png',0)\n",
        "dst = cv.inpaint(img,mask,3,cv.INPAINT_TELEA)\n",
        "cv.imshow('dst',dst)\n",
        "cv.waitKey(0)\n",
        "cv.destroyAllWindows()"
      ],
      "execution_count": null,
      "outputs": []
    },
    {
      "cell_type": "code",
      "metadata": {
        "id": "i3YKxKzDqS1k"
      },
      "source": [
        ""
      ],
      "execution_count": null,
      "outputs": []
    }
  ]
}