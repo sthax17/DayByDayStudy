{
  "nbformat": 4,
  "nbformat_minor": 0,
  "metadata": {
    "colab": {
      "name": "elice study memo.ipynb",
      "provenance": [],
      "authorship_tag": "ABX9TyNlYocTRsbWMCvUO3RZnXkI"
    },
    "kernelspec": {
      "name": "python3",
      "display_name": "Python 3"
    },
    "language_info": {
      "name": "python"
    }
  },
  "cells": [
    {
      "cell_type": "code",
      "metadata": {
        "id": "JYtZrUjEQ412"
      },
      "source": [
        "# AI 실무 기본과정\n",
        "# 데이터 분석을 위한 라이브러리\n",
        "# 여러가지 모듈과 패키지"
      ],
      "execution_count": null,
      "outputs": []
    },
    {
      "cell_type": "code",
      "metadata": {
        "id": "9sEuKnsFjo9Z"
      },
      "source": [
        "from urllib.request import urlopen\n",
        "\n",
        "webpage = urlopen(\" https://en.wikipedia.org/wiki/Lorem_ipsum\").read().decode(\"utf-8\")"
      ],
      "execution_count": 2,
      "outputs": []
    }
  ]
}