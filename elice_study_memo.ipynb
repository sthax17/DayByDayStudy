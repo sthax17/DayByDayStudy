{
  "nbformat": 4,
  "nbformat_minor": 0,
  "metadata": {
    "colab": {
      "name": "elice study memo.ipynb",
      "provenance": [],
      "authorship_tag": "ABX9TyM33GM9agKn443FkwiFHxzi"
    },
    "kernelspec": {
      "name": "python3",
      "display_name": "Python 3"
    },
    "language_info": {
      "name": "python"
    }
  },
  "cells": [
    {
      "cell_type": "code",
      "metadata": {
        "id": "JYtZrUjEQ412"
      },
      "source": [
        ""
      ],
      "execution_count": null,
      "outputs": []
    },
    {
      "cell_type": "code",
      "metadata": {
        "id": "9sEuKnsFjo9Z"
      },
      "source": [
        ""
      ],
      "execution_count": null,
      "outputs": []
    },
    {
      "cell_type": "code",
      "metadata": {
        "colab": {
          "base_uri": "https://localhost:8080/"
        },
        "id": "SZX_ik_1_IwA",
        "outputId": "899c8e62-eda6-47fc-a362-e7b4d994af43"
      },
      "source": [
        "import numpy as np\n",
        "import pandas as pd\n",
        "\n",
        "print(\"DataFrame: \")\n",
        "df = pd.DataFrame({\n",
        "    'col1' : [2, 1, 9, 8, 7, 4],\n",
        "    'col2' : ['A', 'A', 'B', np.nan, 'D', 'C'],\n",
        "    'col3': [0, 1, 9, 4, 2, 3],\n",
        "})\n",
        "print(df, \"\\n\")\n",
        "\n",
        "\n",
        "# 정렬 코드 입력해보기    \n",
        "# 1. col1을 기준으로 오름차순으로 정렬하기.\n",
        "sorted_df1 = df.sort_values('col1', ascending = True)\n",
        "print(sorted_df1)\n",
        "\n",
        "\n",
        "# 2. col2를 기준으로 내림차순으로 정렬하기.\n",
        "sorted_df2 = df.sort_values('col2', ascending = False)\n",
        "\n",
        "print(sorted_df2)\n",
        "\n",
        "# 3. col2를 기준으로 오름차순으로, col1를 기준으로 내림차순으로 정렬하기.\n",
        "\n",
        "sorted_df3 = df.sort_values(['col2', 'col1'], ascending=[True, False])\n",
        "print(sorted_df3)"
      ],
      "execution_count": null,
      "outputs": [
        {
          "output_type": "stream",
          "name": "stdout",
          "text": [
            "DataFrame: \n",
            "   col1 col2  col3\n",
            "0     2    A     0\n",
            "1     1    A     1\n",
            "2     9    B     9\n",
            "3     8  NaN     4\n",
            "4     7    D     2\n",
            "5     4    C     3 \n",
            "\n",
            "   col1 col2  col3\n",
            "1     1    A     1\n",
            "0     2    A     0\n",
            "5     4    C     3\n",
            "4     7    D     2\n",
            "3     8  NaN     4\n",
            "2     9    B     9\n",
            "   col1 col2  col3\n",
            "4     7    D     2\n",
            "5     4    C     3\n",
            "2     9    B     9\n",
            "0     2    A     0\n",
            "1     1    A     1\n",
            "3     8  NaN     4\n",
            "   col1 col2  col3\n",
            "0     2    A     0\n",
            "1     1    A     1\n",
            "2     9    B     9\n",
            "5     4    C     3\n",
            "4     7    D     2\n",
            "3     8  NaN     4\n"
          ]
        }
      ]
    },
    {
      "cell_type": "code",
      "metadata": {
        "colab": {
          "base_uri": "https://localhost:8080/"
        },
        "id": "BYZ4yUnmKzBH",
        "outputId": "a1d6c31e-4567-4984-f624-9ccd376cea9b"
      },
      "source": [
        "import numpy as np\n",
        "import pandas as pd\n",
        "\n",
        "data = {\n",
        "    'korean' : [50, 60, 70],\n",
        "    'math' : [10, np.nan, 40]\n",
        "}\n",
        "df = pd.DataFrame(data, index = ['a','b','c'])\n",
        "print(df, \"\\n\")\n",
        "\n",
        "# 각 컬럼별 데이터 개수\n",
        "col_num = df.count(axis = 0)\n",
        "print(col_num, \"\\n\")\n",
        "\n",
        "# 각 행별 데이터 개수\n",
        "row_num = df.count(axis = 1)\n",
        "print(row_num, \"\\n\")\n",
        "\n",
        "# 각 컬럼별 최댓값\n",
        "col_max = df.max()\n",
        "print(col_max, \"\\n\")\n",
        "\n",
        "# 각 컬럼별 최솟값\n",
        "col_min = df.min()\n",
        "print(col_min, \"\\n\")\n",
        "\n",
        "# 각 컬럼별 합계\n",
        "col_sum = df.sum()\n",
        "print(col_sum, \"\\n\")\n",
        "\n",
        "# 컬럼의 최솟값으로 NaN값 대체\n",
        "math_min = df['math'].min()\n",
        "df['math'] = df['math'].fillna(math_min)\n",
        "\n",
        "print(df, \"\\n\")\n",
        "\n",
        "# 각 컬럼별 평균\n",
        "col_avg = df.mean()\n",
        "print(col_avg, \"\\n\")\n"
      ],
      "execution_count": null,
      "outputs": [
        {
          "output_type": "stream",
          "name": "stdout",
          "text": [
            "   korean  math\n",
            "a      50  10.0\n",
            "b      60   NaN\n",
            "c      70  40.0 \n",
            "\n",
            "korean    3\n",
            "math      2\n",
            "dtype: int64 \n",
            "\n",
            "a    2\n",
            "b    1\n",
            "c    2\n",
            "dtype: int64 \n",
            "\n",
            "korean    70.0\n",
            "math      40.0\n",
            "dtype: float64 \n",
            "\n",
            "korean    50.0\n",
            "math      10.0\n",
            "dtype: float64 \n",
            "\n",
            "korean    180.0\n",
            "math       50.0\n",
            "dtype: float64 \n",
            "\n",
            "   korean  math\n",
            "a      50  10.0\n",
            "b      60  10.0\n",
            "c      70  40.0 \n",
            "\n",
            "korean    60.0\n",
            "math      20.0\n",
            "dtype: float64 \n",
            "\n"
          ]
        }
      ]
    },
    {
      "cell_type": "code",
      "metadata": {
        "id": "r_118wHWqyBB"
      },
      "source": [
        "import numpy as np\n",
        "import pandas as pd\n",
        "\n",
        "data = {\n",
        "    'korean' : [50, 60, 70],\n",
        "    'math' : [10, np.nan, 40]\n",
        "}\n",
        "df = pd.DataFrame(data, index = ['a','b','c'])\n",
        "print(df, \"\\n\")\n",
        "\n",
        "# 각 컬럼별 데이터 개수\n",
        "col_num = df.count(axis = 0)\n",
        "print(col_num, \"\\n\")\n",
        "\n",
        "# 각 행별 데이터 개수\n",
        "row_num = df.count(axis = 1)\n",
        "print(row_num, \"\\n\")\n",
        "\n",
        "# 각 컬럼별 최댓값\n",
        "col_max = df.max()\n",
        "print(col_max, \"\\n\")\n",
        "\n",
        "# 각 컬럼별 최솟값\n",
        "col_min = df.min()\n",
        "print(col_min, \"\\n\")\n",
        "\n",
        "# 각 컬럼별 합계\n",
        "col_sum = df.sum()\n",
        "print(col_sum, \"\\n\")\n",
        "\n",
        "# 컬럼의 최솟값으로 NaN값 대체\n",
        "math_min = df['math'].min()\n",
        "df['math'] = df['math'].fillna(math_min)\n",
        "\n",
        "print(df, \"\\n\")\n",
        "\n",
        "# 각 컬럼별 평균\n",
        "col_avg = df.mean()\n",
        "print(col_avg, \"\\n\")\n"
      ],
      "execution_count": null,
      "outputs": []
    },
    {
      "cell_type": "code",
      "metadata": {
        "id": "Wpv9z1CYkl_v"
      },
      "source": [
        ""
      ],
      "execution_count": null,
      "outputs": []
    }
  ]
}