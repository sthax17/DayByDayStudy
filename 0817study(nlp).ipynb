{
  "nbformat": 4,
  "nbformat_minor": 0,
  "metadata": {
    "colab": {
      "name": "0817study(nlp).ipynb",
      "provenance": [],
      "authorship_tag": "ABX9TyPpmjBD2EM59pyyQKxnj/4K"
    },
    "kernelspec": {
      "name": "python3",
      "display_name": "Python 3"
    },
    "language_info": {
      "name": "python"
    }
  },
  "cells": [
    {
      "cell_type": "code",
      "metadata": {
        "colab": {
          "base_uri": "https://localhost:8080/"
        },
        "id": "_5fFHnFtPmGh",
        "outputId": "ee1c1471-3396-4362-b387-e91c7973fff9"
      },
      "source": [
        "!pip3 install requests\n",
        "!pip3 install bs4\n",
        "import requests\n",
        "from typing import List\n",
        "from bs4 import BeautifulSoup  # html 파싱을 위한 라이브러리\n",
        "import re # 정규표현식 사용을 위한 라이브러리"
      ],
      "execution_count": 26,
      "outputs": [
        {
          "output_type": "stream",
          "text": [
            "Requirement already satisfied: requests in /usr/local/lib/python3.7/dist-packages (2.23.0)\n",
            "Requirement already satisfied: certifi>=2017.4.17 in /usr/local/lib/python3.7/dist-packages (from requests) (2021.5.30)\n",
            "Requirement already satisfied: urllib3!=1.25.0,!=1.25.1,<1.26,>=1.21.1 in /usr/local/lib/python3.7/dist-packages (from requests) (1.24.3)\n",
            "Requirement already satisfied: idna<3,>=2.5 in /usr/local/lib/python3.7/dist-packages (from requests) (2.10)\n",
            "Requirement already satisfied: chardet<4,>=3.0.2 in /usr/local/lib/python3.7/dist-packages (from requests) (3.0.4)\n",
            "Requirement already satisfied: bs4 in /usr/local/lib/python3.7/dist-packages (0.0.1)\n",
            "Requirement already satisfied: beautifulsoup4 in /usr/local/lib/python3.7/dist-packages (from bs4) (4.6.3)\n"
          ],
          "name": "stdout"
        }
      ]
    },
    {
      "cell_type": "code",
      "metadata": {
        "colab": {
          "base_uri": "https://localhost:8080/"
        },
        "id": "zIiJk-P0QQey",
        "outputId": "863c3480-f3a6-42cb-fef7-e4cca9cfbd05"
      },
      "source": [
        "# 웹페이지에서, 상품에 해당하는 이미지의 고유 아이디를 파싱\n",
        "URL = \"http://www.pythonscraping.com/pages/page3.html\"\n",
        "html = requests.get(URL).text\n",
        "soup = BeautifulSoup(html, \"html.parser\")\n",
        "img_urls = list()\n",
        "p = re.compile(r'img[0-9]+\\.jpg')\n",
        "# attrs의 value로 정규표현식을 사용할 수 있다.\n",
        "for tag in soup.find_all('img', attrs={'src': p}):\n",
        "  print(tag)\n",
        "  img_urls.append(tag['src'])"
      ],
      "execution_count": 27,
      "outputs": [
        {
          "output_type": "stream",
          "text": [
            "<img src=\"../img/gifts/img1.jpg\"/>\n",
            "<img src=\"../img/gifts/img2.jpg\"/>\n",
            "<img src=\"../img/gifts/img3.jpg\"/>\n",
            "<img src=\"../img/gifts/img4.jpg\"/>\n",
            "<img src=\"../img/gifts/img6.jpg\"/>\n"
          ],
          "name": "stdout"
        }
      ]
    },
    {
      "cell_type": "code",
      "metadata": {
        "colab": {
          "base_uri": "https://localhost:8080/"
        },
        "id": "3IH9Ud_MRDXI",
        "outputId": "7fb739eb-7e22-4c46-83c6-01f6556dc0b9"
      },
      "source": [
        "for url in img_urls:\n",
        "  print(url.split(\"/\")[-1])"
      ],
      "execution_count": 28,
      "outputs": [
        {
          "output_type": "stream",
          "text": [
            "img1.jpg\n",
            "img2.jpg\n",
            "img3.jpg\n",
            "img4.jpg\n",
            "img6.jpg\n"
          ],
          "name": "stdout"
        }
      ]
    },
    {
      "cell_type": "markdown",
      "metadata": {
        "id": "oI9MVXhNRRWY"
      },
      "source": [
        ""
      ]
    },
    {
      "cell_type": "code",
      "metadata": {
        "colab": {
          "base_uri": "https://localhost:8080/"
        },
        "id": "QBUMkcsFR2RO",
        "outputId": "f5f99b65-a842-4633-b447-d2015a641f51"
      },
      "source": [
        "!pip3 install nltk\n",
        "from nltk.tokenize import word_tokenize\n",
        "from nltk.tag import pos_tag"
      ],
      "execution_count": 29,
      "outputs": [
        {
          "output_type": "stream",
          "text": [
            "Requirement already satisfied: nltk in /usr/local/lib/python3.7/dist-packages (3.2.5)\n",
            "Requirement already satisfied: six in /usr/local/lib/python3.7/dist-packages (from nltk) (1.15.0)\n"
          ],
          "name": "stdout"
        }
      ]
    },
    {
      "cell_type": "code",
      "metadata": {
        "colab": {
          "base_uri": "https://localhost:8080/"
        },
        "id": "z9P-zqAOR4Rm",
        "outputId": "8fa8b47e-258b-494f-ea8f-e196b63abbd7"
      },
      "source": [
        "!pip3 install spacy\n",
        "!python3 -m spacy download en_core_web_sm"
      ],
      "execution_count": 30,
      "outputs": [
        {
          "output_type": "stream",
          "text": [
            "Requirement already satisfied: spacy in /usr/local/lib/python3.7/dist-packages (2.2.4)\n",
            "Requirement already satisfied: preshed<3.1.0,>=3.0.2 in /usr/local/lib/python3.7/dist-packages (from spacy) (3.0.5)\n",
            "Requirement already satisfied: tqdm<5.0.0,>=4.38.0 in /usr/local/lib/python3.7/dist-packages (from spacy) (4.62.0)\n",
            "Requirement already satisfied: murmurhash<1.1.0,>=0.28.0 in /usr/local/lib/python3.7/dist-packages (from spacy) (1.0.5)\n",
            "Requirement already satisfied: blis<0.5.0,>=0.4.0 in /usr/local/lib/python3.7/dist-packages (from spacy) (0.4.1)\n",
            "Requirement already satisfied: srsly<1.1.0,>=1.0.2 in /usr/local/lib/python3.7/dist-packages (from spacy) (1.0.5)\n",
            "Requirement already satisfied: plac<1.2.0,>=0.9.6 in /usr/local/lib/python3.7/dist-packages (from spacy) (1.1.3)\n",
            "Requirement already satisfied: wasabi<1.1.0,>=0.4.0 in /usr/local/lib/python3.7/dist-packages (from spacy) (0.8.2)\n",
            "Requirement already satisfied: setuptools in /usr/local/lib/python3.7/dist-packages (from spacy) (57.2.0)\n",
            "Requirement already satisfied: catalogue<1.1.0,>=0.0.7 in /usr/local/lib/python3.7/dist-packages (from spacy) (1.0.0)\n",
            "Requirement already satisfied: requests<3.0.0,>=2.13.0 in /usr/local/lib/python3.7/dist-packages (from spacy) (2.23.0)\n",
            "Requirement already satisfied: thinc==7.4.0 in /usr/local/lib/python3.7/dist-packages (from spacy) (7.4.0)\n",
            "Requirement already satisfied: numpy>=1.15.0 in /usr/local/lib/python3.7/dist-packages (from spacy) (1.19.5)\n",
            "Requirement already satisfied: cymem<2.1.0,>=2.0.2 in /usr/local/lib/python3.7/dist-packages (from spacy) (2.0.5)\n",
            "Requirement already satisfied: importlib-metadata>=0.20 in /usr/local/lib/python3.7/dist-packages (from catalogue<1.1.0,>=0.0.7->spacy) (4.6.3)\n",
            "Requirement already satisfied: typing-extensions>=3.6.4 in /usr/local/lib/python3.7/dist-packages (from importlib-metadata>=0.20->catalogue<1.1.0,>=0.0.7->spacy) (3.7.4.3)\n",
            "Requirement already satisfied: zipp>=0.5 in /usr/local/lib/python3.7/dist-packages (from importlib-metadata>=0.20->catalogue<1.1.0,>=0.0.7->spacy) (3.5.0)\n",
            "Requirement already satisfied: chardet<4,>=3.0.2 in /usr/local/lib/python3.7/dist-packages (from requests<3.0.0,>=2.13.0->spacy) (3.0.4)\n",
            "Requirement already satisfied: certifi>=2017.4.17 in /usr/local/lib/python3.7/dist-packages (from requests<3.0.0,>=2.13.0->spacy) (2021.5.30)\n",
            "Requirement already satisfied: urllib3!=1.25.0,!=1.25.1,<1.26,>=1.21.1 in /usr/local/lib/python3.7/dist-packages (from requests<3.0.0,>=2.13.0->spacy) (1.24.3)\n",
            "Requirement already satisfied: idna<3,>=2.5 in /usr/local/lib/python3.7/dist-packages (from requests<3.0.0,>=2.13.0->spacy) (2.10)\n",
            "Collecting en_core_web_sm==2.2.5\n",
            "  Downloading https://github.com/explosion/spacy-models/releases/download/en_core_web_sm-2.2.5/en_core_web_sm-2.2.5.tar.gz (12.0 MB)\n",
            "\u001b[K     |████████████████████████████████| 12.0 MB 3.9 MB/s \n",
            "\u001b[?25hRequirement already satisfied: spacy>=2.2.2 in /usr/local/lib/python3.7/dist-packages (from en_core_web_sm==2.2.5) (2.2.4)\n",
            "Requirement already satisfied: cymem<2.1.0,>=2.0.2 in /usr/local/lib/python3.7/dist-packages (from spacy>=2.2.2->en_core_web_sm==2.2.5) (2.0.5)\n",
            "Requirement already satisfied: wasabi<1.1.0,>=0.4.0 in /usr/local/lib/python3.7/dist-packages (from spacy>=2.2.2->en_core_web_sm==2.2.5) (0.8.2)\n",
            "Requirement already satisfied: tqdm<5.0.0,>=4.38.0 in /usr/local/lib/python3.7/dist-packages (from spacy>=2.2.2->en_core_web_sm==2.2.5) (4.62.0)\n",
            "Requirement already satisfied: thinc==7.4.0 in /usr/local/lib/python3.7/dist-packages (from spacy>=2.2.2->en_core_web_sm==2.2.5) (7.4.0)\n",
            "Requirement already satisfied: plac<1.2.0,>=0.9.6 in /usr/local/lib/python3.7/dist-packages (from spacy>=2.2.2->en_core_web_sm==2.2.5) (1.1.3)\n",
            "Requirement already satisfied: blis<0.5.0,>=0.4.0 in /usr/local/lib/python3.7/dist-packages (from spacy>=2.2.2->en_core_web_sm==2.2.5) (0.4.1)\n",
            "Requirement already satisfied: srsly<1.1.0,>=1.0.2 in /usr/local/lib/python3.7/dist-packages (from spacy>=2.2.2->en_core_web_sm==2.2.5) (1.0.5)\n",
            "Requirement already satisfied: catalogue<1.1.0,>=0.0.7 in /usr/local/lib/python3.7/dist-packages (from spacy>=2.2.2->en_core_web_sm==2.2.5) (1.0.0)\n",
            "Requirement already satisfied: setuptools in /usr/local/lib/python3.7/dist-packages (from spacy>=2.2.2->en_core_web_sm==2.2.5) (57.2.0)\n",
            "Requirement already satisfied: numpy>=1.15.0 in /usr/local/lib/python3.7/dist-packages (from spacy>=2.2.2->en_core_web_sm==2.2.5) (1.19.5)\n",
            "Requirement already satisfied: murmurhash<1.1.0,>=0.28.0 in /usr/local/lib/python3.7/dist-packages (from spacy>=2.2.2->en_core_web_sm==2.2.5) (1.0.5)\n",
            "Requirement already satisfied: requests<3.0.0,>=2.13.0 in /usr/local/lib/python3.7/dist-packages (from spacy>=2.2.2->en_core_web_sm==2.2.5) (2.23.0)\n",
            "Requirement already satisfied: preshed<3.1.0,>=3.0.2 in /usr/local/lib/python3.7/dist-packages (from spacy>=2.2.2->en_core_web_sm==2.2.5) (3.0.5)\n",
            "Requirement already satisfied: importlib-metadata>=0.20 in /usr/local/lib/python3.7/dist-packages (from catalogue<1.1.0,>=0.0.7->spacy>=2.2.2->en_core_web_sm==2.2.5) (4.6.3)\n",
            "Requirement already satisfied: typing-extensions>=3.6.4 in /usr/local/lib/python3.7/dist-packages (from importlib-metadata>=0.20->catalogue<1.1.0,>=0.0.7->spacy>=2.2.2->en_core_web_sm==2.2.5) (3.7.4.3)\n",
            "Requirement already satisfied: zipp>=0.5 in /usr/local/lib/python3.7/dist-packages (from importlib-metadata>=0.20->catalogue<1.1.0,>=0.0.7->spacy>=2.2.2->en_core_web_sm==2.2.5) (3.5.0)\n",
            "Requirement already satisfied: urllib3!=1.25.0,!=1.25.1,<1.26,>=1.21.1 in /usr/local/lib/python3.7/dist-packages (from requests<3.0.0,>=2.13.0->spacy>=2.2.2->en_core_web_sm==2.2.5) (1.24.3)\n",
            "Requirement already satisfied: idna<3,>=2.5 in /usr/local/lib/python3.7/dist-packages (from requests<3.0.0,>=2.13.0->spacy>=2.2.2->en_core_web_sm==2.2.5) (2.10)\n",
            "Requirement already satisfied: chardet<4,>=3.0.2 in /usr/local/lib/python3.7/dist-packages (from requests<3.0.0,>=2.13.0->spacy>=2.2.2->en_core_web_sm==2.2.5) (3.0.4)\n",
            "Requirement already satisfied: certifi>=2017.4.17 in /usr/local/lib/python3.7/dist-packages (from requests<3.0.0,>=2.13.0->spacy>=2.2.2->en_core_web_sm==2.2.5) (2021.5.30)\n",
            "\u001b[38;5;2m✔ Download and installation successful\u001b[0m\n",
            "You can now load the model via spacy.load('en_core_web_sm')\n"
          ],
          "name": "stdout"
        }
      ]
    },
    {
      "cell_type": "code",
      "metadata": {
        "colab": {
          "base_uri": "https://localhost:8080/"
        },
        "id": "WXwNfbvUR6jv",
        "outputId": "e39e94b4-2216-4733-a8fd-836e3d4f0327"
      },
      "source": [
        "import nltk\n",
        "nltk.download('punkt')\n",
        "nltk.download('averaged_perceptron_tagger')"
      ],
      "execution_count": 31,
      "outputs": [
        {
          "output_type": "stream",
          "text": [
            "[nltk_data] Downloading package punkt to /root/nltk_data...\n",
            "[nltk_data]   Unzipping tokenizers/punkt.zip.\n",
            "[nltk_data] Downloading package averaged_perceptron_tagger to\n",
            "[nltk_data]     /root/nltk_data...\n",
            "[nltk_data]   Unzipping taggers/averaged_perceptron_tagger.zip.\n"
          ],
          "name": "stdout"
        },
        {
          "output_type": "execute_result",
          "data": {
            "text/plain": [
              "True"
            ]
          },
          "metadata": {
            "tags": []
          },
          "execution_count": 31
        }
      ]
    },
    {
      "cell_type": "code",
      "metadata": {
        "id": "YU79ujcgR8fY"
      },
      "source": [
        "CORPUS = [\n",
        "          # race.\n",
        "          \"Technology is integral to the advancement of the human race\", # 명사.\n",
        "          \"I race towards the end of my life\"  # 동사\n",
        "]"
      ],
      "execution_count": 32,
      "outputs": []
    },
    {
      "cell_type": "code",
      "metadata": {
        "id": "cMtZeep5R9-h"
      },
      "source": [
        "import spacy\n",
        "nlp = spacy.load('en_core_web_sm')\n"
      ],
      "execution_count": 33,
      "outputs": []
    },
    {
      "cell_type": "code",
      "metadata": {
        "colab": {
          "base_uri": "https://localhost:8080/"
        },
        "id": "I4vaS8hUR_cu",
        "outputId": "abd389fc-40a4-4091-c928-c5a574233cca"
      },
      "source": [
        "for sent in CORPUS:\n",
        "  tokens = word_tokenize(sent)\n",
        "  poses = pos_tag(tokens)\n",
        "  poses_spacy = [\n",
        "           (token.text, token.pos_)\n",
        "           for token in nlp(sent)\n",
        "  ]\n",
        "  print(poses)\n",
        "  # 더정확한 예측기반 모델\n",
        "  print(poses_spacy)"
      ],
      "execution_count": 34,
      "outputs": [
        {
          "output_type": "stream",
          "text": [
            "[('Technology', 'NN'), ('is', 'VBZ'), ('integral', 'JJ'), ('to', 'TO'), ('the', 'DT'), ('advancement', 'NN'), ('of', 'IN'), ('the', 'DT'), ('human', 'JJ'), ('race', 'NN')]\n",
            "[('Technology', 'NOUN'), ('is', 'AUX'), ('integral', 'ADJ'), ('to', 'ADP'), ('the', 'DET'), ('advancement', 'NOUN'), ('of', 'ADP'), ('the', 'DET'), ('human', 'ADJ'), ('race', 'NOUN')]\n",
            "[('I', 'PRP'), ('race', 'NN'), ('towards', 'IN'), ('the', 'DT'), ('end', 'NN'), ('of', 'IN'), ('my', 'PRP$'), ('life', 'NN')]\n",
            "[('I', 'PRON'), ('race', 'VERB'), ('towards', 'ADP'), ('the', 'DET'), ('end', 'NOUN'), ('of', 'ADP'), ('my', 'DET'), ('life', 'NOUN')]\n"
          ],
          "name": "stdout"
        }
      ]
    },
    {
      "cell_type": "code",
      "metadata": {
        "colab": {
          "base_uri": "https://localhost:8080/",
          "height": 650
        },
        "id": "MCCJtyuuSB06",
        "outputId": "37a60682-bb82-4059-998b-a2984eb05b99"
      },
      "source": [
        "# konlpy\n",
        "!pip3 install konlpy"
      ],
      "execution_count": 35,
      "outputs": [
        {
          "output_type": "stream",
          "text": [
            "Collecting konlpy\n",
            "  Downloading konlpy-0.5.2-py2.py3-none-any.whl (19.4 MB)\n",
            "\u001b[K     |████████████████████████████████| 19.4 MB 1.3 MB/s \n",
            "\u001b[?25hRequirement already satisfied: tweepy>=3.7.0 in /usr/local/lib/python3.7/dist-packages (from konlpy) (3.10.0)\n",
            "Requirement already satisfied: lxml>=4.1.0 in /usr/local/lib/python3.7/dist-packages (from konlpy) (4.2.6)\n",
            "Collecting beautifulsoup4==4.6.0\n",
            "  Downloading beautifulsoup4-4.6.0-py3-none-any.whl (86 kB)\n",
            "\u001b[K     |████████████████████████████████| 86 kB 5.5 MB/s \n",
            "\u001b[?25hCollecting JPype1>=0.7.0\n",
            "  Downloading JPype1-1.3.0-cp37-cp37m-manylinux_2_5_x86_64.manylinux1_x86_64.whl (448 kB)\n",
            "\u001b[K     |████████████████████████████████| 448 kB 75.9 MB/s \n",
            "\u001b[?25hCollecting colorama\n",
            "  Downloading colorama-0.4.4-py2.py3-none-any.whl (16 kB)\n",
            "Requirement already satisfied: numpy>=1.6 in /usr/local/lib/python3.7/dist-packages (from konlpy) (1.19.5)\n",
            "Requirement already satisfied: typing-extensions in /usr/local/lib/python3.7/dist-packages (from JPype1>=0.7.0->konlpy) (3.7.4.3)\n",
            "Requirement already satisfied: six>=1.10.0 in /usr/local/lib/python3.7/dist-packages (from tweepy>=3.7.0->konlpy) (1.15.0)\n",
            "Requirement already satisfied: requests-oauthlib>=0.7.0 in /usr/local/lib/python3.7/dist-packages (from tweepy>=3.7.0->konlpy) (1.3.0)\n",
            "Requirement already satisfied: requests[socks]>=2.11.1 in /usr/local/lib/python3.7/dist-packages (from tweepy>=3.7.0->konlpy) (2.23.0)\n",
            "Requirement already satisfied: oauthlib>=3.0.0 in /usr/local/lib/python3.7/dist-packages (from requests-oauthlib>=0.7.0->tweepy>=3.7.0->konlpy) (3.1.1)\n",
            "Requirement already satisfied: chardet<4,>=3.0.2 in /usr/local/lib/python3.7/dist-packages (from requests[socks]>=2.11.1->tweepy>=3.7.0->konlpy) (3.0.4)\n",
            "Requirement already satisfied: idna<3,>=2.5 in /usr/local/lib/python3.7/dist-packages (from requests[socks]>=2.11.1->tweepy>=3.7.0->konlpy) (2.10)\n",
            "Requirement already satisfied: urllib3!=1.25.0,!=1.25.1,<1.26,>=1.21.1 in /usr/local/lib/python3.7/dist-packages (from requests[socks]>=2.11.1->tweepy>=3.7.0->konlpy) (1.24.3)\n",
            "Requirement already satisfied: certifi>=2017.4.17 in /usr/local/lib/python3.7/dist-packages (from requests[socks]>=2.11.1->tweepy>=3.7.0->konlpy) (2021.5.30)\n",
            "Requirement already satisfied: PySocks!=1.5.7,>=1.5.6 in /usr/local/lib/python3.7/dist-packages (from requests[socks]>=2.11.1->tweepy>=3.7.0->konlpy) (1.7.1)\n",
            "Installing collected packages: JPype1, colorama, beautifulsoup4, konlpy\n",
            "  Attempting uninstall: beautifulsoup4\n",
            "    Found existing installation: beautifulsoup4 4.6.3\n",
            "    Uninstalling beautifulsoup4-4.6.3:\n",
            "      Successfully uninstalled beautifulsoup4-4.6.3\n",
            "Successfully installed JPype1-1.3.0 beautifulsoup4-4.6.0 colorama-0.4.4 konlpy-0.5.2\n"
          ],
          "name": "stdout"
        },
        {
          "output_type": "display_data",
          "data": {
            "application/vnd.colab-display-data+json": {
              "pip_warning": {
                "packages": [
                  "bs4"
                ]
              }
            }
          },
          "metadata": {
            "tags": []
          }
        }
      ]
    },
    {
      "cell_type": "code",
      "metadata": {
        "colab": {
          "base_uri": "https://localhost:8080/"
        },
        "id": "R02B97VHSHGv",
        "outputId": "a8c601a1-66c7-4a97-835e-b0cd8f3faf7d"
      },
      "source": [
        "from konlpy.tag import Kkma, Okt\n",
        "\n",
        "kkma = Kkma() # 서울대 IDS 연구실에서 개발한 형태소 분석기\n",
        "okt = Okt() # 오픈소스로 개발된 형태소 분석기.\n",
        "\n",
        "# morphs : morpheme = 형태소.\n",
        "# pos : 품사추출 \n",
        "# nouns : 명사만 추출.\n",
        "\n",
        "CORPUS =  [\n",
        "          \"보람이는 강의를 하고 있습니다\",\n",
        "           \"티거는 잠을 자고 있습니다\", \"치타는 벽을 긁고 있습니다.\"\n",
        "]\n",
        "\n",
        "for sent in CORPUS:\n",
        "  print(okt.morphs(sent))\n",
        "  print(okt.pos(sent))\n",
        "  print(okt.nouns(sent))\n",
        "  print(\"============\")\n",
        "  print(kkma.morphs(sent))\n",
        "  print(kkma.pos(sent))\n",
        "  print(kkma.nouns(sent))"
      ],
      "execution_count": 36,
      "outputs": [
        {
          "output_type": "stream",
          "text": [
            "['보람', '이', '는', '강의', '를', '하고', '있습니다']\n",
            "[('보람', 'Noun'), ('이', 'Suffix'), ('는', 'Josa'), ('강의', 'Noun'), ('를', 'Josa'), ('하고', 'Verb'), ('있습니다', 'Adjective')]\n",
            "['보람', '강의']\n",
            "============\n",
            "['보람', '이', '늘', 'ㄴ', '강의', '를', '하', '고', '있', '습니다']\n",
            "[('보람', 'NNG'), ('이', 'JKS'), ('늘', 'VV'), ('ㄴ', 'ETD'), ('강의', 'NNG'), ('를', 'JKO'), ('하', 'VV'), ('고', 'ECE'), ('있', 'VXV'), ('습니다', 'EFN')]\n",
            "['보람', '강의']\n",
            "['티거', '는', '잠', '을', '자고', '있습니다']\n",
            "[('티거', 'Noun'), ('는', 'Josa'), ('잠', 'Noun'), ('을', 'Josa'), ('자고', 'Noun'), ('있습니다', 'Adjective')]\n",
            "['티거', '잠', '자고']\n",
            "============\n",
            "['티', '걸', '는', '잠', '을', '자', '고', '있', '습니다']\n",
            "[('티', 'NNG'), ('걸', 'VV'), ('는', 'ETD'), ('잠', 'NNG'), ('을', 'JKO'), ('자', 'VV'), ('고', 'ECE'), ('있', 'VXV'), ('습니다', 'EFN')]\n",
            "['티', '잠']\n",
            "['치타', '는', '벽', '을', '긁고', '있습니다', '.']\n",
            "[('치타', 'Noun'), ('는', 'Josa'), ('벽', 'Noun'), ('을', 'Josa'), ('긁고', 'Verb'), ('있습니다', 'Adjective'), ('.', 'Punctuation')]\n",
            "['치타', '벽']\n",
            "============\n",
            "['치타', '는', '벽', '을', '긁', '고', '있', '습니다', '.']\n",
            "[('치타', 'NNG'), ('는', 'JX'), ('벽', 'NNG'), ('을', 'JKO'), ('긁', 'VV'), ('고', 'ECE'), ('있', 'VXV'), ('습니다', 'EFN'), ('.', 'SF')]\n",
            "['치타', '벽']\n"
          ],
          "name": "stdout"
        }
      ]
    },
    {
      "cell_type": "code",
      "metadata": {
        "id": "gHG1LtqoSbZV",
        "colab": {
          "base_uri": "https://localhost:8080/"
        },
        "outputId": "8ca5f9e7-c561-41df-cec7-1799574a903a"
      },
      "source": [
        "# spacy 라이브러리 설치\n",
        "# https://spacy.io/\n",
        "!pip3 install spacy\n",
        "# 사전훈련된 nlp 모델 다운로드 \n",
        "# https://spacy.io/models/en#en_core_web_sm\n",
        "!python3 -m spacy download en_core_web_sm"
      ],
      "execution_count": 11,
      "outputs": [
        {
          "output_type": "stream",
          "text": [
            "Requirement already satisfied: spacy in /usr/local/lib/python3.7/dist-packages (2.2.4)\n",
            "Requirement already satisfied: preshed<3.1.0,>=3.0.2 in /usr/local/lib/python3.7/dist-packages (from spacy) (3.0.5)\n",
            "Requirement already satisfied: wasabi<1.1.0,>=0.4.0 in /usr/local/lib/python3.7/dist-packages (from spacy) (0.8.2)\n",
            "Requirement already satisfied: blis<0.5.0,>=0.4.0 in /usr/local/lib/python3.7/dist-packages (from spacy) (0.4.1)\n",
            "Requirement already satisfied: srsly<1.1.0,>=1.0.2 in /usr/local/lib/python3.7/dist-packages (from spacy) (1.0.5)\n",
            "Requirement already satisfied: setuptools in /usr/local/lib/python3.7/dist-packages (from spacy) (57.4.0)\n",
            "Requirement already satisfied: thinc==7.4.0 in /usr/local/lib/python3.7/dist-packages (from spacy) (7.4.0)\n",
            "Requirement already satisfied: plac<1.2.0,>=0.9.6 in /usr/local/lib/python3.7/dist-packages (from spacy) (1.1.3)\n",
            "Requirement already satisfied: tqdm<5.0.0,>=4.38.0 in /usr/local/lib/python3.7/dist-packages (from spacy) (4.62.0)\n",
            "Requirement already satisfied: murmurhash<1.1.0,>=0.28.0 in /usr/local/lib/python3.7/dist-packages (from spacy) (1.0.5)\n",
            "Requirement already satisfied: requests<3.0.0,>=2.13.0 in /usr/local/lib/python3.7/dist-packages (from spacy) (2.23.0)\n",
            "Requirement already satisfied: cymem<2.1.0,>=2.0.2 in /usr/local/lib/python3.7/dist-packages (from spacy) (2.0.5)\n",
            "Requirement already satisfied: catalogue<1.1.0,>=0.0.7 in /usr/local/lib/python3.7/dist-packages (from spacy) (1.0.0)\n",
            "Requirement already satisfied: numpy>=1.15.0 in /usr/local/lib/python3.7/dist-packages (from spacy) (1.19.5)\n",
            "Requirement already satisfied: importlib-metadata>=0.20 in /usr/local/lib/python3.7/dist-packages (from catalogue<1.1.0,>=0.0.7->spacy) (4.6.3)\n",
            "Requirement already satisfied: zipp>=0.5 in /usr/local/lib/python3.7/dist-packages (from importlib-metadata>=0.20->catalogue<1.1.0,>=0.0.7->spacy) (3.5.0)\n",
            "Requirement already satisfied: typing-extensions>=3.6.4 in /usr/local/lib/python3.7/dist-packages (from importlib-metadata>=0.20->catalogue<1.1.0,>=0.0.7->spacy) (3.7.4.3)\n",
            "Requirement already satisfied: idna<3,>=2.5 in /usr/local/lib/python3.7/dist-packages (from requests<3.0.0,>=2.13.0->spacy) (2.10)\n",
            "Requirement already satisfied: chardet<4,>=3.0.2 in /usr/local/lib/python3.7/dist-packages (from requests<3.0.0,>=2.13.0->spacy) (3.0.4)\n",
            "Requirement already satisfied: certifi>=2017.4.17 in /usr/local/lib/python3.7/dist-packages (from requests<3.0.0,>=2.13.0->spacy) (2021.5.30)\n",
            "Requirement already satisfied: urllib3!=1.25.0,!=1.25.1,<1.26,>=1.21.1 in /usr/local/lib/python3.7/dist-packages (from requests<3.0.0,>=2.13.0->spacy) (1.24.3)\n",
            "Collecting en_core_web_sm==2.2.5\n",
            "  Downloading https://github.com/explosion/spacy-models/releases/download/en_core_web_sm-2.2.5/en_core_web_sm-2.2.5.tar.gz (12.0 MB)\n",
            "\u001b[K     |████████████████████████████████| 12.0 MB 4.3 MB/s \n",
            "\u001b[?25hRequirement already satisfied: spacy>=2.2.2 in /usr/local/lib/python3.7/dist-packages (from en_core_web_sm==2.2.5) (2.2.4)\n",
            "Requirement already satisfied: wasabi<1.1.0,>=0.4.0 in /usr/local/lib/python3.7/dist-packages (from spacy>=2.2.2->en_core_web_sm==2.2.5) (0.8.2)\n",
            "Requirement already satisfied: catalogue<1.1.0,>=0.0.7 in /usr/local/lib/python3.7/dist-packages (from spacy>=2.2.2->en_core_web_sm==2.2.5) (1.0.0)\n",
            "Requirement already satisfied: cymem<2.1.0,>=2.0.2 in /usr/local/lib/python3.7/dist-packages (from spacy>=2.2.2->en_core_web_sm==2.2.5) (2.0.5)\n",
            "Requirement already satisfied: thinc==7.4.0 in /usr/local/lib/python3.7/dist-packages (from spacy>=2.2.2->en_core_web_sm==2.2.5) (7.4.0)\n",
            "Requirement already satisfied: plac<1.2.0,>=0.9.6 in /usr/local/lib/python3.7/dist-packages (from spacy>=2.2.2->en_core_web_sm==2.2.5) (1.1.3)\n",
            "Requirement already satisfied: requests<3.0.0,>=2.13.0 in /usr/local/lib/python3.7/dist-packages (from spacy>=2.2.2->en_core_web_sm==2.2.5) (2.23.0)\n",
            "Requirement already satisfied: srsly<1.1.0,>=1.0.2 in /usr/local/lib/python3.7/dist-packages (from spacy>=2.2.2->en_core_web_sm==2.2.5) (1.0.5)\n",
            "Requirement already satisfied: setuptools in /usr/local/lib/python3.7/dist-packages (from spacy>=2.2.2->en_core_web_sm==2.2.5) (57.4.0)\n",
            "Requirement already satisfied: preshed<3.1.0,>=3.0.2 in /usr/local/lib/python3.7/dist-packages (from spacy>=2.2.2->en_core_web_sm==2.2.5) (3.0.5)\n",
            "Requirement already satisfied: numpy>=1.15.0 in /usr/local/lib/python3.7/dist-packages (from spacy>=2.2.2->en_core_web_sm==2.2.5) (1.19.5)\n",
            "Requirement already satisfied: murmurhash<1.1.0,>=0.28.0 in /usr/local/lib/python3.7/dist-packages (from spacy>=2.2.2->en_core_web_sm==2.2.5) (1.0.5)\n",
            "Requirement already satisfied: tqdm<5.0.0,>=4.38.0 in /usr/local/lib/python3.7/dist-packages (from spacy>=2.2.2->en_core_web_sm==2.2.5) (4.62.0)\n",
            "Requirement already satisfied: blis<0.5.0,>=0.4.0 in /usr/local/lib/python3.7/dist-packages (from spacy>=2.2.2->en_core_web_sm==2.2.5) (0.4.1)\n",
            "Requirement already satisfied: importlib-metadata>=0.20 in /usr/local/lib/python3.7/dist-packages (from catalogue<1.1.0,>=0.0.7->spacy>=2.2.2->en_core_web_sm==2.2.5) (4.6.3)\n",
            "Requirement already satisfied: typing-extensions>=3.6.4 in /usr/local/lib/python3.7/dist-packages (from importlib-metadata>=0.20->catalogue<1.1.0,>=0.0.7->spacy>=2.2.2->en_core_web_sm==2.2.5) (3.7.4.3)\n",
            "Requirement already satisfied: zipp>=0.5 in /usr/local/lib/python3.7/dist-packages (from importlib-metadata>=0.20->catalogue<1.1.0,>=0.0.7->spacy>=2.2.2->en_core_web_sm==2.2.5) (3.5.0)\n",
            "Requirement already satisfied: idna<3,>=2.5 in /usr/local/lib/python3.7/dist-packages (from requests<3.0.0,>=2.13.0->spacy>=2.2.2->en_core_web_sm==2.2.5) (2.10)\n",
            "Requirement already satisfied: urllib3!=1.25.0,!=1.25.1,<1.26,>=1.21.1 in /usr/local/lib/python3.7/dist-packages (from requests<3.0.0,>=2.13.0->spacy>=2.2.2->en_core_web_sm==2.2.5) (1.24.3)\n",
            "Requirement already satisfied: certifi>=2017.4.17 in /usr/local/lib/python3.7/dist-packages (from requests<3.0.0,>=2.13.0->spacy>=2.2.2->en_core_web_sm==2.2.5) (2021.5.30)\n",
            "Requirement already satisfied: chardet<4,>=3.0.2 in /usr/local/lib/python3.7/dist-packages (from requests<3.0.0,>=2.13.0->spacy>=2.2.2->en_core_web_sm==2.2.5) (3.0.4)\n",
            "\u001b[38;5;2m✔ Download and installation successful\u001b[0m\n",
            "You can now load the model via spacy.load('en_core_web_sm')\n"
          ],
          "name": "stdout"
        }
      ]
    },
    {
      "cell_type": "code",
      "metadata": {
        "id": "ZQALM_wsyMJh"
      },
      "source": [
        "# --- the libraries needed --- #\n",
        "import spacy\n",
        "from spacy.matcher import Matcher\n",
        "from typing import List, Dict, Tuple"
      ],
      "execution_count": 12,
      "outputs": []
    },
    {
      "cell_type": "code",
      "metadata": {
        "id": "wZUDc6b1yfP6"
      },
      "source": [
        "IDIOMS = [\n",
        "          # 경제적으로 독립하다, 라느 뜻의 관용구.\n",
        "          \"stand on one's own feet\",\n",
        "          # \"눈을 뜨다\"; 시야를 넓히다. \n",
        "          \"open one's eyes\"\n",
        "]\n",
        "\n",
        "BATCH: List[Tuple[str , str]] = [\n",
        "    # --- stand on one's own feet의 용례 --- #\n",
        "    (\"if you don't want to do the chores, move out and stand on your own feet!\", IDIOMS[0]), # one's -> your\n",
        "    (\"It's difficult for students to stand on their own feet without help from their parents\", IDIOMS[0]), # one's -> their\n",
        "    (\"I've been standing on my own feet since I was sixteen years old\",  IDIOMS[0]), # stand -> standing, one's -> my\n",
        "    # --- open one's eyes의 용례 --- #\n",
        "    (\"the letter finally opened my eyes to the truth\", IDIOMS[1]),  # open -> opended, one's -> my\n",
        "    (\"The documentary really opened her eyes to the conditions in that country\", IDIOMS[1]), # open -> opended, one's -> her\n",
        "]\n",
        "# natural language pipeline (nlp) 로드하기\n",
        "nlp = spacy.load(\"en_core_web_sm\")\n",
        "# stand on one's own feet으로부터, 소유격이 들어가야 하는 부분은 one's 로 표기될 것임을 알 수 있습니다.\n",
        "# 나중에 키워드로 사용하기 위해 여기에 미리 상수로 정의해둘게요.\n",
        "PRP_PLACEHOLDER = \"one's\""
      ],
      "execution_count": 13,
      "outputs": []
    },
    {
      "cell_type": "code",
      "metadata": {
        "colab": {
          "base_uri": "https://localhost:8080/"
        },
        "id": "KiRm2dacyxb8",
        "outputId": "9935c3f9-92cd-4a82-b1ba-063f50bc0b49"
      },
      "source": [
        "sent = BATCH[0][0]  \n",
        "attrs = [\n",
        "           # (토큰, 추출된 표제어, 추출된 품사(coarse), 추출된 더 자세한 품사(fine-grained))\n",
        "           (token.text, token.lemma_, token.pos_, token.tag_)\n",
        "           for token in nlp(sent)\n",
        "]\n",
        "for info in attrs:\n",
        "  print(info)"
      ],
      "execution_count": 14,
      "outputs": [
        {
          "output_type": "stream",
          "text": [
            "('if', 'if', 'SCONJ', 'IN')\n",
            "('you', '-PRON-', 'PRON', 'PRP')\n",
            "('do', 'do', 'AUX', 'VBP')\n",
            "(\"n't\", 'not', 'PART', 'RB')\n",
            "('want', 'want', 'VERB', 'VB')\n",
            "('to', 'to', 'PART', 'TO')\n",
            "('do', 'do', 'AUX', 'VB')\n",
            "('the', 'the', 'DET', 'DT')\n",
            "('chores', 'chore', 'NOUN', 'NNS')\n",
            "(',', ',', 'PUNCT', ',')\n",
            "('move', 'move', 'VERB', 'VB')\n",
            "('out', 'out', 'ADV', 'RB')\n",
            "('and', 'and', 'CCONJ', 'CC')\n",
            "('stand', 'stand', 'VERB', 'VB')\n",
            "('on', 'on', 'ADP', 'IN')\n",
            "('your', '-PRON-', 'DET', 'PRP$')\n",
            "('own', 'own', 'ADJ', 'JJ')\n",
            "('feet', 'foot', 'NOUN', 'NNS')\n",
            "('!', '!', 'PUNCT', '.')\n"
          ],
          "name": "stdout"
        }
      ]
    },
    {
      "cell_type": "code",
      "metadata": {
        "colab": {
          "base_uri": "https://localhost:8080/"
        },
        "id": "PiZ1AU2Sy4mw",
        "outputId": "a795b8ed-299e-4d03-fecd-89b8b823cc1f"
      },
      "source": [
        "print(spacy.explain(\"PRP\"))  #  e.g. you, them, I\n",
        "print(spacy.explain(\"PRP$\"))  # e.g. your, their, my\n",
        "print(spacy.explain(\"AUX\")) # e.g. auxilary = 보\"조\"하는 이라는 뜻의 형용사입니다. 즉 AUX는 \"조\"동사를 의미합니다: do, can, will \n",
        "print(spacy.explain(\"SCONJ\")) # e.g. if, because, when "
      ],
      "execution_count": 15,
      "outputs": [
        {
          "output_type": "stream",
          "text": [
            "pronoun, personal\n",
            "pronoun, possessive\n",
            "auxiliary\n",
            "subordinating conjunction\n"
          ],
          "name": "stdout"
        }
      ]
    },
    {
      "cell_type": "code",
      "metadata": {
        "colab": {
          "base_uri": "https://localhost:8080/"
        },
        "id": "uAqshLJpy_O8",
        "outputId": "2ddf819d-109d-4643-b904-309567b6be90"
      },
      "source": [
        "for idiom in IDIOMS: \n",
        "  print(list(nlp(idiom)))"
      ],
      "execution_count": 16,
      "outputs": [
        {
          "output_type": "stream",
          "text": [
            "[stand, on, one, 's, own, feet]\n",
            "[open, one, 's, eyes]\n"
          ],
          "name": "stdout"
        }
      ]
    },
    {
      "cell_type": "code",
      "metadata": {
        "colab": {
          "base_uri": "https://localhost:8080/"
        },
        "id": "FyMYMy54zBM1",
        "outputId": "190bf764-b06e-4882-8993-5f58164b45d2"
      },
      "source": [
        "SPECIAL_CASE = [{\"ORTH\": \"one's\"}]\n",
        "nlp.tokenizer.add_special_case(PRP_PLACEHOLDER, SPECIAL_CASE)\n",
        "for idiom in IDIOMS: \n",
        "  # 이제 one's를 하나의 토큰으로 취급할 것 입니다.\n",
        "  print(list(nlp(idiom)))"
      ],
      "execution_count": 17,
      "outputs": [
        {
          "output_type": "stream",
          "text": [
            "[stand, on, one's, own, feet]\n",
            "[open, one's, eyes]\n"
          ],
          "name": "stdout"
        }
      ]
    },
    {
      "cell_type": "code",
      "metadata": {
        "colab": {
          "base_uri": "https://localhost:8080/"
        },
        "id": "3AZmtxvbzJdN",
        "outputId": "a35ed7d4-b023-4e2b-a6a8-3a15eb563724"
      },
      "source": [
        "# --- Matcher 의 사용예시 --- # \n",
        "# 문법적 오류가 없는 문장, 그리고 의미상 호감을 표현하는 문장만 매치를 해봅시다.\n",
        "KEY = \"a grammatically correct expression of affection\"\n",
        "EG_BATCH = [\n",
        "            \"I love apples\",\n",
        "            \"I loved him\", \n",
        "            \"I like nlp\",\n",
        "            \"I liked\",\n",
        "            \"I loved\",\n",
        "            \"I hate them\"\n",
        "]\n",
        "\n",
        "# 이를 위해 다음과 같은 패턴을 만들어볼 수 있습니다.\n",
        "patterns = [\n",
        "  {\"TEXT\": \"I\"},  # 첫번째 단어는 반드시 I로 하겠다.\n",
        "  {\"LEMMA\": {\"IN\": [\"like\", \"love\"]}},  # 두번째 단어의 표제어는 반드시 like, love 중 하나여야 한다.\n",
        "  {\"POS\": {\"IN\": [\"PRON\", \"NOUN\"]}}  # 품사추출의 활용; liked, loved는 타동사 이므로, 세번째 단어로는 반드시 목적어가 와야한다.\n",
        "]\n",
        "\n",
        "love_matcher = Matcher(nlp.vocab)\n",
        "love_matcher.add(KEY, [patterns]) # 다음의 문서참조; https://spacy.io/api/matcher#add\n",
        "for sent in EG_BATCH:\n",
        "  doc = nlp(sent)\n",
        "  matches = love_matcher(doc)\n",
        "  if matches:\n",
        "    match_id, start_idx, end_idx = matches[0] \n",
        "    # nlp.vocab.strings를 통해, 토큰의 id -> 토큰의 str을 얻을 수 있습니다.\n",
        "    key = nlp.vocab.strings[match_id]\n",
        "    # 결과를 확인해볼게요!\n",
        "    print(doc[start_idx: end_idx], \"->\", key)\n",
        "# ---------------------- #\n"
      ],
      "execution_count": 8,
      "outputs": [
        {
          "output_type": "stream",
          "text": [
            "I love apples -> a grammatically correct expression of affection\n",
            "I loved him -> a grammatically correct expression of affection\n",
            "I like nlp -> a grammatically correct expression of affection\n"
          ],
          "name": "stdout"
        }
      ]
    },
    {
      "cell_type": "code",
      "metadata": {
        "id": "pTjd7upozoUp"
      },
      "source": [
        "def build_patterns(idiom: str) -> List[dict]:\n",
        "\n",
        "    global PRP_PLACEHOLDER, nlp\n",
        "\n",
        "    patterns: List[dict] = list()\n",
        "    doc = nlp(idiom)\n",
        "    # --- TODO 1 --- #\n",
        "    # hint1: 만약 token.text == one's 라면, 패턴을 어떻게 정의해야할까요?\n",
        "    # hint2: 나머지 단어는 패턴을 어떻게 정의해야할까요? LEMMA를 활용해볼 수 있을까요?\n",
        "    for token in doc:\n",
        "      if token.text == PRP_PLACEHOLDER:\n",
        "         pattern = {\"TAG\": \"PRP$\"}\n",
        "      else:\n",
        "          pattern = {\"LEMMA\": token.lemma_}\n",
        "      patterns.append(pattern)\n",
        "    return patterns\n",
        "    # -------------- #"
      ],
      "execution_count": 19,
      "outputs": []
    },
    {
      "cell_type": "code",
      "metadata": {
        "id": "ORkD4Nltz2mG"
      },
      "source": [
        "\n",
        "def build_patterns_list_comp(idiom: str) -> List[dict]:\n",
        "  global PRP_PLACEHOLDER, nlp\n",
        "  # --- TODO 2 --- # \n",
        "  # list comprehension을 활용하면, build_patterns와 동일한 코드를 한줄로(!?)작성할 수 있습니다.\n",
        "\n",
        "  # hint: if-else 문을 list comprehension 속에 집어넣을 수도 있습니다! - https://stackoverflow.com/a/4406399\n",
        "  patterns: List[dict] = [\n",
        "                          # dictionary 정의\n",
        "                          {\"TAG\": \"PRP$\"} if token.text == PRP_PLACEHOLDER\n",
        "                          else {\"LEMMA\": token.lemma_}\n",
        "                          for token in nlp(idiom)\n",
        "  ]\n",
        "  return patterns\n",
        "  # -------------- #"
      ],
      "execution_count": 23,
      "outputs": []
    },
    {
      "cell_type": "code",
      "metadata": {
        "id": "9SjvYErxz3z9"
      },
      "source": [
        "# matcher를 만들어보겠습니다!\n",
        "idiom_matcher = Matcher(nlp.vocab)\n",
        "for idiom in IDIOMS:\n",
        "  # idiom_patterns = build_patterns_list_comp(idiom)\n",
        "  # list comprehension으로 구현하는 것에 성공하셨다면, 아래 함수를 사용해서 테스트해보세요!\n",
        "  idiom_patterns = build_patterns(idiom)\n",
        "  idiom_matcher.add(idiom, [idiom_patterns])\n"
      ],
      "execution_count": 24,
      "outputs": []
    },
    {
      "cell_type": "code",
      "metadata": {
        "colab": {
          "base_uri": "https://localhost:8080/"
        },
        "id": "Rlt9TpBwz6g0",
        "outputId": "a4c1dbef-f4fb-4ace-a2b6-cdefe2629edf"
      },
      "source": [
        "# 이제 준비한 BATCH로 idiom_matcher를 테스트 해봅시다. \n",
        "correct = 0\n",
        "total = len(BATCH)\n",
        "for eg, idiom in BATCH:\n",
        "  doc = nlp(eg)\n",
        "  res = idiom_matcher(doc)\n",
        "  if res:  # if len(res) > 0와 의미는 같습니다.\n",
        "    # 한 문장에 여러 관용구가 나올수도 있으므로, res의 타입은 list입니다.\n",
        "    # 우리의 BATCH 데이터에는 한 문장에 하나의 관용구만 존재하므로, res[0]로 첫번째 결과를 가져와줍니다.\n",
        "    match_id, start_idx, end_idx = res[0]\n",
        "    match_idiom = nlp.vocab.strings[match_id]\n",
        "    # list slicing으로 해당 관용구의 활용형을 가져옵니다.\n",
        "    print(doc[start_idx:end_idx], \"->\", match_idiom)\n",
        "    if match_idiom == idiom:\n",
        "      correct += 1\n",
        "\n",
        "# 최대값인 1.0이 나오면 성공입니다!\n",
        "print(\"관용구 검출 정확도:\", correct / total)\n"
      ],
      "execution_count": 25,
      "outputs": [
        {
          "output_type": "stream",
          "text": [
            "stand on your own feet -> stand on one's own feet\n",
            "stand on their own feet -> stand on one's own feet\n",
            "standing on my own feet -> stand on one's own feet\n",
            "opened my eyes -> open one's eyes\n",
            "opened her eyes -> open one's eyes\n",
            "관용구 검출 정확도: 1.0\n"
          ],
          "name": "stdout"
        }
      ]
    }
  ]
}