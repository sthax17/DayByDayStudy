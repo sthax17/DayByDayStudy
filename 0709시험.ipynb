{
  "nbformat": 4,
  "nbformat_minor": 0,
  "metadata": {
    "colab": {
      "name": "0709시험.ipynb",
      "provenance": []
    },
    "kernelspec": {
      "name": "python3",
      "display_name": "Python 3"
    },
    "language_info": {
      "name": "python"
    }
  },
  "cells": [
    {
      "cell_type": "code",
      "metadata": {
        "id": "1QZ1DDNXyXE1"
      },
      "source": [
        "line = \"SECRET_KEY=test_secret_key\"\n",
        "start = line.find('=')\n",
        "print(start)"
      ],
      "execution_count": null,
      "outputs": []
    },
    {
      "cell_type": "code",
      "metadata": {
        "id": "kNEzjKYO435u"
      },
      "source": [
        "def function(*args, **kwargs):\n",
        "  print(args)\n",
        "function(\"testing\", \"optional\", test=\"arguments\", name=\"value\")"
      ],
      "execution_count": null,
      "outputs": []
    },
    {
      "cell_type": "code",
      "metadata": {
        "id": "AfQxiFPP9CHY"
      },
      "source": [
        ""
      ],
      "execution_count": null,
      "outputs": []
    },
    {
      "cell_type": "code",
      "metadata": {
        "id": "8vt3MH-v9CMz"
      },
      "source": [
        "from bs4 import BeautifulSoup"
      ],
      "execution_count": 2,
      "outputs": []
    },
    {
      "cell_type": "code",
      "metadata": {
        "id": "QCFkYREX-ZH0"
      },
      "source": [
        "html = \"\"\"\n",
        "<html><body>\n",
        "  <ul>\n",
        "    <li><a href=\"http://www.naver.com\">naver</a></li>\n",
        "    <li><a href=\"http://www.daum.net\">daum</a></li>\n",
        "  </ul>\n",
        "</body></html>\n",
        "\"\"\"\n",
        "soup = BeautifulSoup(html, 'html.parser')\n",
        "\n",
        "\n",
        "links = soup.find_all(\"a\")\n",
        "for a in links:\n",
        "  href = a.attrs['href']\n",
        "  text = a.string\n",
        "  print(href, text)"
      ],
      "execution_count": null,
      "outputs": []
    },
    {
      "cell_type": "code",
      "metadata": {
        "id": "ZK5EWe97_Wjf"
      },
      "source": [
        ""
      ],
      "execution_count": null,
      "outputs": []
    },
    {
      "cell_type": "code",
      "metadata": {
        "id": "HqZ66ECS_Wlh"
      },
      "source": [
        "!pip install Selenium"
      ],
      "execution_count": null,
      "outputs": []
    },
    {
      "cell_type": "code",
      "metadata": {
        "id": "YKgb-yXb_Wn2"
      },
      "source": [
        "from selenium import webdriver as wb\n",
        "from bs4 import BeautifulSoup as bs\n",
        "import time\n",
        "import pandas as pd"
      ],
      "execution_count": 11,
      "outputs": []
    },
    {
      "cell_type": "code",
      "metadata": {
        "colab": {
          "base_uri": "https://localhost:8080/"
        },
        "id": "twz98JIQ_sLd",
        "outputId": "c0d1a779-5a05-44ea-ccdf-2cb866216d59"
      },
      "source": [
        "! ap-get install -y font-nanum*"
      ],
      "execution_count": 12,
      "outputs": [
        {
          "output_type": "stream",
          "text": [
            "/bin/bash: ap-get: command not found\n"
          ],
          "name": "stdout"
        }
      ]
    },
    {
      "cell_type": "code",
      "metadata": {
        "id": "G4ETo3tEAQr4"
      },
      "source": [
        "from selenium import webdriver\n",
        "\n",
        "chrome_options = webdriver.chromeOptions()\n",
        "chrome_options.add_argument('--headless')\n",
        "chrome_options.add_argument('--no-sandbox')\n",
        "chrome_options.add_argument('-disable-dev-shm-usage-')  "
      ],
      "execution_count": null,
      "outputs": []
    },
    {
      "cell_type": "code",
      "metadata": {
        "id": "H_IfHRQaAQxT"
      },
      "source": [
        "driver = webdriver.Chrome('chromedriver', chrome_options=chrome_options)"
      ],
      "execution_count": null,
      "outputs": []
    },
    {
      "cell_type": "code",
      "metadata": {
        "id": "cAndv-2lAQ6F"
      },
      "source": [
        ""
      ],
      "execution_count": null,
      "outputs": []
    },
    {
      "cell_type": "code",
      "metadata": {
        "id": "qREW7sOa_sNy"
      },
      "source": [
        "url = 'http://www.istarbucks.co.kr/store/store_map.do'\n",
        "driver.get(url)"
      ],
      "execution_count": null,
      "outputs": []
    },
    {
      "cell_type": "code",
      "metadata": {
        "id": "DwvCWVpL_sSK"
      },
      "source": [
        "names = []\n",
        "addrs = []\n",
        "tels = []\n",
        "\n",
        "name = soup.select('#mCSB_3_container > ul > li > strong')\n",
        "addr = soup.select('#mCSB_3_container > ul > li > p')\n",
        "len(name), len(addr)\n",
        "\n",
        "for i in range(len(name)):\n",
        "  names.append( name[i].text )\n",
        "  addrs.append( addr[i].text[:-9] )\n",
        "  tels.append( addr[i].text[-9:])"
      ],
      "execution_count": null,
      "outputs": []
    },
    {
      "cell_type": "code",
      "metadata": {
        "id": "OLokmhaI_uIY"
      },
      "source": [
        "dic = {'name':names, 'address':addrs, 'tel':tels}\n",
        "df = pd.DataFrame(dic)\n",
        "df.head()"
      ],
      "execution_count": null,
      "outputs": []
    },
    {
      "cell_type": "code",
      "metadata": {
        "id": "cZ_X0u50FAPj"
      },
      "source": [
        "data_shape = 4177\n",
        "mb_size = 2\n",
        "train_ratio = 0.85\n",
        "\n",
        "MiniBatch_step_count = int(data_shape * train_ratio) // mb_size \n",
        "print(\"MiniBatch_step_count :\", MiniBatch_step_count)\n",
        "\n",
        "test_begin_index = MiniBatch_step_count * mb_size \n",
        "print(\"test_begin_index : \", test_begin_index)"
      ],
      "execution_count": null,
      "outputs": []
    },
    {
      "cell_type": "code",
      "metadata": {
        "id": "XQMmEFYTGTr6"
      },
      "source": [
        "print(\"A\")\n",
        "print(\"c\")\n",
        "def message1() :\n",
        "  print(\"B\")\n",
        "def message2() :\n",
        "  print(\"E\")\n",
        "message1()\n",
        "message2()\n",
        "print(\"D\")"
      ],
      "execution_count": null,
      "outputs": []
    },
    {
      "cell_type": "code",
      "metadata": {
        "id": "ECm5uLCuGTuP"
      },
      "source": [
        ""
      ],
      "execution_count": null,
      "outputs": []
    },
    {
      "cell_type": "code",
      "metadata": {
        "id": "3647nttPGTwS"
      },
      "source": [
        ""
      ],
      "execution_count": null,
      "outputs": []
    },
    {
      "cell_type": "code",
      "metadata": {
        "id": "Mwts4dwsGTyR"
      },
      "source": [
        ""
      ],
      "execution_count": null,
      "outputs": []
    }
  ]
}